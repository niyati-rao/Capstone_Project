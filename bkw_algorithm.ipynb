{
 "cells": [
  {
   "cell_type": "code",
   "execution_count": 17,
   "metadata": {},
   "outputs": [],
   "source": [
    "import numpy as np\n",
    "import matplotlib.pyplot as plt\n",
    "import random"
   ]
  },
  {
   "cell_type": "code",
   "execution_count": 18,
   "metadata": {},
   "outputs": [],
   "source": [
    "def generate_data(n, m, p):\n",
    "    # Randomly generate secret vector u\n",
    "    u = np.random.randint(2, size=n)\n",
    "    \n",
    "    # Generate random vectors a_i\n",
    "    A = np.random.randint(2, size=(m, n))\n",
    "    \n",
    "    # Generate noisy bits b_i\n",
    "    B = []\n",
    "    num_noisy = int(p * m)\n",
    "    \n",
    "    # Ensure at least (1 - p)m indices are correct\n",
    "    correct_indices = random.sample(range(m), m - num_noisy)\n",
    "    \n",
    "    for i in range(m):\n",
    "        if i in correct_indices:\n",
    "            b = np.dot(A[i], u) % 2\n",
    "        else:\n",
    "            b = (np.dot(A[i], u) + 1) % 2  # Flip the bit to introduce noise\n",
    "        B.append(b)\n",
    "    \n",
    "    return A, np.array(B), u\n"
   ]
  },
  {
   "cell_type": "code",
   "execution_count": 19,
   "metadata": {},
   "outputs": [],
   "source": [
    "def plot_distribution(B):\n",
    "    plt.hist(B, bins=2, edgecolor='black')\n",
    "    plt.title('Distribution of b_i\\'s')\n",
    "    plt.xlabel('Value')\n",
    "    plt.ylabel('Frequency')\n",
    "    plt.show()\n"
   ]
  },
  {
   "cell_type": "code",
   "execution_count": 27,
   "metadata": {},
   "outputs": [],
   "source": [
    "# Parameters\n",
    "n = 5  # Number of bits in vector a_i and secret vector u\n",
    "m = 20  # Number of samples\n",
    "p = 0.2  # Probability of noise\n",
    "\n",
    "# Generate data\n",
    "A, B, u = generate_data(n, m, p)\n"
   ]
  },
  {
   "cell_type": "code",
   "execution_count": 28,
   "metadata": {},
   "outputs": [
    {
     "data": {
      "image/png": "[encoded data removed]",
      "text/plain": [
       "<Figure size 640x480 with 1 Axes>"
      ]
     },
     "metadata": {},
     "output_type": "display_data"
    }
   ],
   "source": [
    "# Plot distribution of b_i's\n",
    "plot_distribution(B)"
   ]
  },
  {
   "cell_type": "code",
   "execution_count": 29,
   "metadata": {},
   "outputs": [],
   "source": [
    "def exponential_search(A, B, n):\n",
    "    best_u = None\n",
    "    max_correct = -1\n",
    "    \n",
    "    for u_candidate in itertools.product([0, 1], repeat=n):\n",
    "        u_candidate = np.array(u_candidate)\n",
    "        correct_count = np.sum((np.dot(A, u_candidate) % 2) == B)\n",
    "        \n",
    "        if correct_count > max_correct:\n",
    "            max_correct = correct_count\n",
    "            best_u = u_candidate\n",
    "    \n",
    "    return best_u\n"
   ]
  },
  {
   "cell_type": "code",
   "execution_count": 30,
   "metadata": {},
   "outputs": [
    {
     "name": "stdout",
     "output_type": "stream",
     "text": [
      "Secret vector u: [0 0 0 0 1]\n",
      "Found vector u: [0 0 0 0 1]\n",
      "Are they equal? True\n"
     ]
    },
    {
     "ename": "",
     "evalue": "",
     "output_type": "error",
     "traceback": [
      "\u001b[1;31mThe Kernel crashed while executing code in the current cell or a previous cell. \n",
      "\u001b[1;31mPlease review the code in the cell(s) to identify a possible cause of the failure. \n",
      "\u001b[1;31mClick <a href='https://aka.ms/vscodeJupyterKernelCrash'>here</a> for more info. \n",
      "\u001b[1;31mView Jupyter <a href='command:jupyter.viewOutput'>log</a> for further details."
     ]
    }
   ],
   "source": [
    "# Exponential search to find u\n",
    "u_found = exponential_search(A, B, n)\n",
    "\n",
    "print(\"Secret vector u:\", u)\n",
    "print(\"Found vector u:\", u_found)\n",
    "print(\"Are they equal?\", np.array_equal(u, u_found))"
   ]
  },
  {
   "cell_type": "code",
   "execution_count": null,
   "metadata": {},
   "outputs": [],
   "source": []
  }
 ],
 "metadata": {
  "kernelspec": {
   "display_name": "Python 3",
   "language": "python",
   "name": "python3"
  },
  "language_info": {
   "codemirror_mode": {
    "name": "ipython",
    "version": 3
   },
   "file_extension": ".py",
   "mimetype": "text/x-python",
   "name": "python",
   "nbconvert_exporter": "python",
   "pygments_lexer": "ipython3",
   "version": "3.10.11"
  }
 },
 "nbformat": 4,
 "nbformat_minor": 2
}
