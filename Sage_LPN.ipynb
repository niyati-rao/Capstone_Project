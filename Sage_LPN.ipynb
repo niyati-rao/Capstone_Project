{
  "nbformat": 4,
  "nbformat_minor": 0,
  "metadata": {
    "colab": {
      "provenance": [],
      "authorship_tag": "ABX9TyMyKAq8lK6tj2BT0GJgmWpD",
      "include_colab_link": true
    },
    "kernelspec": {
      "name": "python3",
      "display_name": "Python 3"
    },
    "language_info": {
      "name": "python"
    }
  },
  "cells": [
    {
      "cell_type": "markdown",
      "metadata": {
        "id": "view-in-github",
        "colab_type": "text"
      },
      "source": [
        "<a href=\"https://colab.research.google.com/github/niyati-rao/Capstone_Project_LWE/blob/main/Sage_LPN.ipynb\" target=\"_parent\"><img src=\"https://colab.research.google.com/assets/colab-badge.svg\" alt=\"Open In Colab\"/></a>"
      ]
    },
    {
      "cell_type": "markdown",
      "source": [
        "The code below requires SageMath, which cannot be simply installed as a package via e.g, pip, to run. Please locally install Sage and copy and run this code."
      ],
      "metadata": {
        "id": "N8LANWfaD4Ii"
      }
    },
    {
      "cell_type": "code",
      "execution_count": null,
      "metadata": {
        "id": "WxX5ql-nD0tt"
      },
      "outputs": [],
      "source": [
        "from sage.all import GF, PolynomialRing, vector, matrix, SymmetricFunctions\n",
        "import numpy as np\n",
        "import math"
      ]
    },
    {
      "cell_type": "code",
      "source": [
        "def oracle(s, n, m):\n",
        "    a_vectors = [vector(field, [np.random.randint(0, 2) for _ in range(n)]) for _ in range(m)]\n",
        "    b_values = []\n",
        "    incorrect_indices = {np.random.randint(0, m) for _ in range(threshold)}\n",
        "\n",
        "    for i, a in enumerate(a_vectors):\n",
        "        dot_product = sum(a[j] * s[j] for j in range(n))\n",
        "        error = 1 if i in incorrect_indices else 0\n",
        "        b_values.append((dot_product + error) % 2)"
      ],
      "metadata": {
        "id": "dSlo4Bu9EpIa"
      },
      "execution_count": null,
      "outputs": []
    },
    {
      "cell_type": "code",
      "source": [
        "def key_constraint(polynomial, z, problem_instance):\n",
        "    for i, (a_i, b_i) in enumerate(problem_instance):\n",
        "        rewritten_term = sum(a_i[j] * z[j] for j in range(len(z))) + b_i\n",
        "        polynomial = polynomial.subs(**{f\"x{i}\": rewritten_term})\n",
        "    return polynomial"
      ],
      "metadata": {
        "id": "Xk06Ha8gEq8s"
      },
      "execution_count": null,
      "outputs": []
    },
    {
      "cell_type": "code",
      "source": [
        "def solve_groebner(equations, n):\n",
        "    pr = PolynomialRing(field, tuple(f\"x{i}\" for i in range(n)), order=\"lex\")\n",
        "    z = pr.gens()\n",
        "    f = [pr(e) for e in equations]\n",
        "    groebner_basis = pr.ideal(f).groebner_basis()\n",
        "    solution = [int(p.constant_coefficient()) for p in groebner_basis if p.nvariables() == 1 and p.degree() == 1]\n",
        "    return solution"
      ],
      "metadata": {
        "id": "WzlGcs_YEuID"
      },
      "execution_count": null,
      "outputs": []
    },
    {
      "cell_type": "code",
      "source": [
        "n = 15\n",
        "m = 3\n",
        "threshold = m // 3\n",
        "\n",
        "field = GF(2)\n",
        "pr = PolynomialRing(field, tuple(f\"x{i}\" for i in range(n)), order=\"lex\")\n",
        "x = pr.gens()\n",
        "s = SymmetricFunctions(QQ)\n",
        "P = 0\n",
        "for i in range ((m//3)+1, m+1):\n",
        "    sym = s([1 for i in range(i)]).expand(m, x[Integer(0):m])\n",
        "    P += pr(sym.map_coefficients(lambda c: field(c)))\n",
        "\n",
        "s = vector(field, [np.random.randint(0, 2) for _ in range(n)])\n",
        "print(\"Secret key:\", s)\n",
        "num_samples = 10* int(sum([math.comb(n, i) for i in range(m)]) * math.pow(2,2*m))\n",
        "z = [pr.gen(i) for i in range(n)]\n",
        "\n",
        "equations = []\n",
        "for _ in range(num_samples):\n",
        "    instance = oracle(s, n, m)\n",
        "    eqn = key_constraint(P, z, instance)\n",
        "    equations.append(eqn)\n",
        "\n",
        "solution = solve_groebner(equations, n)\n",
        "print(\"Recovered key:\", solution)"
      ],
      "metadata": {
        "id": "hHrXEaCAEe9p"
      },
      "execution_count": null,
      "outputs": []
    }
  ]
}