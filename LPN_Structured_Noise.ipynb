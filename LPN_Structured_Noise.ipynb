{
  "cells": [
    {
      "cell_type": "markdown",
      "metadata": {
        "id": "view-in-github",
        "colab_type": "text"
      },
      "source": [
        "<a href=\"https://colab.research.google.com/github/niyati-rao/Capstone_Project_LWE/blob/main/LPN_Structured_Noise.ipynb\" target=\"_parent\"><img src=\"https://colab.research.google.com/assets/colab-badge.svg\" alt=\"Open In Colab\"/></a>"
      ]
    },
    {
      "cell_type": "markdown",
      "source": [
        "## Generating Instance"
      ],
      "metadata": {
        "id": "oUSdNbyvfmkp"
      }
    },
    {
      "cell_type": "code",
      "execution_count": null,
      "metadata": {
        "colab": {
          "base_uri": "https://localhost:8080/"
        },
        "id": "hWUQAxKS6vRT",
        "outputId": "4032270b-5323-4db7-b256-4aac8883cfd3"
      },
      "outputs": [
        {
          "output_type": "stream",
          "name": "stdout",
          "text": [
            "eta:\n",
            " [1 1 0]\n",
            "Y1:\n",
            " 1\n",
            "Y2:\n",
            " 1\n",
            "Y3:\n",
            " 0\n"
          ]
        }
      ],
      "source": [
        "import numpy as np\n",
        "\n",
        "def generate_errors(m):\n",
        "    while True:\n",
        "        arr = np.random.randint(0, 2, m, dtype=np.uint8)\n",
        "        if np.any(arr == 0):  # Ensure at least one 0\n",
        "            return arr\n",
        "\n",
        "eta = generate_errors(3)\n",
        "print(\"eta:\\n\", eta)\n",
        "\n",
        "def generate_instance_structured_noise(n, m, eta, u):\n",
        "\n",
        "    A = np.random.randint(2, size=(m, n), dtype=np.uint8)\n",
        "    b = np.dot(A, u) % 2\n",
        "\n",
        "    b = (b + eta) % 2\n",
        "\n",
        "    # print(\"Matrix A:\\n\", A)\n",
        "    # print(\"Secret vector u:\\n\", u)\n",
        "    # print(\"Vector b (with structured noise):\\n\", b)\n",
        "\n",
        "    return A, b\n",
        "\n",
        "u = np.random.randint(2, size=10, dtype=np.uint8)\n",
        "A, b = generate_instance_structured_noise(10, 3, eta, u)\n",
        "\n",
        "Y1 = (b[0] + np.dot(A[0], u)) % 2\n",
        "Y2 = (b[1] + np.dot(A[1], u)) % 2\n",
        "Y3 = (b[2] + np.dot(A[2], u)) % 2\n",
        "\n",
        "print(\"Y1:\\n\", Y1)\n",
        "print(\"Y2:\\n\", Y2)\n",
        "print(\"Y3:\\n\", Y3)"
      ]
    },
    {
      "cell_type": "markdown",
      "source": [
        "## Checking the Equations"
      ],
      "metadata": {
        "id": "mfSfqZklfvn-"
      }
    },
    {
      "cell_type": "code",
      "execution_count": null,
      "metadata": {
        "colab": {
          "base_uri": "https://localhost:8080/"
        },
        "id": "WSO7A0JN6402",
        "outputId": "f656c884-78d6-4108-f318-4dbc4ffab68a"
      },
      "outputs": [
        {
          "output_type": "stream",
          "name": "stdout",
          "text": [
            "Eta:  [1 0 0]\n",
            "Roots of the polynomial in terms of A, b and u\n",
            "1  + (1  * u_ 0 + 1  * u_ 1 + 1  * u_ 2 + 0  * u_ 3 + 1  * u_ 4)\n",
            "1  + (1  * u_ 0 + 1  * u_ 1 + 0  * u_ 2 + 1  * u_ 3 + 0  * u_ 4)\n",
            "0  + (1  * u_ 0 + 0  * u_ 1 + 0  * u_ 2 + 1  * u_ 3 + 0  * u_ 4)\n"
          ]
        }
      ],
      "source": [
        "def eta_equations(A, b):\n",
        "\n",
        "  for i in range(len(b)):\n",
        "    print(b[i], \" + \", end=\"(\")\n",
        "    for j in range(len(A[i])):\n",
        "      if j == (len(A[i])-1):\n",
        "        print(A[i][j], \" * u_\", j, end=\")\\n\")\n",
        "      else:\n",
        "        print(A[i][j], \" * u_\", j, end=\" + \")\n",
        "\n",
        "\n",
        "n = 5\n",
        "m = 3\n",
        "u = np.random.randint(2, size=n, dtype=np.uint8)\n",
        "# To represent a polynomial we are using an array with each term as a dictionary with degree and coefficient values\n",
        "p = [{'x': 1, 'y': 1, 'z': 1, 'c': 1}]  # i.e., this is a polynomial with a single multinomial term 1*xyz\n",
        "eta = generate_errors(m)\n",
        "print(\"Eta: \", eta)\n",
        "\n",
        "A, b = generate_instance_structured_noise(n, m, eta, u)\n",
        "\n",
        "print(\"Roots of the polynomial in terms of A, b and u\")\n",
        "eta_equations(A, b)\n"
      ]
    },
    {
      "cell_type": "markdown",
      "source": [
        "## Define Polynomial Structure and Multiplication"
      ],
      "metadata": {
        "id": "XtkyfrXIf22b"
      }
    },
    {
      "cell_type": "code",
      "source": [
        "def multiply_terms(term1, term2):\n",
        "\n",
        "    result = {'coeff': term1['coeff'] * term2['coeff']}\n",
        "\n",
        "    for var in set(term1.keys()).union(term2.keys()):\n",
        "        if var == 'coeff':\n",
        "            continue\n",
        "        power1 = term1.get(var, 0)  # Get the power of the variable in term1, default is 0\n",
        "        power2 = term2.get(var, 0)  # Get the power of the variable in term2, default is 0\n",
        "        result[var] = power1 + power2  # Add powers\n",
        "\n",
        "    return result\n",
        "\n",
        "def multiply_polynomials(poly1, poly2):\n",
        "\n",
        "    result = []\n",
        "\n",
        "    # Multiply each term in poly1 with each term in poly2\n",
        "    for term1 in poly1:\n",
        "        for term2 in poly2:\n",
        "            new_term = multiply_terms(term1, term2)\n",
        "            result.append(new_term)\n",
        "\n",
        "    return result\n",
        "\n",
        "poly1 = [{'coeff': 1}, {'b': 1, 'd': 1, 'coeff': 1}, {'e': 1, 'coeff': 1}]\n",
        "poly2 = [{'coeff': 0}, {'a': 1, 'e': 1, 'coeff': 1}, {'b': 1, 'coeff': 1}, {'c': 1, 'coeff': 1}]\n",
        "\n",
        "result = multiply_polynomials(poly1, poly2)\n",
        "\n",
        "for term in result:\n",
        "    print(term)"
      ],
      "metadata": {
        "colab": {
          "base_uri": "https://localhost:8080/"
        },
        "id": "rpHZIuXoo-iZ",
        "outputId": "814e2e9d-7710-457f-9250-8f78b4f802cb"
      },
      "execution_count": null,
      "outputs": [
        {
          "output_type": "stream",
          "name": "stdout",
          "text": [
            "{'coeff': 0}\n",
            "{'coeff': 1, 'e': 1, 'a': 1}\n",
            "{'coeff': 1, 'b': 1}\n",
            "{'coeff': 1, 'c': 1}\n",
            "{'coeff': 0, 'b': 1, 'd': 1}\n",
            "{'coeff': 1, 'd': 1, 'e': 1, 'b': 1, 'a': 1}\n",
            "{'coeff': 1, 'b': 2, 'd': 1}\n",
            "{'coeff': 1, 'b': 1, 'c': 1, 'd': 1}\n",
            "{'coeff': 0, 'e': 1}\n",
            "{'coeff': 1, 'e': 2, 'a': 1}\n",
            "{'coeff': 1, 'e': 1, 'b': 1}\n",
            "{'coeff': 1, 'e': 1, 'c': 1}\n"
          ]
        }
      ]
    },
    {
      "cell_type": "markdown",
      "source": [
        "## Calculate the Final Equations"
      ],
      "metadata": {
        "id": "5dWaVOd0f-7D"
      }
    },
    {
      "cell_type": "code",
      "source": [
        "def roots_equations(A, b):\n",
        "    equations = []\n",
        "\n",
        "    for i in range(len(b)):\n",
        "        equation = []\n",
        "\n",
        "        equation.append({\"coeff\": b[i]})\n",
        "\n",
        "        for j in range(len(A[i])):\n",
        "            if A[i][j] != 0:\n",
        "                term = {\"u_\" + str(j): 1, \"coeff\": A[i][j]}\n",
        "                equation.append(term)\n",
        "\n",
        "        equations.append(equation)\n",
        "\n",
        "    return equations\n",
        "\n",
        "A = [\n",
        "    [0, 1, 1, 0, 1],\n",
        "    [1, 1, 1, 1, 0],\n",
        "    [1, 0, 0, 1, 0]\n",
        "]\n",
        "b = [1, 0, 1]\n",
        "\n",
        "equations = roots_equations(A, b)\n",
        "\n",
        "for eq in equations:\n",
        "    print(eq)"
      ],
      "metadata": {
        "colab": {
          "base_uri": "https://localhost:8080/"
        },
        "id": "qhLOSsEgeINV",
        "outputId": "7f3e4973-774a-4ea7-e7fb-29d11084779d"
      },
      "execution_count": null,
      "outputs": [
        {
          "output_type": "stream",
          "name": "stdout",
          "text": [
            "[{'coeff': 1}, {'u_1': 1, 'coeff': 1}, {'u_2': 1, 'coeff': 1}, {'u_4': 1, 'coeff': 1}]\n",
            "[{'coeff': 0}, {'u_0': 1, 'coeff': 1}, {'u_1': 1, 'coeff': 1}, {'u_2': 1, 'coeff': 1}, {'u_3': 1, 'coeff': 1}]\n",
            "[{'coeff': 1}, {'u_0': 1, 'coeff': 1}, {'u_3': 1, 'coeff': 1}]\n"
          ]
        }
      ]
    },
    {
      "cell_type": "markdown",
      "source": [
        "## Multiply the Equations as p = xyz"
      ],
      "metadata": {
        "id": "l6pMzokLjM5U"
      }
    },
    {
      "cell_type": "code",
      "source": [
        "def multiply_equations(equations):\n",
        "    result = equations[0]\n",
        "    for equation in equations[1:]:\n",
        "        result = multiply_polynomials(result, equation)\n",
        "    return result\n",
        "\n",
        "result = multiply_equations(equations)\n",
        "print(\"\\nResulting polynomial after multiplying all equations:\")\n",
        "print(result)"
      ],
      "metadata": {
        "colab": {
          "base_uri": "https://localhost:8080/"
        },
        "id": "vLGAfQ_ajSr9",
        "outputId": "9920a7c1-4315-451d-e3ee-e499fe5f8df6"
      },
      "execution_count": null,
      "outputs": [
        {
          "output_type": "stream",
          "name": "stdout",
          "text": [
            "\n",
            "Resulting polynomial after multiplying all equations:\n",
            "[{'coeff': 0}, {'coeff': 0, 'u_0': 1}, {'coeff': 0, 'u_3': 1}, {'coeff': 1, 'u_0': 1}, {'coeff': 1, 'u_0': 2}, {'coeff': 1, 'u_3': 1, 'u_0': 1}, {'coeff': 1, 'u_1': 1}, {'coeff': 1, 'u_1': 1, 'u_0': 1}, {'coeff': 1, 'u_3': 1, 'u_1': 1}, {'coeff': 1, 'u_2': 1}, {'coeff': 1, 'u_2': 1, 'u_0': 1}, {'coeff': 1, 'u_3': 1, 'u_2': 1}, {'coeff': 1, 'u_3': 1}, {'coeff': 1, 'u_3': 1, 'u_0': 1}, {'coeff': 1, 'u_3': 2}, {'coeff': 0, 'u_1': 1}, {'coeff': 0, 'u_1': 1, 'u_0': 1}, {'coeff': 0, 'u_3': 1, 'u_1': 1}, {'coeff': 1, 'u_1': 1, 'u_0': 1}, {'coeff': 1, 'u_1': 1, 'u_0': 2}, {'coeff': 1, 'u_3': 1, 'u_1': 1, 'u_0': 1}, {'coeff': 1, 'u_1': 2}, {'coeff': 1, 'u_1': 2, 'u_0': 1}, {'coeff': 1, 'u_3': 1, 'u_1': 2}, {'coeff': 1, 'u_1': 1, 'u_2': 1}, {'coeff': 1, 'u_1': 1, 'u_2': 1, 'u_0': 1}, {'coeff': 1, 'u_3': 1, 'u_1': 1, 'u_2': 1}, {'coeff': 1, 'u_3': 1, 'u_1': 1}, {'coeff': 1, 'u_3': 1, 'u_1': 1, 'u_0': 1}, {'coeff': 1, 'u_3': 2, 'u_1': 1}, {'coeff': 0, 'u_2': 1}, {'coeff': 0, 'u_2': 1, 'u_0': 1}, {'coeff': 0, 'u_3': 1, 'u_2': 1}, {'coeff': 1, 'u_2': 1, 'u_0': 1}, {'coeff': 1, 'u_2': 1, 'u_0': 2}, {'coeff': 1, 'u_3': 1, 'u_2': 1, 'u_0': 1}, {'coeff': 1, 'u_2': 1, 'u_1': 1}, {'coeff': 1, 'u_2': 1, 'u_1': 1, 'u_0': 1}, {'coeff': 1, 'u_3': 1, 'u_2': 1, 'u_1': 1}, {'coeff': 1, 'u_2': 2}, {'coeff': 1, 'u_2': 2, 'u_0': 1}, {'coeff': 1, 'u_3': 1, 'u_2': 2}, {'coeff': 1, 'u_3': 1, 'u_2': 1}, {'coeff': 1, 'u_3': 1, 'u_2': 1, 'u_0': 1}, {'coeff': 1, 'u_3': 2, 'u_2': 1}, {'coeff': 0, 'u_4': 1}, {'coeff': 0, 'u_0': 1, 'u_4': 1}, {'coeff': 0, 'u_3': 1, 'u_4': 1}, {'coeff': 1, 'u_0': 1, 'u_4': 1}, {'coeff': 1, 'u_0': 2, 'u_4': 1}, {'coeff': 1, 'u_3': 1, 'u_0': 1, 'u_4': 1}, {'coeff': 1, 'u_1': 1, 'u_4': 1}, {'coeff': 1, 'u_1': 1, 'u_4': 1, 'u_0': 1}, {'coeff': 1, 'u_3': 1, 'u_1': 1, 'u_4': 1}, {'coeff': 1, 'u_2': 1, 'u_4': 1}, {'coeff': 1, 'u_2': 1, 'u_4': 1, 'u_0': 1}, {'coeff': 1, 'u_3': 1, 'u_2': 1, 'u_4': 1}, {'coeff': 1, 'u_3': 1, 'u_4': 1}, {'coeff': 1, 'u_3': 1, 'u_0': 1, 'u_4': 1}, {'coeff': 1, 'u_3': 2, 'u_4': 1}]\n"
          ]
        }
      ]
    },
    {
      "cell_type": "markdown",
      "source": [
        "## Make the Polynomial Multi-Linear"
      ],
      "metadata": {
        "id": "EjhRL5zykQn8"
      }
    },
    {
      "cell_type": "code",
      "source": [
        "def make_multilinear(polynomial):\n",
        "    multilinear_poly = []\n",
        "    for term in polynomial:\n",
        "        if term['coeff'] == 0:\n",
        "            continue\n",
        "\n",
        "        new_term = {\"coeff\": term['coeff']}\n",
        "        for var, power in term.items():\n",
        "            if var != 'coeff':\n",
        "                new_term[var] = 1  # no need to track higher powers in {0, 1} space\n",
        "\n",
        "        multilinear_poly.append(new_term)\n",
        "\n",
        "    return multilinear_poly\n",
        "\n",
        "multilinear_polynomial = make_multilinear(result)\n",
        "\n",
        "print(\"Multilinear polynomial:\")\n",
        "print(multilinear_polynomial)\n"
      ],
      "metadata": {
        "colab": {
          "base_uri": "https://localhost:8080/"
        },
        "id": "VPMJoAaAjT5H",
        "outputId": "b8403724-2bed-4118-fdf9-cc4be8718852"
      },
      "execution_count": null,
      "outputs": [
        {
          "output_type": "stream",
          "name": "stdout",
          "text": [
            "Multilinear polynomial:\n",
            "[{'coeff': 1, 'u_0': 1}, {'coeff': 1, 'u_0': 1}, {'coeff': 1, 'u_3': 1, 'u_0': 1}, {'coeff': 1, 'u_1': 1}, {'coeff': 1, 'u_1': 1, 'u_0': 1}, {'coeff': 1, 'u_3': 1, 'u_1': 1}, {'coeff': 1, 'u_2': 1}, {'coeff': 1, 'u_2': 1, 'u_0': 1}, {'coeff': 1, 'u_3': 1, 'u_2': 1}, {'coeff': 1, 'u_3': 1}, {'coeff': 1, 'u_3': 1, 'u_0': 1}, {'coeff': 1, 'u_3': 1}, {'coeff': 1, 'u_1': 1, 'u_0': 1}, {'coeff': 1, 'u_1': 1, 'u_0': 1}, {'coeff': 1, 'u_3': 1, 'u_1': 1, 'u_0': 1}, {'coeff': 1, 'u_1': 1}, {'coeff': 1, 'u_1': 1, 'u_0': 1}, {'coeff': 1, 'u_3': 1, 'u_1': 1}, {'coeff': 1, 'u_1': 1, 'u_2': 1}, {'coeff': 1, 'u_1': 1, 'u_2': 1, 'u_0': 1}, {'coeff': 1, 'u_3': 1, 'u_1': 1, 'u_2': 1}, {'coeff': 1, 'u_3': 1, 'u_1': 1}, {'coeff': 1, 'u_3': 1, 'u_1': 1, 'u_0': 1}, {'coeff': 1, 'u_3': 1, 'u_1': 1}, {'coeff': 1, 'u_2': 1, 'u_0': 1}, {'coeff': 1, 'u_2': 1, 'u_0': 1}, {'coeff': 1, 'u_3': 1, 'u_2': 1, 'u_0': 1}, {'coeff': 1, 'u_2': 1, 'u_1': 1}, {'coeff': 1, 'u_2': 1, 'u_1': 1, 'u_0': 1}, {'coeff': 1, 'u_3': 1, 'u_2': 1, 'u_1': 1}, {'coeff': 1, 'u_2': 1}, {'coeff': 1, 'u_2': 1, 'u_0': 1}, {'coeff': 1, 'u_3': 1, 'u_2': 1}, {'coeff': 1, 'u_3': 1, 'u_2': 1}, {'coeff': 1, 'u_3': 1, 'u_2': 1, 'u_0': 1}, {'coeff': 1, 'u_3': 1, 'u_2': 1}, {'coeff': 1, 'u_0': 1, 'u_4': 1}, {'coeff': 1, 'u_0': 1, 'u_4': 1}, {'coeff': 1, 'u_3': 1, 'u_0': 1, 'u_4': 1}, {'coeff': 1, 'u_1': 1, 'u_4': 1}, {'coeff': 1, 'u_1': 1, 'u_4': 1, 'u_0': 1}, {'coeff': 1, 'u_3': 1, 'u_1': 1, 'u_4': 1}, {'coeff': 1, 'u_2': 1, 'u_4': 1}, {'coeff': 1, 'u_2': 1, 'u_4': 1, 'u_0': 1}, {'coeff': 1, 'u_3': 1, 'u_2': 1, 'u_4': 1}, {'coeff': 1, 'u_3': 1, 'u_4': 1}, {'coeff': 1, 'u_3': 1, 'u_0': 1, 'u_4': 1}, {'coeff': 1, 'u_3': 1, 'u_4': 1}]\n"
          ]
        }
      ]
    },
    {
      "cell_type": "markdown",
      "source": [
        "## Convert to Degree 1"
      ],
      "metadata": {
        "id": "1f07fAufsqep"
      }
    },
    {
      "cell_type": "code",
      "source": [
        "def convert_to_yi(polynomial):\n",
        "    var_to_y_mapping = {}\n",
        "    current_y_index = 0\n",
        "    new_polynomial = []\n",
        "\n",
        "    for term in polynomial:\n",
        "        variables = tuple(sorted([var for var in term if var != 'coeff']))\n",
        "\n",
        "        if len(variables) == 0:\n",
        "            new_polynomial.append(term)\n",
        "            continue\n",
        "\n",
        "        if variables not in var_to_y_mapping:\n",
        "            var_to_y_mapping[variables] = f'y_{current_y_index}'\n",
        "            current_y_index += 1\n",
        "\n",
        "        new_term = {'coeff': term['coeff'], var_to_y_mapping[variables]: 1}\n",
        "        new_polynomial.append(new_term)\n",
        "\n",
        "    return new_polynomial, var_to_y_mapping\n",
        "\n",
        "converted_polynomial, y_mapping = convert_to_yi(multilinear_polynomial)\n",
        "\n",
        "print(\"Converted polynomial:\")\n",
        "print(converted_polynomial)\n",
        "print(\"\\nMapping of variables to y_i:\")\n",
        "print(y_mapping)"
      ],
      "metadata": {
        "colab": {
          "base_uri": "https://localhost:8080/"
        },
        "id": "FUEZMwDnsyB6",
        "outputId": "cf888cd1-8a28-48b6-e81c-35237bbbdb25"
      },
      "execution_count": null,
      "outputs": [
        {
          "output_type": "stream",
          "name": "stdout",
          "text": [
            "Converted polynomial:\n",
            "[{'coeff': 1, 'y_0': 1}, {'coeff': 1, 'y_0': 1}, {'coeff': 1, 'y_1': 1}, {'coeff': 1, 'y_2': 1}, {'coeff': 1, 'y_3': 1}, {'coeff': 1, 'y_4': 1}, {'coeff': 1, 'y_5': 1}, {'coeff': 1, 'y_6': 1}, {'coeff': 1, 'y_7': 1}, {'coeff': 1, 'y_8': 1}, {'coeff': 1, 'y_1': 1}, {'coeff': 1, 'y_8': 1}, {'coeff': 1, 'y_3': 1}, {'coeff': 1, 'y_3': 1}, {'coeff': 1, 'y_9': 1}, {'coeff': 1, 'y_2': 1}, {'coeff': 1, 'y_3': 1}, {'coeff': 1, 'y_4': 1}, {'coeff': 1, 'y_10': 1}, {'coeff': 1, 'y_11': 1}, {'coeff': 1, 'y_12': 1}, {'coeff': 1, 'y_4': 1}, {'coeff': 1, 'y_9': 1}, {'coeff': 1, 'y_4': 1}, {'coeff': 1, 'y_6': 1}, {'coeff': 1, 'y_6': 1}, {'coeff': 1, 'y_13': 1}, {'coeff': 1, 'y_10': 1}, {'coeff': 1, 'y_11': 1}, {'coeff': 1, 'y_12': 1}, {'coeff': 1, 'y_5': 1}, {'coeff': 1, 'y_6': 1}, {'coeff': 1, 'y_7': 1}, {'coeff': 1, 'y_7': 1}, {'coeff': 1, 'y_13': 1}, {'coeff': 1, 'y_7': 1}, {'coeff': 1, 'y_14': 1}, {'coeff': 1, 'y_14': 1}, {'coeff': 1, 'y_15': 1}, {'coeff': 1, 'y_16': 1}, {'coeff': 1, 'y_17': 1}, {'coeff': 1, 'y_18': 1}, {'coeff': 1, 'y_19': 1}, {'coeff': 1, 'y_20': 1}, {'coeff': 1, 'y_21': 1}, {'coeff': 1, 'y_22': 1}, {'coeff': 1, 'y_15': 1}, {'coeff': 1, 'y_22': 1}]\n",
            "\n",
            "Mapping of variables to y_i:\n",
            "{('u_0',): 'y_0', ('u_0', 'u_3'): 'y_1', ('u_1',): 'y_2', ('u_0', 'u_1'): 'y_3', ('u_1', 'u_3'): 'y_4', ('u_2',): 'y_5', ('u_0', 'u_2'): 'y_6', ('u_2', 'u_3'): 'y_7', ('u_3',): 'y_8', ('u_0', 'u_1', 'u_3'): 'y_9', ('u_1', 'u_2'): 'y_10', ('u_0', 'u_1', 'u_2'): 'y_11', ('u_1', 'u_2', 'u_3'): 'y_12', ('u_0', 'u_2', 'u_3'): 'y_13', ('u_0', 'u_4'): 'y_14', ('u_0', 'u_3', 'u_4'): 'y_15', ('u_1', 'u_4'): 'y_16', ('u_0', 'u_1', 'u_4'): 'y_17', ('u_1', 'u_3', 'u_4'): 'y_18', ('u_2', 'u_4'): 'y_19', ('u_0', 'u_2', 'u_4'): 'y_20', ('u_2', 'u_3', 'u_4'): 'y_21', ('u_3', 'u_4'): 'y_22'}\n"
          ]
        }
      ]
    },
    {
      "cell_type": "code",
      "source": [
        "def gf2_add(a, b):\n",
        "    return a ^ b\n",
        "\n",
        "def gf2_multiply(a, b):\n",
        "    return a * b\n",
        "\n",
        "def poly_to_matrix(polynomials, variables):\n",
        "    matrix = []\n",
        "    for poly in polynomials:\n",
        "        row = [0] * len(variables)\n",
        "        for term in poly:\n",
        "            for var in term:\n",
        "                if var != 'coeff':\n",
        "                    idx = variables.index(var)\n",
        "                    row[idx] = gf2_add(row[idx], term['coeff'])\n",
        "        matrix.append(row)\n",
        "    return matrix\n",
        "\n",
        "def gaussian_elimination(matrix):\n",
        "    n_rows = len(matrix)\n",
        "    n_cols = len(matrix[0])\n",
        "\n",
        "    for i in range(min(n_rows, n_cols)):\n",
        "        if matrix[i][i] == 0:\n",
        "            for j in range(i + 1, n_rows):\n",
        "                if matrix[j][i] == 1:\n",
        "                    matrix[i], matrix[j] = matrix[j], matrix[i]\n",
        "                    break\n",
        "\n",
        "        if matrix[i][i] == 1:\n",
        "            for j in range(i + 1, n_rows):\n",
        "                if matrix[j][i] == 1:\n",
        "                    matrix[j] = [gf2_add(matrix[j][k], matrix[i][k]) for k in range(n_cols)]\n",
        "\n",
        "    for i in range(min(n_rows, n_cols) - 1, -1, -1):\n",
        "        if matrix[i][i] == 1:\n",
        "            for j in range(i - 1, -1, -1):\n",
        "                if matrix[j][i] == 1:\n",
        "                    matrix[j] = [gf2_add(matrix[j][k], matrix[i][k]) for k in range(n_cols)]\n",
        "\n",
        "    return matrix"
      ],
      "metadata": {
        "id": "quqYuXNzx8T9"
      },
      "execution_count": null,
      "outputs": []
    },
    {
      "cell_type": "code",
      "source": [
        "polys = [[{'coeff': 1, 'x': 1, 'y': 1, 'z':1}]]\n",
        "mps = []\n",
        "mappings = []\n",
        "for p in polys:\n",
        "  mps.append(make_multilinear(p))\n",
        "conv, maps = [], []\n",
        "for mp in mps:\n",
        "  c, m = convert_to_yi(mp)\n",
        "  conv.append(c)\n",
        "  maps.append(m)\n",
        "variables = []\n",
        "for m in maps:\n",
        "  variables.append(*m.values())\n",
        "mat = poly_to_matrix(conv, variables)\n",
        "result = gaussian_elimination(mat)\n",
        "\n",
        "print(\"Result after Gaussian elimination:\")\n",
        "for row in result:\n",
        "    print(row)"
      ],
      "metadata": {
        "colab": {
          "base_uri": "https://localhost:8080/"
        },
        "id": "z6qvQ6sPydtL",
        "outputId": "0eea2523-b1be-4134-b80d-5e55a8fa3006"
      },
      "execution_count": null,
      "outputs": [
        {
          "output_type": "stream",
          "name": "stdout",
          "text": [
            "Result after Gaussian elimination:\n",
            "[1]\n"
          ]
        }
      ]
    },
    {
      "cell_type": "code",
      "source": [
        "def convert_to_yi(polynomial, var_to_y_mapping=None, current_y_index=0):\n",
        "    if var_to_y_mapping is None:\n",
        "        var_to_y_mapping = {}\n",
        "\n",
        "    new_polynomial = []\n",
        "\n",
        "    for term in polynomial:\n",
        "        variables = tuple(sorted([var for var in term if var != 'coeff']))\n",
        "\n",
        "        if len(variables) == 0:\n",
        "            new_polynomial.append(term)\n",
        "            continue\n",
        "\n",
        "        if variables not in var_to_y_mapping:\n",
        "\n",
        "            var_to_y_mapping[variables] = f'y_{current_y_index}'\n",
        "            current_y_index += 1\n",
        "\n",
        "        new_term = {'coeff': term['coeff'], var_to_y_mapping[variables]: 1}\n",
        "        new_polynomial.append(new_term)\n",
        "\n",
        "    return new_polynomial, var_to_y_mapping, current_y_index"
      ],
      "metadata": {
        "id": "Ax2Q-JlyH6GY"
      },
      "execution_count": null,
      "outputs": []
    },
    {
      "cell_type": "code",
      "source": [
        "import sympy as sp\n",
        "\n",
        "N = 2**(5) - 1\n",
        "u = np.random.randint(2, size=5, dtype=np.uint8)\n",
        "eta = generate_errors(3)\n",
        "y_map = {}\n",
        "y_counter = 1\n",
        "instances = []\n",
        "\n",
        "for i in range(N+1):\n",
        "  A, b = generate_instance_structured_noise(5, 3, eta, u)\n",
        "  equations = roots_equations(A, b)\n",
        "  result = multiply_all_equations(equations)\n",
        "  multilinear_polynomial = make_multilinear(result)\n",
        "  converted_polynomial, y_mapping, current_y_index = convert_to_yi(multilinear_polynomial, y_map, y_counter)\n",
        "  instances.append(converted_polynomial)\n",
        "  y_map.update(y_mapping)\n",
        "  y_counter = current_y_index\n",
        "  # print(\"Converted polynomial:\")\n",
        "  # print(converted_polynomial)\n",
        "\n",
        "print(\"\\nMapping of variables to y_i:\")\n",
        "print(y_map)\n",
        "\n",
        "def convert_to_sympy(instances, y_map):\n",
        "    sympy_eqs = []\n",
        "    y_symbols = {key: sp.symbols(key) for key in y_map.values()}  # Map y_i's to SymPy symbols\n",
        "\n",
        "    for eq in instances:\n",
        "        sympy_expr = 0\n",
        "        for term in eq:\n",
        "            coeff = term['coeff']\n",
        "            if len(term) == 1:  # Constant term\n",
        "                sympy_expr += coeff\n",
        "            else:\n",
        "                product = coeff\n",
        "                for y_var in term:\n",
        "                    if y_var != 'coeff':\n",
        "                        product *= y_symbols[y_var]\n",
        "                sympy_expr += product\n",
        "        sympy_eqs.append(sympy_expr)\n",
        "\n",
        "    return sympy_eqs, y_symbols\n",
        "\n",
        "\n",
        "\n",
        "sympy_eqs, y_symbols = convert_to_sympy(instances, y_map)\n",
        "print(\"Y symbols\", y_symbols.values())\n",
        "\n",
        "for eq in sympy_eqs:\n",
        "    print(eq)\n",
        "\n",
        "solution = sp.solve(sympy_eqs, list(y_symbols.values()))\n",
        "print(\"Solution:\", solution)"
      ],
      "metadata": {
        "colab": {
          "base_uri": "https://localhost:8080/"
        },
        "id": "tAc1pgPq4Pr9",
        "outputId": "16a8f004-47f6-4cc7-cda2-ec66820d0511"
      },
      "execution_count": null,
      "outputs": [
        {
          "output_type": "stream",
          "name": "stdout",
          "text": [
            "\n",
            "Mapping of variables to y_i:\n",
            "{('u_1',): 'y_1', ('u_0', 'u_1'): 'y_2', ('u_1', 'u_4'): 'y_3', ('u_2',): 'y_4', ('u_0', 'u_2'): 'y_5', ('u_2', 'u_4'): 'y_6', ('u_3',): 'y_7', ('u_0', 'u_3'): 'y_8', ('u_3', 'u_4'): 'y_9', ('u_1', 'u_2'): 'y_10', ('u_0', 'u_1', 'u_2'): 'y_11', ('u_1', 'u_2', 'u_4'): 'y_12', ('u_2', 'u_3'): 'y_13', ('u_0', 'u_2', 'u_3'): 'y_14', ('u_2', 'u_3', 'u_4'): 'y_15', ('u_0', 'u_1', 'u_4'): 'y_16', ('u_0', 'u_2', 'u_4'): 'y_17', ('u_0', 'u_4'): 'y_18', ('u_4',): 'y_19', ('u_1', 'u_3'): 'y_20', ('u_1', 'u_2', 'u_3'): 'y_21', ('u_1', 'u_3', 'u_4'): 'y_22', ('u_0', 'u_1', 'u_3'): 'y_23', ('u_0', 'u_3', 'u_4'): 'y_24', ('u_0',): 'y_25'}\n",
            "Y symbols dict_values([y_1, y_2, y_3, y_4, y_5, y_6, y_7, y_8, y_9, y_10, y_11, y_12, y_13, y_14, y_15, y_16, y_17, y_18, y_19, y_20, y_21, y_22, y_23, y_24, y_25])\n",
            "y_1 + y_10 + y_11 + y_12 + y_13 + y_14 + y_15 + y_2 + y_3 + 2*y_4 + 2*y_5 + 2*y_6 + y_7 + y_8 + y_9\n",
            "y_1 + y_10 + y_11 + y_12 + y_16 + y_17 + y_2 + 3*y_3 + 2*y_6\n",
            "y_12 + y_15 + y_17 + 2*y_18 + 2*y_3 + 2*y_9\n",
            "2*y_1 + 2*y_10 + y_2 + y_3 + 2*y_4 + y_5 + y_6\n",
            "2*y_1 + y_10 + y_13 + y_19 + y_20 + y_3 + y_6 + y_7\n",
            "y_10 + 2*y_12 + y_15 + 2*y_20 + y_21 + 2*y_22 + y_6 + 2*y_9\n",
            "y_13 + y_15 + 4*y_20 + y_21 + y_22 + y_23 + y_24 + 2*y_7 + y_8 + 2*y_9\n",
            "2*y_13 + 2*y_5 + 2*y_6\n",
            "2*y_25 + 4*y_8\n",
            "0\n",
            "y_16 + 5*y_18 + 2*y_2 + y_23 + 2*y_24 + 4*y_25 + 5*y_8\n",
            "y_15 + y_16 + y_17 + 4*y_18 + 2*y_19 + y_22 + y_24 + 2*y_3 + 2*y_6 + y_9\n",
            "y_1 + 3*y_10 + 2*y_11 + 2*y_12 + 2*y_13 + 2*y_14 + y_15 + 2*y_16 + 2*y_17 + 3*y_18 + y_19 + 3*y_2 + y_20 + y_21 + y_23 + y_24 + 2*y_3 + 3*y_6 + 2*y_8 + y_9\n",
            "y_11 + 2*y_13 + y_14 + y_15 + y_17 + y_18 + y_2 + y_21 + y_23 + y_24 + y_25 + 3*y_5 + y_8\n",
            "3*y_10 + 5*y_13 + 4*y_20 + 3*y_21 + y_4 + 2*y_7\n",
            "y_11 + y_16 + y_17 + 4*y_18 + y_2 + y_23 + y_24 + 2*y_25 + 2*y_5 + 2*y_8\n",
            "2*y_14 + y_17 + y_24 + y_5 + y_8\n",
            "y_1 + y_10 + y_12 + 2*y_13 + 2*y_15 + y_17 + 3*y_18 + 7*y_19 + y_20 + y_22 + y_24 + y_25 + 3*y_3 + 3*y_4 + y_5 + 7*y_6 + 3*y_7 + y_8 + 7*y_9 + 1\n",
            "7*y_1 + 3*y_10 + y_11 + 7*y_2 + 3*y_25 + y_4 + y_5 + 1\n",
            "2*y_13 + 2*y_14 + 2*y_15 + 3*y_17 + 7*y_18 + 3*y_19 + 3*y_24 + 7*y_25 + 3*y_4 + 7*y_5 + 5*y_6 + 3*y_7 + 7*y_8 + 5*y_9 + 1\n",
            "2*y_13 + y_14 + y_15 + y_17 + 3*y_18 + y_19 + 3*y_24 + y_6 + 2*y_7 + 4*y_8 + 5*y_9\n",
            "y_11 + 2*y_14 + y_2 + y_23 + y_25 + 3*y_5 + 3*y_8\n",
            "4*y_10 + y_11 + 3*y_12 + 4*y_13 + y_14 + 2*y_15 + y_16 + y_17 + 3*y_20 + 3*y_21 + 2*y_22 + y_23 + 3*y_3 + 2*y_4 + y_5 + 4*y_6\n",
            "y_14 + y_17 + y_18 + y_24 + 2*y_5\n",
            "2*y_2 + 2*y_5\n",
            "y_1 + y_10 + y_11 + y_12 + 3*y_13 + 2*y_14 + 2*y_15 + 2*y_17 + 2*y_18 + 3*y_19 + y_2 + y_20 + y_21 + 3*y_25 + y_3 + y_4 + 3*y_5 + 3*y_6 + 3*y_7 + 2*y_8 + 2*y_9 + 1\n",
            "y_1 + y_10 + y_11 + y_12 + y_13 + y_14 + y_15 + y_16 + y_17 + 2*y_18 + 3*y_2 + y_24 + 4*y_25 + y_3 + 2*y_5 + y_7 + 3*y_8 + y_9\n",
            "2*y_10 + 2*y_12 + y_13 + y_14 + y_15 + 2*y_17 + 2*y_18 + 4*y_19 + y_21 + y_22 + y_24 + 2*y_3 + 2*y_4 + 2*y_5 + 6*y_6 + 2*y_9\n",
            "3*y_1 + 3*y_10 + y_11 + y_12 + y_13 + y_14 + y_16 + y_17 + 3*y_18 + y_19 + 5*y_2 + 5*y_20 + y_21 + y_22 + 2*y_23 + y_24 + 3*y_25 + y_3 + y_4 + y_5 + y_6 + 3*y_7 + 5*y_8 + y_9 + 1\n",
            "y_1 + y_10 + y_12 + 6*y_13 + 2*y_14 + 3*y_15 + y_16 + 2*y_17 + 4*y_18 + y_2 + 3*y_20 + y_21 + 2*y_22 + y_23 + 3*y_24 + 2*y_25 + 3*y_3 + 2*y_4 + 2*y_5 + 4*y_6 + 4*y_7 + 6*y_8 + 5*y_9\n",
            "2*y_1 + y_10 + y_12 + 4*y_3\n",
            "y_11 + y_12 + 2*y_13 + y_14 + y_15 + y_21 + y_5 + y_6\n",
            "Solution: []\n"
          ]
        }
      ]
    },
    {
      "cell_type": "markdown",
      "source": [
        "# Sympy Implementation"
      ],
      "metadata": {
        "id": "XXfVcXFoseXe"
      }
    },
    {
      "cell_type": "markdown",
      "source": [
        "**Assumptions:** The polynomial to which the oracle has access is defined with variables named $x_{i}$. See second cell."
      ],
      "metadata": {
        "id": "YIXxT4bHYzkC"
      }
    },
    {
      "cell_type": "code",
      "source": [
        "import sympy as sp\n",
        "import numpy as np\n",
        "import random\n",
        "import math"
      ],
      "metadata": {
        "id": "Dz4yQYdKPSyq"
      },
      "execution_count": null,
      "outputs": []
    },
    {
      "cell_type": "code",
      "source": [
        "m = 2\n",
        "x = sp.symbols(f'x0:{m}')\n",
        "threshold = m//3\n",
        "symmetric_polys = [sp.symmetric_poly(k, x) for k in range((threshold) + 1, m+1)]\n",
        "P = sum(symmetric_polys)\n",
        "P"
      ],
      "metadata": {
        "colab": {
          "base_uri": "https://localhost:8080/",
          "height": 38
        },
        "id": "aK3DVZK6jzjj",
        "outputId": "b8fa1932-4bee-4f2c-ef5a-c6c1cc584214"
      },
      "execution_count": null,
      "outputs": [
        {
          "output_type": "execute_result",
          "data": {
            "text/plain": [
              "x0*x1 + x0 + x1"
            ],
            "text/latex": "$\\displaystyle x_{0} x_{1} + x_{0} + x_{1}$"
          },
          "metadata": {},
          "execution_count": 3
        }
      ]
    },
    {
      "cell_type": "code",
      "source": [
        "n = 10\n",
        "m = 3\n",
        "x = sp.symbols(f'x0:{m}')\n",
        "threshold = m//3\n",
        "symmetric_polys = [sp.symmetric_poly(k, x) for k in range((threshold) + 1, m+1)]\n",
        "P = sum(symmetric_polys)\n",
        "#x0, x1, x2 = sp.symbols('x0,x1,x2')\n",
        "#P = (x0*x1*x2).as_poly(domain=sp.GF(2))\n",
        "\n",
        "def oracle(s, n, m):\n",
        "    a_vectors = [sp.Matrix([random.randint(0, 1) for _ in range(n)]) for _ in range(m)]\n",
        "    b_values = []\n",
        "\n",
        "    incorrect_indices = [random.randint(1,m) for i in range(threshold)]\n",
        "\n",
        "    for i, a in enumerate(a_vectors):\n",
        "        dot_product = (a.dot(s) % 2)\n",
        "        error = 1 if i in incorrect_indices else 0\n",
        "        b_values.append((dot_product + error) % 2)\n",
        "\n",
        "    return list(zip(a_vectors, b_values))\n"
      ],
      "metadata": {
        "id": "zA1FGhQnJ4XF"
      },
      "execution_count": null,
      "outputs": []
    },
    {
      "cell_type": "code",
      "source": [
        "s = sp.Matrix([random.randint(0, 1) for _ in range(n)])\n",
        "print(s)"
      ],
      "metadata": {
        "colab": {
          "base_uri": "https://localhost:8080/"
        },
        "id": "x6ezr-3D96aF",
        "outputId": "87ca073c-fb1e-418e-b7c2-6c3a79eb4b8e"
      },
      "execution_count": null,
      "outputs": [
        {
          "output_type": "stream",
          "name": "stdout",
          "text": [
            "Matrix([[1], [1], [1], [1], [0], [0], [1], [0], [1], [0]])\n"
          ]
        }
      ]
    },
    {
      "cell_type": "code",
      "source": [
        "equations = []\n",
        "z = sp.Matrix([sp.symbols(f'z_{i}') for i in range(n)])\n",
        "num_samples = 174\n",
        "for _ in range(num_samples):\n",
        "    instance = oracle(s, n, m)\n",
        "    eqn = key_constraint(P, z, instance)\n",
        "    equations.append(eqn)\n",
        "#print(equations)"
      ],
      "metadata": {
        "id": "iW5OA7PD_ez0"
      },
      "execution_count": null,
      "outputs": []
    },
    {
      "cell_type": "code",
      "source": [
        "linearization, map = linearize(equations)\n",
        "print(linearization)\n",
        "print(map)"
      ],
      "metadata": {
        "colab": {
          "base_uri": "https://localhost:8080/"
        },
        "id": "MnoqPbpy_7C-",
        "outputId": "62c3d44d-a220-48d9-bef8-2a5187204e7f"
      },
      "execution_count": null,
      "outputs": [
        {
          "output_type": "stream",
          "name": "stdout",
          "text": [
            "[y_1 + y_112 + y_119 + y_120 + y_121 + y_122 + y_123 + y_124 + y_125 + y_126 + y_127 + y_128 + y_131 + y_133 + y_134 + y_135 + y_136 + y_137 + y_138 + y_139 + y_140 + y_141 + y_142 + y_143 + y_144 + y_147 + y_149 + y_151 + y_152 + y_154 + y_155 + y_156 + y_158 + y_159 + y_160 + y_162 + y_163 + y_165 + y_166 + y_167 + y_168 + y_169 + y_172 + y_173 + y_174 + y_18 + y_20 + y_22 + y_23 + y_24 + y_25 + y_26 + y_28 + y_29 + y_3 + y_30 + y_31 + y_33 + y_35 + y_4 + y_40 + y_41 + y_43 + y_44 + y_45 + y_46 + y_5 + y_55 + y_57 + y_58 + y_62 + y_63 + y_64 + y_68 + y_69 + y_71 + y_73 + y_75 + y_8 + y_80, y_0 + y_1 + y_103 + y_104 + y_105 + y_107 + y_108 + y_109 + y_111 + y_114 + y_115 + y_117 + y_118 + y_119 + y_120 + y_121 + y_125 + y_126 + y_127 + y_129 + y_13 + y_130 + y_131 + y_133 + y_134 + y_135 + y_14 + y_140 + y_147 + y_149 + y_150 + y_151 + y_155 + y_16 + y_161 + y_162 + y_165 + y_167 + y_168 + y_169 + y_17 + y_171 + y_172 + y_174 + y_2 + y_26 + y_27 + y_29 + y_30 + y_31 + y_32 + y_33 + y_37 + y_38 + y_39 + y_4 + y_41 + y_42 + y_43 + y_45 + y_48 + y_49 + y_50 + y_52 + y_53 + y_54 + y_55 + y_56 + y_58 + y_59 + y_6 + y_63 + y_64 + y_66 + y_67 + y_68 + y_69 + y_7 + y_70 + y_74 + y_75 + y_76 + y_78 + y_79 + y_80 + y_82 + y_83 + y_86 + y_87 + y_89 + y_90 + y_92 + y_93 + y_95 + y_96 + y_97 + y_98 + y_99, y_1 + y_100 + y_101 + y_102 + y_104 + y_105 + y_119 + y_120 + y_121 + y_123 + y_125 + y_126 + y_129 + y_130 + y_131 + y_132 + y_150 + y_151 + y_153 + y_154 + y_155 + y_156 + y_157 + y_158 + y_159 + y_160 + y_161 + y_162 + y_163 + y_164 + y_166 + y_168 + y_174 + y_20 + y_21 + y_23 + y_24 + y_3 + y_31 + y_34 + y_35 + y_36 + y_38 + y_39 + y_46 + y_47 + y_48 + y_53 + y_54 + y_57 + y_59 + y_60 + y_68 + y_71 + y_72 + y_77 + y_78 + y_79 + y_8 + y_81 + y_83 + y_86 + y_87 + y_89 + y_9 + y_90 + y_97, y_119 + y_120 + y_122 + y_123 + y_125 + y_127 + y_128 + y_129 + y_130 + y_132 + y_152 + y_153 + y_154 + y_155 + y_156 + y_157 + y_161 + y_162 + y_163 + y_166 + y_167 + y_168 + y_169 + y_170 + y_171 + y_172 + y_174 + y_18 + y_21 + y_23 + y_24 + y_31 + y_32 + y_34 + y_35 + y_36 + y_38 + y_43 + y_44 + y_45, y_0 + y_112 + y_114 + y_116 + y_12 + y_136 + y_137 + y_138 + y_139 + y_141 + y_144 + y_145 + y_146 + y_161 + y_168 + y_172 + y_174 + y_2 + y_26 + y_28 + y_47 + y_48 + y_5 + y_50 + y_51 + y_53 + y_54 + y_57 + y_59 + y_69 + y_7 + y_70 + y_71 + y_72 + y_74 + y_77 + y_78 + y_79 + y_83 + y_85 + y_91 + y_92 + y_93 + y_95 + y_96, y_1 + y_113 + y_116 + y_119 + y_121 + y_124 + y_125 + y_128 + y_129 + y_130 + y_131 + y_133 + y_140 + y_141 + y_144 + y_145 + y_147 + y_151 + y_152 + y_155 + y_156 + y_158 + y_161 + y_162 + y_164 + y_167 + y_169 + y_170 + y_171 + y_172 + y_173 + y_18 + y_22 + y_3 + y_36 + y_37 + y_40 + y_41 + y_43 + y_55 + y_56 + y_57 + y_58 + y_59 + y_6 + y_60 + y_61 + y_62 + y_64 + y_65 + y_66 + y_68 + y_69 + y_7 + y_70 + y_71 + y_73 + y_76 + y_77 + y_79 + y_8 + y_80 + y_81 + y_82, y_10 + y_100 + y_103 + y_104 + y_106 + y_107 + y_108 + y_110 + y_112 + y_120 + y_123 + y_126 + y_13 + y_132 + y_134 + y_136 + y_139 + y_14 + y_142 + y_148 + y_150 + y_152 + y_153 + y_157 + y_159 + y_16 + y_161 + y_163 + y_165 + y_168 + y_17 + y_170 + y_173 + y_174 + y_18 + y_20 + y_21 + y_23 + y_24 + y_25 + y_26 + y_27 + y_29 + y_30 + y_31 + y_32 + y_33 + y_34 + y_35 + y_36 + y_37 + y_40 + y_41 + y_42 + y_43 + y_45 + y_84 + y_86 + y_87 + y_89 + y_90 + y_91 + y_92 + y_93 + y_95 + y_96 + y_99, y_0 + y_102 + y_103 + y_104 + y_105 + y_107 + y_108 + y_11 + y_112 + y_113 + y_114 + y_116 + y_117 + y_118 + y_120 + y_122 + y_124 + y_125 + y_126 + y_127 + y_129 + y_132 + y_134 + y_136 + y_137 + y_14 + y_140 + y_141 + y_142 + y_143 + y_145 + y_146 + y_15 + y_151 + y_152 + y_153 + y_156 + y_161 + y_162 + y_164 + y_165 + y_166 + y_167 + y_168 + y_169 + y_170 + y_172 + y_19 + y_21 + y_23 + y_27 + y_28 + y_36 + y_37 + y_38 + y_41 + y_48 + y_51 + y_52 + y_56 + y_58 + y_60 + y_64 + y_65 + y_73 + y_74 + y_75 + y_78 + y_83 + y_84 + y_86 + y_88 + y_89 + y_90 + y_98 + y_99, y_0 + y_100 + y_101 + y_103 + y_107 + y_108 + y_116 + y_118 + y_125 + y_127 + y_129 + y_130 + y_132 + y_133 + y_134 + y_137 + y_139 + y_141 + y_143 + y_145 + y_148 + y_152 + y_154 + y_156 + y_157 + y_159 + y_160 + y_161 + y_162 + y_164 + y_168 + y_169 + y_170 + y_172 + y_46 + y_48 + y_49 + y_50 + y_52 + y_59 + y_61 + y_65 + y_67 + y_70 + y_72 + y_77 + y_79 + y_83 + y_85 + y_87 + y_89 + y_90 + y_91 + y_92 + y_93 + y_94 + y_95 + y_96 + y_98, y_101 + y_106 + y_111 + y_114 + y_119 + y_12 + y_121 + y_123 + y_13 + y_134 + y_137 + y_139 + y_15 + y_150 + y_168 + y_17 + y_174 + y_2 + y_26 + y_31 + y_33 + y_35 + y_46 + y_47 + y_48 + y_49 + y_5 + y_50 + y_57 + y_63 + y_85 + y_86 + y_88 + y_90 + y_94 + y_96 + y_99, y_105 + y_108 + y_112 + y_119 + y_120 + y_121 + y_123 + y_127 + y_130 + y_154 + y_157 + y_161 + y_167 + y_168 + y_171 + y_20 + y_24 + y_32 + y_33 + y_39 + y_42 + y_86 + y_90 + y_98 + y_99, y_102 + y_103 + y_105 + y_107 + y_108 + y_109 + y_110 + y_112 + y_115 + y_116 + y_117 + y_12 + y_124 + y_125 + y_127 + y_129 + y_130 + y_131 + y_132 + y_136 + y_137 + y_138 + y_14 + y_142 + y_143 + y_145 + y_146 + y_147 + y_148 + y_150 + y_151 + y_152 + y_154 + y_156 + y_157 + y_158 + y_159 + y_16 + y_161 + y_163 + y_164 + y_165 + y_166 + y_168 + y_169 + y_17 + y_171 + y_172 + y_173 + y_174 + y_19 + y_21 + y_23 + y_24 + y_26 + y_29 + y_30 + y_32 + y_34 + y_35 + y_38 + y_39 + y_4 + y_43 + y_45 + y_46 + y_6 + y_64 + y_65 + y_66 + y_73 + y_74 + y_76 + y_78 + y_79 + y_8 + y_80 + y_81 + y_83 + y_9 + y_93 + y_94 + y_95, y_0 + y_100 + y_102 + y_103 + y_107 + y_109 + y_13 + y_134 + y_135 + y_136 + y_138 + y_139 + y_14 + y_141 + y_143 + y_144 + y_145 + y_146 + y_148 + y_15 + y_154 + y_159 + y_16 + y_164 + y_167 + y_170 + y_173 + y_174 + y_31 + y_32 + y_34 + y_35 + y_37 + y_39 + y_40 + y_41 + y_42 + y_44 + y_5 + y_50 + y_51 + y_52 + y_53 + y_6 + y_63 + y_64 + y_65 + y_66 + y_7 + y_72 + y_76 + y_79 + y_8 + y_81 + y_83 + y_92 + y_93 + y_94 + y_95 + y_98, y_1 + y_10 + y_102 + y_103 + y_105 + y_113 + y_116 + y_118 + y_119 + y_121 + y_123 + y_128 + y_130 + y_133 + y_140 + y_141 + y_143 + y_15 + y_151 + y_152 + y_154 + y_162 + y_164 + y_167 + y_17 + y_2 + y_25 + y_28 + y_30 + y_31 + y_33 + y_35 + y_4 + y_40 + y_42 + y_45 + y_46 + y_48 + y_5 + y_51 + y_52 + y_54 + y_55 + y_56 + y_57 + y_61 + y_64 + y_65 + y_67 + y_69 + y_70 + y_72 + y_73 + y_76 + y_77 + y_79 + y_84 + y_88 + y_9 + y_90, y_0 + y_10 + y_100 + y_101 + y_104 + y_105 + y_109 + y_11 + y_111 + y_126 + y_127 + y_13 + y_131 + y_132 + y_14 + y_153 + y_154 + y_158 + y_159 + y_165 + y_166 + y_173 + y_174 + y_21 + y_23 + y_32 + y_34 + y_38 + y_43 + y_89 + y_90, y_1 + y_10 + y_100 + y_113 + y_114 + y_115 + y_116 + y_117 + y_119 + y_120 + y_121 + y_123 + y_124 + y_126 + y_127 + y_128 + y_129 + y_13 + y_130 + y_131 + y_132 + y_133 + y_138 + y_139 + y_14 + y_142 + y_143 + y_145 + y_146 + y_148 + y_149 + y_15 + y_150 + y_153 + y_154 + y_156 + y_157 + y_158 + y_159 + y_16 + y_161 + y_168 + y_174 + y_18 + y_20 + y_21 + y_22 + y_23 + y_34 + y_35 + y_38 + y_39 + y_41 + y_42 + y_44 + y_45 + y_46 + y_5 + y_55 + y_57 + y_58 + y_59 + y_6 + y_60 + y_62 + y_63 + y_64 + y_65 + y_66 + y_69 + y_7 + y_70 + y_71 + y_8 + y_83 + y_84 + y_86 + y_87 + y_88 + y_89 + y_91 + y_92 + y_93 + y_94 + y_95 + y_98 + y_99, y_1 + y_114 + y_115 + y_116 + y_118 + y_12 + y_134 + y_135 + y_136 + y_137 + y_138 + y_139 + y_142 + y_145 + y_148 + y_150 + y_161 + y_168 + y_174 + y_19 + y_2 + y_25 + y_27 + y_28 + y_29 + y_3 + y_30 + y_46 + y_47 + y_49 + y_50 + y_51 + y_52 + y_54 + y_55 + y_56 + y_57 + y_58 + y_59 + y_6 + y_61 + y_62 + y_64 + y_65 + y_66 + y_67 + y_68 + y_69 + y_7 + y_70 + y_71 + y_72 + y_73 + y_75 + y_77 + y_78 + y_8 + y_80 + y_81 + y_82 + y_9 + y_92 + y_93 + y_94 + y_96, y_0 + y_1 + y_10 + y_106 + y_108 + y_11 + y_111 + y_113 + y_116 + y_124 + y_125 + y_128 + y_129 + y_130 + y_131 + y_133 + y_144 + y_146 + y_149 + y_15 + y_162 + y_164 + y_167 + y_168 + y_169 + y_17 + y_170 + y_171 + y_173 + y_174 + y_18 + y_19 + y_2 + y_21 + y_22 + y_23 + y_24 + y_25 + y_28 + y_3 + y_30 + y_36 + y_37 + y_39 + y_4 + y_40 + y_41 + y_43 + y_44 + y_45 + y_46 + y_47 + y_48 + y_54 + y_55 + y_56 + y_58 + y_6 + y_60 + y_61 + y_62 + y_67 + y_73 + y_76 + y_8 + y_80 + y_81 + y_82 + y_84 + y_88, y_0 + y_10 + y_106 + y_108 + y_11 + y_111 + y_112 + y_114 + y_116 + y_117 + y_118 + y_119 + y_121 + y_129 + y_13 + y_130 + y_131 + y_133 + y_138 + y_145 + y_147 + y_148 + y_15 + y_150 + y_156 + y_158 + y_168 + y_169 + y_17 + y_170 + y_172 + y_173 + y_174 + y_19 + y_2 + y_20 + y_23 + y_24 + y_25 + y_26 + y_28 + y_3 + y_30 + y_33 + y_34 + y_4 + y_41 + y_42 + y_43 + y_44 + y_46 + y_47 + y_48 + y_49 + y_50 + y_54 + y_57 + y_59 + y_60 + y_61 + y_63 + y_65 + y_66 + y_67 + y_7 + y_70 + y_71 + y_77 + y_79 + y_8 + y_80 + y_81 + y_83 + y_84 + y_85 + y_88 + y_91 + y_92 + y_94 + y_96 + y_97 + y_99, y_0 + y_112 + y_114 + y_116 + y_117 + y_120 + y_121 + y_122 + y_125 + y_126 + y_128 + y_131 + y_134 + y_135 + y_139 + y_144 + y_146 + y_147 + y_148 + y_150 + y_151 + y_154 + y_155 + y_157 + y_158 + y_159 + y_161 + y_162 + y_164 + y_165 + y_166 + y_168 + y_171 + y_172 + y_173 + y_174 + y_57 + y_59 + y_60 + y_63 + y_65 + y_66 + y_69 + y_70 + y_71 + y_72 + y_74 + y_75 + y_77 + y_79 + y_80 + y_81, y_10 + y_108 + y_11 + y_110 + y_111 + y_115 + y_117 + y_118 + y_12 + y_127 + y_132 + y_133 + y_141 + y_142 + y_143 + y_145 + y_146 + y_147 + y_149 + y_15 + y_16 + y_161 + y_164 + y_166 + y_167 + y_170 + y_171 + y_172 + y_173 + y_2 + y_21 + y_23 + y_24 + y_27 + y_29 + y_3 + y_30 + y_36 + y_37 + y_38 + y_4 + y_41 + y_42 + y_44 + y_45 + y_46 + y_49 + y_54 + y_56 + y_6 + y_61 + y_62 + y_64 + y_65 + y_7 + y_76 + y_79 + y_82 + y_83 + y_85 + y_9 + y_90 + y_94 + y_95 + y_96, y_0 + y_1 + y_10 + y_112 + y_113 + y_114 + y_116 + y_117 + y_119 + y_12 + y_120 + y_121 + y_124 + y_125 + y_126 + y_128 + y_129 + y_131 + y_134 + y_137 + y_138 + y_14 + y_15 + y_152 + y_153 + y_156 + y_158 + y_161 + y_168 + y_18 + y_19 + y_21 + y_22 + y_28 + y_29 + y_37 + y_38 + y_4 + y_41 + y_43 + y_55 + y_56 + y_58 + y_59 + y_6 + y_63 + y_68 + y_69 + y_7 + y_70 + y_84 + y_85 + y_87 + y_88 + y_92 + y_97 + y_98 + y_99, y_1 + y_10 + y_100 + y_101 + y_107 + y_108 + y_109 + y_11 + y_110 + y_112 + y_113 + y_114 + y_115 + y_116 + y_117 + y_118 + y_12 + y_122 + y_123 + y_126 + y_127 + y_129 + y_13 + y_130 + y_136 + y_139 + y_141 + y_142 + y_146 + y_148 + y_15 + y_150 + y_153 + y_154 + y_159 + y_160 + y_163 + y_164 + y_165 + y_166 + y_168 + y_17 + y_170 + y_171 + y_172 + y_18 + y_20 + y_21 + y_22 + y_23 + y_24 + y_25 + y_26 + y_27 + y_28 + y_29 + y_3 + y_30 + y_31 + y_32 + y_34 + y_36 + y_37 + y_39 + y_4 + y_40 + y_41 + y_43 + y_44 + y_45 + y_46 + y_47 + y_48 + y_49 + y_5 + y_50 + y_52 + y_54 + y_56 + y_57 + y_58 + y_59 + y_64 + y_67 + y_69 + y_7 + y_72 + y_73 + y_74 + y_76 + y_79 + y_85 + y_89 + y_9 + y_90 + y_92 + y_94 + y_95, y_0 + y_1 + y_101 + y_104 + y_105 + y_11 + y_110 + y_111 + y_112 + y_120 + y_122 + y_13 + y_151 + y_153 + y_154 + y_159 + y_16 + y_17 + y_172 + y_174 + y_2 + y_20 + y_3 + y_31 + y_34 + y_35 + y_46 + y_47 + y_50 + y_51 + y_53 + y_55 + y_57 + y_58 + y_60 + y_68 + y_71 + y_72 + y_73 + y_75 + y_76 + y_8 + y_80 + y_81 + y_82 + y_83 + y_84 + y_86 + y_87 + y_89 + y_9 + y_98, y_10 + y_106 + y_11 + y_112 + y_115 + y_116 + y_118 + y_125 + y_128 + y_130 + y_134 + y_140 + y_144 + y_149 + y_161 + y_162 + y_168 + y_171 + y_174 + y_2 + y_21 + y_22 + y_24 + y_36 + y_40 + y_45 + y_46 + y_49 + y_52 + y_6 + y_64 + y_65 + y_67 + y_7 + y_74 + y_77 + y_79 + y_83 + y_85 + y_88 + y_9 + y_91, y_0 + y_113 + y_115 + y_117 + y_118 + y_119 + y_120 + y_122 + y_123 + y_124 + y_125 + y_126 + y_127 + y_128 + y_129 + y_130 + y_131 + y_133 + y_134 + y_135 + y_136 + y_138 + y_139 + y_140 + y_143 + y_147 + y_148 + y_149 + y_151 + y_152 + y_153 + y_155 + y_156 + y_157 + y_158 + y_159 + y_160 + y_161 + y_162 + y_164 + y_165 + y_166 + y_167 + y_168 + y_169 + y_170 + y_171 + y_172 + y_173 + y_18 + y_21 + y_23 + y_24 + y_31 + y_32 + y_34 + y_35 + y_36 + y_39 + y_43 + y_44 + y_45, y_0 + y_103 + y_104 + y_106 + y_107 + y_108 + y_110 + y_112 + y_113 + y_114 + y_116 + y_117 + y_119 + y_120 + y_122 + y_123 + y_124 + y_125 + y_126 + y_128 + y_129 + y_130 + y_131 + y_132 + y_133 + y_134 + y_137 + y_138 + y_150 + y_152 + y_153 + y_155 + y_156 + y_157 + y_159 + y_161 + y_168 + y_174 + y_46 + y_55 + y_56 + y_58 + y_60 + y_61 + y_65 + y_66 + y_74 + y_75 + y_77 + y_78 + y_79 + y_81 + y_83 + y_84 + y_85 + y_87 + y_89 + y_90 + y_94 + y_95, y_101 + y_102 + y_103 + y_104 + y_107 + y_108 + y_11 + y_110 + y_111 + y_13 + y_14 + y_150 + y_16 + y_168 + y_17 + y_172 + y_2 + y_20 + y_22 + y_23 + y_31 + y_32 + y_33 + y_35 + y_37 + y_38 + y_41 + y_42 + y_43 + y_44 + y_46 + y_48 + y_5 + y_51 + y_52 + y_54 + y_57 + y_59 + y_60 + y_69 + y_7 + y_70 + y_72 + y_74 + y_75 + y_77 + y_78 + y_79 + y_8 + y_81 + y_84 + y_86 + y_88 + y_89 + y_98 + y_99, y_10 + y_100 + y_101 + y_102 + y_103 + y_105 + y_106 + y_107 + y_108 + y_109 + y_110 + y_111 + y_112 + y_114 + y_117 + y_118 + y_12 + y_121 + y_122 + y_129 + y_13 + y_130 + y_131 + y_132 + y_136 + y_137 + y_139 + y_142 + y_143 + y_145 + y_146 + y_148 + y_149 + y_15 + y_150 + y_152 + y_153 + y_155 + y_156 + y_157 + y_159 + y_161 + y_163 + y_164 + y_165 + y_166 + y_168 + y_17 + y_172 + y_2 + y_26 + y_29 + y_30 + y_33 + y_34 + y_4 + y_41 + y_42 + y_43 + y_44 + y_46 + y_47 + y_48 + y_49 + y_51 + y_53 + y_54 + y_56 + y_59 + y_60 + y_64 + y_65 + y_67 + y_7 + y_74 + y_75 + y_77 + y_78 + y_79 + y_8 + y_81 + y_83 + y_84 + y_85 + y_86 + y_88 + y_90 + y_91 + y_92 + y_93 + y_94 + y_95 + y_97 + y_98, y_10 + y_103 + y_106 + y_108 + y_112 + y_113 + y_115 + y_118 + y_124 + y_127 + y_133 + y_14 + y_141 + y_143 + y_144 + y_146 + y_161 + y_162 + y_164 + y_168 + y_17 + y_171 + y_174 + y_25 + y_27 + y_30 + y_36 + y_39 + y_45 + y_46 + y_47 + y_51 + y_54 + y_62 + y_64 + y_67 + y_73 + y_76 + y_82 + y_84 + y_87 + y_90 + y_91 + y_93 + y_96, y_104 + y_107 + y_110 + y_112 + y_126 + y_129 + y_132 + y_150 + y_153 + y_156 + y_159 + y_16 + y_165 + y_169 + y_173 + y_23 + y_34 + y_38 + y_41 + y_44 + y_53 + y_60 + y_71 + y_8 + y_80 + y_83, y_0 + y_1 + y_10 + y_100 + y_101 + y_102 + y_103 + y_104 + y_105 + y_106 + y_109 + y_111 + y_119 + y_121 + y_122 + y_123 + y_124 + y_125 + y_126 + y_127 + y_128 + y_13 + y_131 + y_133 + y_135 + y_137 + y_138 + y_139 + y_14 + y_140 + y_141 + y_142 + y_143 + y_144 + y_147 + y_149 + y_151 + y_152 + y_153 + y_154 + y_155 + y_158 + y_160 + y_161 + y_162 + y_165 + y_167 + y_168 + y_172 + y_174 + y_18 + y_2 + y_20 + y_21 + y_25 + y_26 + y_27 + y_3 + y_31 + y_32 + y_36 + y_4 + y_46 + y_47 + y_5 + y_52 + y_53 + y_54 + y_55 + y_59 + y_60 + y_61 + y_62 + y_65 + y_66 + y_67 + y_68 + y_70 + y_71 + y_72 + y_77 + y_80 + y_82 + y_97 + y_99, y_1 + y_10 + y_100 + y_101 + y_102 + y_103 + y_104 + y_108 + y_11 + y_110 + y_111 + y_119 + y_12 + y_121 + y_123 + y_124 + y_125 + y_127 + y_13 + y_130 + y_135 + y_137 + y_139 + y_140 + y_141 + y_143 + y_146 + y_15 + y_150 + y_151 + y_152 + y_154 + y_156 + y_158 + y_159 + y_16 + y_162 + y_163 + y_164 + y_165 + y_166 + y_167 + y_170 + y_174 + y_18 + y_2 + y_22 + y_24 + y_25 + y_28 + y_30 + y_31 + y_33 + y_35 + y_40 + y_41 + y_42 + y_43 + y_44 + y_45 + y_50 + y_51 + y_54 + y_68 + y_7 + y_70 + y_72 + y_73 + y_74 + y_76 + y_79 + y_86 + y_87 + y_9 + y_90 + y_92 + y_93 + y_96 + y_98 + y_99, y_0 + y_10 + y_101 + y_102 + y_105 + y_11 + y_111 + y_113 + y_116 + y_119 + y_12 + y_121 + y_124 + y_125 + y_128 + y_135 + y_137 + y_140 + y_141 + y_144 + y_146 + y_149 + y_150 + y_155 + y_157 + y_160 + y_161 + y_162 + y_164 + y_167 + y_168 + y_17 + y_171 + y_18 + y_22 + y_25 + y_28 + y_40 + y_42 + y_45 + y_83 + y_84 + y_85 + y_86 + y_87 + y_91 + y_92 + y_93 + y_96 + y_97, y_0 + y_103 + y_104 + y_106 + y_109 + y_11 + y_117 + y_122 + y_126 + y_129 + y_13 + y_131 + y_134 + y_138 + y_145 + y_147 + y_15 + y_150 + y_153 + y_158 + y_16 + y_161 + y_163 + y_165 + y_168 + y_169 + y_172 + y_18 + y_19 + y_20 + y_21 + y_22 + y_26 + y_28 + y_29 + y_3 + y_32 + y_34 + y_37 + y_38 + y_41 + y_43 + y_46 + y_48 + y_5 + y_50 + y_52 + y_53 + y_60 + y_7 + y_71 + y_78 + y_8 + y_80 + y_83 + y_85 + y_86 + y_87 + y_88 + y_89 + y_92 + y_94 + y_95 + y_97 + y_98, y_1 + y_100 + y_101 + y_104 + y_105 + y_107 + y_108 + y_109 + y_111 + y_120 + y_122 + y_126 + y_127 + y_13 + y_131 + y_132 + y_136 + y_138 + y_142 + y_143 + y_147 + y_148 + y_150 + y_151 + y_152 + y_154 + y_156 + y_158 + y_159 + y_16 + y_163 + y_164 + y_165 + y_166 + y_169 + y_17 + y_170 + y_173 + y_174 + y_2 + y_32 + y_34 + y_38 + y_39 + y_43 + y_44 + y_46 + y_48 + y_49 + y_5 + y_51 + y_52 + y_53 + y_54 + y_55 + y_57 + y_58 + y_6 + y_61 + y_62 + y_63 + y_64 + y_67 + y_69 + y_70 + y_71 + y_72 + y_74 + y_75 + y_77 + y_79 + y_80 + y_81 + y_86 + y_89 + y_9 + y_90 + y_92 + y_95 + y_96 + y_98 + y_99, y_1 + y_112 + y_114 + y_115 + y_116 + y_117 + y_121 + y_122 + y_123 + y_125 + y_126 + y_127 + y_128 + y_130 + y_131 + y_132 + y_135 + y_136 + y_138 + y_139 + y_141 + y_143 + y_144 + y_145 + y_146 + y_148 + y_150 + y_152 + y_153 + y_154 + y_155 + y_156 + y_157 + y_162 + y_163 + y_166 + y_167 + y_169 + y_170 + y_171 + y_174 + y_20 + y_21 + y_22 + y_23 + y_3 + y_31 + y_32 + y_34 + y_35 + y_37 + y_39 + y_40 + y_41 + y_42 + y_44 + y_55 + y_56 + y_57 + y_58 + y_6 + y_61 + y_62 + y_64 + y_66 + y_67 + y_68 + y_69 + y_71 + y_72 + y_73 + y_75 + y_8 + y_80 + y_81 + y_82 + y_9, y_100 + y_101 + y_107 + y_108 + y_109 + y_111 + y_113 + y_115 + y_117 + y_119 + y_120 + y_122 + y_124 + y_125 + y_128 + y_129 + y_131 + y_142 + y_143 + y_148 + y_149 + y_153 + y_154 + y_159 + y_160 + y_161 + y_163 + y_164 + y_165 + y_167 + y_170 + y_171 + y_173 + y_46 + y_48 + y_53 + y_54 + y_55 + y_56 + y_57 + y_58 + y_59 + y_60 + y_66 + y_67 + y_71 + y_72 + y_75 + y_76 + y_78 + y_79 + y_81 + y_82 + y_83 + y_84 + y_85 + y_86 + y_88 + y_95 + y_96, y_10 + y_102 + y_103 + y_106 + y_107 + y_108 + y_109 + y_111 + y_13 + y_135 + y_137 + y_14 + y_140 + y_141 + y_144 + y_145 + y_146 + y_147 + y_149 + y_15 + y_150 + y_151 + y_152 + y_156 + y_158 + y_16 + y_164 + y_167 + y_168 + y_17 + y_170 + y_173 + y_174 + y_2 + y_25 + y_26 + y_27 + y_28 + y_29 + y_30 + y_32 + y_34 + y_37 + y_39 + y_4 + y_41 + y_44 + y_46 + y_47 + y_52 + y_6 + y_62 + y_65 + y_73 + y_74 + y_78 + y_8 + y_80 + y_97 + y_99, y_1 + y_10 + y_100 + y_103 + y_104 + y_11 + y_112 + y_114 + y_115 + y_120 + y_122 + y_123 + y_124 + y_126 + y_127 + y_13 + y_134 + y_137 + y_138 + y_14 + y_141 + y_142 + y_15 + y_152 + y_153 + y_156 + y_157 + y_158 + y_159 + y_16 + y_161 + y_162 + y_163 + y_164 + y_166 + y_168 + y_174 + y_19 + y_21 + y_23 + y_24 + y_25 + y_26 + y_27 + y_28 + y_29 + y_3 + y_32 + y_34 + y_35 + y_37 + y_39 + y_41 + y_42 + y_44 + y_45 + y_46 + y_5 + y_57 + y_58 + y_6 + y_7 + y_70 + y_71 + y_74 + y_75 + y_8 + y_83 + y_86 + y_87 + y_99, y_1 + y_100 + y_106 + y_107 + y_11 + y_112 + y_13 + y_15 + y_150 + y_16 + y_168 + y_2 + y_3 + y_46 + y_47 + y_5 + y_53 + y_55 + y_60 + y_68 + y_7 + y_71 + y_77 + y_78 + y_8 + y_80 + y_83 + y_84 + y_89 + y_97, y_0 + y_102 + y_104 + y_105 + y_11 + y_110 + y_114 + y_115 + y_116 + y_120 + y_123 + y_124 + y_125 + y_127 + y_130 + y_134 + y_136 + y_138 + y_14 + y_140 + y_141 + y_142 + y_145 + y_150 + y_151 + y_153 + y_154 + y_159 + y_16 + y_161 + y_162 + y_163 + y_164 + y_165 + y_166 + y_167 + y_168 + y_170 + y_174 + y_18 + y_19 + y_20 + y_22 + y_24 + y_27 + y_29 + y_32 + y_34 + y_36 + y_37 + y_39 + y_41 + y_43 + y_44 + y_48 + y_51 + y_53 + y_55 + y_56 + y_57 + y_59 + y_61 + y_64 + y_66 + y_69 + y_71 + y_73 + y_74 + y_76 + y_78 + y_80 + y_81 + y_83 + y_85 + y_87 + y_90 + y_93 + y_95, y_0 + y_10 + y_101 + y_102 + y_103 + y_104 + y_105 + y_106 + y_107 + y_109 + y_110 + y_111 + y_113 + y_114 + y_115 + y_117 + y_119 + y_121 + y_122 + y_123 + y_124 + y_125 + y_126 + y_127 + y_128 + y_129 + y_13 + y_131 + y_132 + y_133 + y_134 + y_135 + y_136 + y_138 + y_14 + y_140 + y_147 + y_150 + y_151 + y_152 + y_153 + y_154 + y_155 + y_156 + y_158 + y_159 + y_16 + y_160 + y_162 + y_165 + y_167 + y_168 + y_169 + y_173 + y_174 + y_18 + y_20 + y_21 + y_23 + y_31 + y_32 + y_34 + y_36 + y_43 + y_46 + y_47 + y_50 + y_51 + y_53 + y_55 + y_57 + y_58 + y_60 + y_68 + y_69 + y_71 + y_73 + y_80 + y_84 + y_86 + y_87 + y_89 + y_91 + y_92 + y_93 + y_95 + y_97 + y_98 + y_99, y_0 + y_1 + y_10 + y_103 + y_107 + y_108 + y_11 + y_112 + y_113 + y_114 + y_118 + y_121 + y_128 + y_13 + y_130 + y_135 + y_136 + y_137 + y_138 + y_14 + y_140 + y_143 + y_144 + y_146 + y_147 + y_148 + y_149 + y_15 + y_150 + y_152 + y_156 + y_16 + y_161 + y_162 + y_164 + y_169 + y_17 + y_170 + y_172 + y_174 + y_19 + y_20 + y_22 + y_24 + y_25 + y_26 + y_27 + y_28 + y_29 + y_3 + y_30 + y_32 + y_34 + y_37 + y_39 + y_41 + y_44 + y_5 + y_56 + y_59 + y_6 + y_62 + y_63 + y_64 + y_65 + y_66 + y_67 + y_7 + y_70 + y_74 + y_78 + y_79 + y_8 + y_85 + y_88 + y_9 + y_91 + y_92 + y_93 + y_94 + y_95 + y_96 + y_99, y_1 + y_10 + y_101 + y_103 + y_106 + y_108 + y_11 + y_112 + y_119 + y_12 + y_120 + y_122 + y_123 + y_125 + y_128 + y_129 + y_130 + y_134 + y_135 + y_136 + y_138 + y_139 + y_14 + y_141 + y_144 + y_145 + y_146 + y_151 + y_153 + y_158 + y_159 + y_160 + y_162 + y_163 + y_169 + y_17 + y_170 + y_171 + y_172 + y_18 + y_21 + y_23 + y_24 + y_25 + y_27 + y_29 + y_3 + y_30 + y_36 + y_38 + y_4 + y_43 + y_44 + y_45 + y_46 + y_57 + y_59 + y_6 + y_63 + y_65 + y_68 + y_69 + y_72 + y_74 + y_77 + y_79 + y_83 + y_86 + y_88 + y_9 + y_92 + y_94 + y_97 + y_98, y_1 + y_100 + y_102 + y_109 + y_119 + y_122 + y_124 + y_126 + y_131 + y_151 + y_153 + y_158 + y_161 + y_165 + y_18 + y_20 + y_21 + y_23 + y_31 + y_32 + y_34 + y_36 + y_43 + y_47 + y_5 + y_50 + y_51 + y_53 + y_6 + y_68 + y_71 + y_73 + y_75 + y_8 + y_80 + y_84 + y_86 + y_87 + y_89 + y_97 + y_98, y_0 + y_1 + y_10 + y_102 + y_135 + y_140 + y_144 + y_149 + y_155 + y_160 + y_162 + y_167 + y_168 + y_174 + y_31 + y_36 + y_40 + y_45 + y_46 + y_62 + y_68 + y_73 + y_83 + y_91 + y_97, y_0 + y_46 + y_47 + y_48 + y_49 + y_53 + y_55 + y_62 + y_80 + y_83, y_102 + y_105 + y_114 + y_115 + y_118 + y_119 + y_121 + y_122 + y_123 + y_124 + y_125 + y_126 + y_127 + y_13 + y_130 + y_132 + y_134 + y_136 + y_14 + y_140 + y_143 + y_151 + y_152 + y_153 + y_154 + y_161 + y_162 + y_164 + y_165 + y_166 + y_167 + y_168 + y_17 + y_172 + y_174 + y_2 + y_20 + y_21 + y_24 + y_26 + y_27 + y_3 + y_30 + y_32 + y_33 + y_34 + y_35 + y_36 + y_37 + y_38 + y_4 + y_42 + y_44 + y_45 + y_48 + y_51 + y_55 + y_56 + y_59 + y_6 + y_60 + y_61 + y_64 + y_7 + y_73 + y_74 + y_75 + y_76 + y_8 + y_83 + y_86 + y_87 + y_9 + y_90 + y_98, y_1 + y_10 + y_102 + y_104 + y_11 + y_110 + y_111 + y_112 + y_114 + y_115 + y_116 + y_120 + y_122 + y_123 + y_124 + y_125 + y_126 + y_127 + y_129 + y_130 + y_135 + y_138 + y_140 + y_142 + y_144 + y_145 + y_150 + y_151 + y_153 + y_159 + y_16 + y_160 + y_162 + y_163 + y_165 + y_166 + y_167 + y_168 + y_170 + y_171 + y_172 + y_18 + y_19 + y_20 + y_22 + y_23 + y_24 + y_25 + y_29 + y_3 + y_31 + y_34 + y_40 + y_41 + y_43 + y_44 + y_45 + y_46 + y_56 + y_58 + y_60 + y_61 + y_62 + y_66 + y_73 + y_75 + y_8 + y_81 + y_82 + y_83 + y_85 + y_87 + y_89 + y_90 + y_91 + y_95, y_112 + y_113 + y_116 + y_117 + y_118 + y_119 + y_121 + y_122 + y_123 + y_124 + y_125 + y_126 + y_127 + y_128 + y_130 + y_131 + y_132 + y_133 + y_135 + y_137 + y_138 + y_139 + y_144 + y_145 + y_147 + y_148 + y_149 + y_151 + y_152 + y_153 + y_154 + y_155 + y_156 + y_157 + y_158 + y_160 + y_162 + y_163 + y_165 + y_166 + y_167 + y_168 + y_169 + y_170 + y_171 + y_172 + y_173 + y_18 + y_22 + y_23 + y_24 + y_25 + y_28 + y_29 + y_30 + y_36 + y_37 + y_38 + y_39 + y_40 + y_41 + y_42 + y_43 + y_45 + y_55 + y_59 + y_60 + y_61 + y_62 + y_65 + y_66 + y_67 + y_73 + y_74 + y_75 + y_76 + y_77 + y_78 + y_79 + y_80 + y_82, y_106 + y_107 + y_110 + y_111 + y_112 + y_116 + y_117 + y_118 + y_128 + y_129 + y_132 + y_133 + y_134 + y_141 + y_142 + y_143 + y_144 + y_146 + y_147 + y_148 + y_161 + y_162 + y_163 + y_166 + y_167 + y_168 + y_169 + y_170 + y_171 + y_172 + y_174 + y_28 + y_29 + y_30 + y_40 + y_41 + y_44 + y_45 + y_52 + y_53 + y_54 + y_59 + y_60 + y_61 + y_65 + y_66 + y_67 + y_7 + y_74 + y_75 + y_76 + y_77 + y_78 + y_79 + y_8 + y_83 + y_9 + y_94 + y_95 + y_96, y_0 + y_100 + y_101 + y_102 + y_103 + y_104 + y_105 + y_107 + y_108 + y_112 + y_117 + y_118 + y_12 + y_122 + y_123 + y_126 + y_127 + y_129 + y_13 + y_130 + y_14 + y_142 + y_143 + y_147 + y_149 + y_15 + y_153 + y_154 + y_158 + y_160 + y_161 + y_163 + y_164 + y_169 + y_171 + y_19 + y_20 + y_21 + y_22 + y_25 + y_27 + y_31 + y_32 + y_37 + y_40 + y_83 + y_85 + y_86 + y_87 + y_88 + y_93 + y_95 + y_96 + y_98, y_0 + y_1 + y_10 + y_102 + y_105 + y_106 + y_108 + y_109 + y_110 + y_111 + y_112 + y_113 + y_115 + y_116 + y_117 + y_124 + y_126 + y_127 + y_128 + y_129 + y_130 + y_131 + y_132 + y_133 + y_134 + y_14 + y_140 + y_142 + y_144 + y_145 + y_147 + y_15 + y_16 + y_165 + y_166 + y_167 + y_169 + y_170 + y_171 + y_173 + y_174 + y_2 + y_25 + y_27 + y_28 + y_29 + y_36 + y_38 + y_39 + y_4 + y_40 + y_41 + y_42 + y_43 + y_44 + y_45 + y_47 + y_48 + y_49 + y_54 + y_55 + y_56 + y_60 + y_61 + y_62 + y_66 + y_8 + y_80 + y_81 + y_82 + y_83 + y_84 + y_87 + y_88 + y_89 + y_9 + y_91 + y_93 + y_94 + y_95, y_1 + y_10 + y_101 + y_103 + y_104 + y_107 + y_108 + y_109 + y_110 + y_112 + y_113 + y_115 + y_116 + y_118 + y_119 + y_120 + y_121 + y_123 + y_125 + y_126 + y_129 + y_130 + y_131 + y_132 + y_14 + y_140 + y_141 + y_144 + y_146 + y_149 + y_15 + y_151 + y_152 + y_155 + y_157 + y_160 + y_163 + y_165 + y_169 + y_17 + y_170 + y_173 + y_18 + y_21 + y_22 + y_24 + y_36 + y_37 + y_40 + y_42 + y_45 + y_47 + y_51 + y_52 + y_54 + y_55 + y_58 + y_59 + y_6 + y_61 + y_62 + y_64 + y_65 + y_67 + y_68 + y_69 + y_7 + y_70 + y_72 + y_75 + y_78 + y_80 + y_81 + y_83 + y_9 + y_91 + y_93 + y_94 + y_96 + y_97 + y_98 + y_99, y_0 + y_1 + y_150 + y_168 + y_172 + y_2 + y_3 + y_4 + y_48 + y_49 + y_5 + y_51 + y_52 + y_54 + y_57 + y_59 + y_6 + y_60 + y_63 + y_65 + y_66 + y_69 + y_70 + y_72 + y_74 + y_75 + y_77 + y_78 + y_79 + y_8 + y_81 + y_83 + y_9, y_0 + y_10 + y_100 + y_103 + y_107 + y_11 + y_112 + y_114 + y_116 + y_12 + y_120 + y_123 + y_125 + y_13 + y_130 + y_134 + y_135 + y_138 + y_139 + y_14 + y_144 + y_145 + y_146 + y_15 + y_151 + y_153 + y_154 + y_159 + y_16 + y_161 + y_162 + y_163 + y_164 + y_170 + y_172 + y_19 + y_2 + y_21 + y_24 + y_26 + y_28 + y_29 + y_3 + y_30 + y_32 + y_35 + y_37 + y_38 + y_39 + y_42 + y_44 + y_45 + y_46 + y_5 + y_50 + y_52 + y_57 + y_59 + y_68 + y_7 + y_71 + y_72 + y_77 + y_78 + y_79 + y_8 + y_86 + y_88 + y_9 + y_92 + y_94 + y_98, y_101 + y_102 + y_104 + y_110 + y_111 + y_116 + y_117 + y_121 + y_122 + y_125 + y_126 + y_129 + y_130 + y_131 + y_132 + y_134 + y_137 + y_138 + y_144 + y_145 + y_150 + y_152 + y_153 + y_157 + y_159 + y_161 + y_162 + y_163 + y_170 + y_171 + y_172 + y_174 + y_56 + y_57 + y_58 + y_60 + y_61 + y_62 + y_63 + y_66 + y_69 + y_72 + y_73 + y_75 + y_81 + y_82 + y_85 + y_86 + y_87 + y_89 + y_90 + y_91 + y_92 + y_95 + y_98, y_0 + y_1 + y_101 + y_105 + y_108 + y_11 + y_111 + y_13 + y_133 + y_14 + y_15 + y_160 + y_167 + y_17 + y_171 + y_2 + y_24 + y_3 + y_35 + y_39 + y_42 + y_45 + y_47 + y_48 + y_5 + y_50 + y_51 + y_52 + y_55 + y_6 + y_68 + y_7 + y_73 + y_77 + y_90, y_10 + y_102 + y_104 + y_105 + y_109 + y_110 + y_111 + y_127 + y_14 + y_143 + y_161 + y_166 + y_17 + y_2 + y_39 + y_46 + y_47 + y_48 + y_49 + y_51 + y_53 + y_61 + y_67 + y_76 + y_81 + y_82 + y_84 + y_87 + y_9 + y_90 + y_91 + y_93 + y_96, y_10 + y_11 + y_112 + y_113 + y_114 + y_116 + y_120 + y_121 + y_122 + y_123 + y_124 + y_125 + y_129 + y_130 + y_131 + y_133 + y_134 + y_135 + y_136 + y_137 + y_138 + y_139 + y_14 + y_140 + y_141 + y_144 + y_145 + y_146 + y_147 + y_149 + y_15 + y_16 + y_161 + y_168 + y_17 + y_172 + y_174 + y_18 + y_20 + y_22 + y_31 + y_32 + y_33 + y_34 + y_35 + y_36 + y_37 + y_40 + y_41 + y_42 + y_43 + y_45 + y_85 + y_87 + y_88 + y_89 + y_90 + y_91 + y_93 + y_94 + y_95 + y_96, y_105 + y_110 + y_111 + y_112 + y_127 + y_130 + y_132 + y_164 + y_168 + y_17 + y_170 + y_171 + y_174 + y_2 + y_39 + y_42 + y_44 + y_46 + y_47 + y_48 + y_51 + y_53 + y_58 + y_59 + y_6 + y_60 + y_7 + y_74 + y_77 + y_78 + y_8 + y_83 + y_90, y_101 + y_103 + y_106 + y_108 + y_11 + y_114 + y_115 + y_116 + y_118 + y_121 + y_125 + y_128 + y_13 + y_130 + y_135 + y_136 + y_139 + y_141 + y_144 + y_146 + y_15 + y_150 + y_152 + y_155 + y_157 + y_161 + y_162 + y_171 + y_174 + y_20 + y_21 + y_22 + y_24 + y_3 + y_31 + y_32 + y_35 + y_37 + y_40 + y_42 + y_46 + y_5 + y_55 + y_56 + y_57 + y_58 + y_61 + y_63 + y_65 + y_69 + y_7 + y_70 + y_72 + y_74 + y_77 + y_79 + y_83 + y_84 + y_85 + y_86 + y_87 + y_90 + y_92 + y_94 + y_98 + y_99, y_0 + y_102 + y_105 + y_106 + y_108 + y_11 + y_116 + y_118 + y_12 + y_128 + y_130 + y_14 + y_141 + y_143 + y_144 + y_149 + y_15 + y_162 + y_164 + y_171 + y_174 + y_19 + y_22 + y_25 + y_27 + y_37 + y_40 + y_83 + y_84 + y_85 + y_90 + y_93 + y_94 + y_96, y_112 + y_114 + y_117 + y_119 + y_121 + y_122 + y_129 + y_134 + y_135 + y_136 + y_137 + y_138 + y_139 + y_142 + y_145 + y_148 + y_151 + y_152 + y_153 + y_155 + y_157 + y_158 + y_159 + y_160 + y_161 + y_163 + y_169 + y_170 + y_172 + y_174 + y_20 + y_23 + y_26 + y_29 + y_31 + y_32 + y_35 + y_38 + y_43 + y_44 + y_46 + y_5 + y_63 + y_66 + y_68 + y_70 + y_71 + y_78 + y_8, y_0 + y_1 + y_113 + y_114 + y_116 + y_118 + y_12 + y_120 + y_121 + y_122 + y_124 + y_125 + y_127 + y_129 + y_13 + y_130 + y_131 + y_132 + y_134 + y_135 + y_136 + y_137 + y_138 + y_14 + y_140 + y_141 + y_143 + y_144 + y_145 + y_146 + y_147 + y_148 + y_149 + y_150 + y_16 + y_168 + y_17 + y_174 + y_2 + y_25 + y_26 + y_28 + y_30 + y_32 + y_33 + y_34 + y_36 + y_37 + y_39 + y_41 + y_42 + y_43 + y_44 + y_48 + y_49 + y_5 + y_55 + y_57 + y_59 + y_61 + y_62 + y_63 + y_65 + y_67 + y_7 + y_83 + y_85 + y_86 + y_87 + y_89 + y_9 + y_90 + y_91 + y_92 + y_93 + y_95 + y_96, y_0 + y_100 + y_101 + y_102 + y_105 + y_109 + y_110 + y_113 + y_114 + y_118 + y_12 + y_120 + y_122 + y_123 + y_124 + y_127 + y_131 + y_132 + y_135 + y_138 + y_14 + y_147 + y_148 + y_149 + y_150 + y_151 + y_153 + y_159 + y_16 + y_160 + y_165 + y_166 + y_167 + y_17 + y_172 + y_19 + y_21 + y_23 + y_24 + y_25 + y_26 + y_29 + y_30 + y_32 + y_34 + y_35 + y_36 + y_38 + y_39 + y_46 + y_49 + y_51 + y_53 + y_54 + y_56 + y_58 + y_60 + y_61 + y_62 + y_63 + y_66 + y_67 + y_69 + y_71 + y_72 + y_73 + y_75 + y_76 + y_91 + y_92 + y_96 + y_98, y_0 + y_112 + y_120 + y_121 + y_122 + y_152 + y_155 + y_156 + y_161 + y_172 + y_46 + y_55 + y_57 + y_58 + y_59 + y_60 + y_70 + y_74 + y_78, y_0 + y_10 + y_100 + y_103 + y_104 + y_105 + y_108 + y_11 + y_110 + y_111 + y_112 + y_116 + y_117 + y_12 + y_121 + y_122 + y_125 + y_126 + y_130 + y_132 + y_134 + y_137 + y_138 + y_14 + y_144 + y_146 + y_147 + y_148 + y_15 + y_152 + y_153 + y_16 + y_161 + y_162 + y_164 + y_165 + y_166 + y_168 + y_172 + y_2 + y_22 + y_23 + y_28 + y_29 + y_3 + y_37 + y_38 + y_4 + y_46 + y_48 + y_50 + y_52 + y_53 + y_54 + y_55 + y_56 + y_57 + y_58 + y_59 + y_6 + y_60 + y_61 + y_63 + y_65 + y_66 + y_67 + y_69 + y_74 + y_75 + y_76 + y_85 + y_86 + y_87 + y_90 + y_92 + y_94 + y_95 + y_96 + y_97 + y_98 + y_99, y_103 + y_105 + y_106 + y_111 + y_112 + y_114 + y_117 + y_118 + y_121 + y_123 + y_129 + y_130 + y_132 + y_133 + y_136 + y_137 + y_139 + y_142 + y_143 + y_145 + y_146 + y_148 + y_149 + y_152 + y_154 + y_155 + y_160 + y_161 + y_163 + y_164 + y_166 + y_167 + y_168 + y_169 + y_171 + y_173 + y_48 + y_51 + y_52 + y_54 + y_55 + y_56 + y_57 + y_59 + y_60 + y_64 + y_65 + y_67 + y_69 + y_70 + y_72 + y_73 + y_74 + y_75 + y_78 + y_79 + y_81 + y_82 + y_85 + y_88 + y_90 + y_93 + y_94 + y_96, y_0 + y_10 + y_101 + y_107 + y_109 + y_11 + y_110 + y_112 + y_114 + y_116 + y_117 + y_118 + y_119 + y_12 + y_121 + y_122 + y_130 + y_132 + y_133 + y_134 + y_135 + y_138 + y_139 + y_144 + y_145 + y_146 + y_15 + y_150 + y_155 + y_156 + y_157 + y_158 + y_159 + y_160 + y_168 + y_17 + y_170 + y_174 + y_19 + y_2 + y_20 + y_24 + y_26 + y_28 + y_31 + y_33 + y_35 + y_4 + y_42 + y_46 + y_48 + y_49 + y_5 + y_50 + y_53 + y_56 + y_57 + y_61 + y_62 + y_66 + y_67 + y_68 + y_71 + y_72 + y_81 + y_86 + y_88 + y_89 + y_9 + y_90 + y_92 + y_94 + y_95 + y_96 + y_97 + y_99, y_0 + y_1 + y_101 + y_12 + y_13 + y_135 + y_138 + y_148 + y_149 + y_158 + y_159 + y_160 + y_174 + y_2 + y_25 + y_29 + y_31 + y_34 + y_50 + y_54 + y_68 + y_71 + y_8 + y_81 + y_82 + y_92 + y_96 + y_97, y_101 + y_103 + y_105 + y_150 + y_152 + y_153 + y_154 + y_156 + y_158 + y_159 + y_161 + y_162 + y_163 + y_166 + y_167 + y_168 + y_172 + y_174 + y_31 + y_32 + y_33 + y_35 + y_37 + y_39 + y_46 + y_68 + y_69 + y_70 + y_72 + y_74 + y_76 + y_83 + y_97 + y_98 + y_99, y_100 + y_101 + y_102 + y_103 + y_104 + y_105 + y_106 + y_107 + y_109 + y_110 + y_111 + y_113 + y_114 + y_115 + y_117 + y_119 + y_121 + y_122 + y_124 + y_125 + y_126 + y_128 + y_129 + y_131 + y_135 + y_137 + y_138 + y_139 + y_140 + y_141 + y_142 + y_143 + y_144 + y_145 + y_147 + y_148 + y_149 + y_150 + y_155 + y_157 + y_158 + y_159 + y_160 + y_161 + y_162 + y_164 + y_165 + y_166 + y_167 + y_168 + y_169 + y_170 + y_171 + y_172 + y_173 + y_18 + y_20 + y_21 + y_23 + y_31 + y_33 + y_34 + y_35 + y_36 + y_37 + y_38 + y_39 + y_40 + y_41 + y_43 + y_44 + y_45 + y_55 + y_57 + y_58 + y_60 + y_68 + y_70 + y_71 + y_72 + y_73 + y_74 + y_75 + y_76 + y_77 + y_78 + y_80 + y_81 + y_82 + y_84 + y_86 + y_87 + y_89 + y_97 + y_99, y_1 + y_10 + y_103 + y_113 + y_114 + y_115 + y_116 + y_121 + y_125 + y_13 + y_136 + y_137 + y_138 + y_139 + y_14 + y_142 + y_143 + y_145 + y_146 + y_147 + y_149 + y_15 + y_150 + y_152 + y_155 + y_156 + y_157 + y_161 + y_163 + y_164 + y_168 + y_18 + y_2 + y_20 + y_21 + y_22 + y_25 + y_26 + y_27 + y_28 + y_3 + y_31 + y_32 + y_34 + y_35 + y_36 + y_37 + y_38 + y_39 + y_4 + y_40 + y_41 + y_42 + y_43 + y_45 + y_46 + y_49 + y_52 + y_56 + y_59 + y_6 + y_64 + y_65 + y_66 + y_67 + y_74 + y_77 + y_78 + y_79 + y_8 + y_9 + y_91 + y_92 + y_93 + y_94 + y_99, y_1 + y_100 + y_104 + y_105 + y_107 + y_108 + y_110 + y_111 + y_120 + y_122 + y_123 + y_124 + y_125 + y_126 + y_129 + y_130 + y_132 + y_133 + y_136 + y_138 + y_139 + y_140 + y_141 + y_142 + y_145 + y_146 + y_148 + y_149 + y_150 + y_152 + y_154 + y_156 + y_157 + y_159 + y_160 + y_161 + y_163 + y_164 + y_166 + y_167 + y_168 + y_169 + y_171 + y_173 + y_20 + y_21 + y_22 + y_24 + y_26 + y_27 + y_28 + y_3 + y_30 + y_31 + y_32 + y_33 + y_34 + y_38 + y_39 + y_4 + y_41 + y_42 + y_44 + y_45 + y_47 + y_48 + y_49 + y_51 + y_52 + y_53 + y_55 + y_57 + y_59 + y_6 + y_60 + y_62 + y_63 + y_65 + y_66 + y_68 + y_69 + y_7 + y_70 + y_71 + y_73 + y_74 + y_75 + y_77 + y_8 + y_80 + y_86 + y_87 + y_88 + y_90 + y_92 + y_93 + y_94 + y_96 + y_97 + y_98 + y_99, y_134 + y_136 + y_138 + y_142 + y_143 + y_147 + y_148 + y_150 + y_161 + y_174 + y_27 + y_29 + y_32 + y_34 + y_36 + y_38 + y_39 + y_44 + y_46 + y_6 + y_64 + y_66 + y_8, y_1 + y_10 + y_101 + y_11 + y_112 + y_119 + y_12 + y_120 + y_121 + y_122 + y_126 + y_127 + y_129 + y_130 + y_132 + y_133 + y_134 + y_135 + y_136 + y_137 + y_138 + y_14 + y_142 + y_143 + y_145 + y_146 + y_148 + y_149 + y_15 + y_151 + y_153 + y_154 + y_155 + y_156 + y_157 + y_158 + y_159 + y_160 + y_17 + y_18 + y_21 + y_22 + y_23 + y_25 + y_27 + y_28 + y_29 + y_3 + y_36 + y_38 + y_39 + y_4 + y_40 + y_41 + y_42 + y_43 + y_44 + y_45 + y_46 + y_47 + y_48 + y_49 + y_51 + y_52 + y_54 + y_57 + y_6 + y_60 + y_61 + y_63 + y_66 + y_67 + y_68 + y_69 + y_7 + y_70 + y_72 + y_75 + y_76 + y_78 + y_79 + y_80 + y_81 + y_86 + y_87 + y_88 + y_9 + y_90 + y_92 + y_93 + y_94 + y_96 + y_97 + y_98 + y_99, y_1 + y_10 + y_101 + y_106 + y_108 + y_109 + y_110 + y_111 + y_12 + y_13 + y_134 + y_136 + y_138 + y_140 + y_141 + y_142 + y_143 + y_145 + y_148 + y_15 + y_151 + y_154 + y_158 + y_159 + y_16 + y_161 + y_162 + y_164 + y_165 + y_166 + y_167 + y_169 + y_170 + y_174 + y_26 + y_27 + y_28 + y_30 + y_32 + y_34 + y_35 + y_36 + y_37 + y_38 + y_4 + y_41 + y_42 + y_44 + y_45 + y_46 + y_5 + y_62 + y_63 + y_65 + y_66 + y_67 + y_68 + y_7 + y_72 + y_77 + y_79 + y_8 + y_80 + y_81 + y_82 + y_83 + y_91 + y_92 + y_94 + y_95 + y_96 + y_97, y_101 + y_105 + y_111 + y_112 + y_113 + y_114 + y_118 + y_123 + y_135 + y_136 + y_139 + y_140 + y_143 + y_149 + y_150 + y_154 + y_161 + y_174 + y_56 + y_61 + y_62 + y_63 + y_64 + y_72 + y_76 + y_82 + y_85 + y_90 + y_91 + y_92 + y_93, y_100 + y_101 + y_106 + y_107 + y_108 + y_114 + y_116 + y_121 + y_128 + y_134 + y_135 + y_138 + y_139 + y_144 + y_145 + y_146 + y_155 + y_156 + y_157 + y_169 + y_171 + y_46 + y_50 + y_52 + y_57 + y_59 + y_63 + y_65 + y_70 + y_71 + y_72 + y_77 + y_78 + y_79 + y_83 + y_86 + y_88 + y_97, y_0 + y_10 + y_103 + y_104 + y_105 + y_106 + y_109 + y_111 + y_134 + y_14 + y_161 + y_168 + y_172 + y_174 + y_2 + y_46 + y_49 + y_52 + y_53 + y_54 + y_6 + y_64 + y_74 + y_75 + y_76 + y_91 + y_93, y_100 + y_101 + y_105 + y_11 + y_110 + y_113 + y_114 + y_117 + y_118 + y_119 + y_120 + y_122 + y_123 + y_124 + y_126 + y_127 + y_13 + y_131 + y_133 + y_134 + y_138 + y_148 + y_153 + y_159 + y_161 + y_166 + y_17 + y_173 + y_174 + y_18 + y_19 + y_20 + y_21 + y_26 + y_30 + y_32 + y_35 + y_39 + y_45 + y_48 + y_50 + y_54 + y_55 + y_56 + y_57 + y_58 + y_63 + y_67 + y_69 + y_72 + y_76 + y_82 + y_83 + y_84 + y_85 + y_87 + y_89 + y_90 + y_92 + y_96 + y_97 + y_98, y_1 + y_10 + y_100 + y_106 + y_107 + y_108 + y_109 + y_11 + y_110 + y_111 + y_112 + y_113 + y_114 + y_116 + y_118 + y_12 + y_121 + y_123 + y_138 + y_139 + y_145 + y_146 + y_147 + y_148 + y_15 + y_156 + y_157 + y_159 + y_16 + y_160 + y_172 + y_174 + y_19 + y_22 + y_24 + y_29 + y_3 + y_30 + y_4 + y_41 + y_42 + y_44 + y_45 + y_55 + y_57 + y_59 + y_61 + y_62 + y_63 + y_65 + y_67 + y_68 + y_7 + y_70 + y_71 + y_77 + y_78 + y_79 + y_8 + y_80 + y_81 + y_82 + y_84 + y_86 + y_88 + y_90 + y_91 + y_92 + y_94 + y_96 + y_97 + y_99, y_112 + y_113 + y_114 + y_115 + y_119 + y_120 + y_122 + y_123 + y_124 + y_126 + y_127 + y_131 + y_133 + y_134 + y_136 + y_139 + y_143 + y_149 + y_150 + y_153 + y_159 + y_166 + y_172 + y_173 + y_174 + y_18 + y_19 + y_21 + y_23 + y_24 + y_26 + y_30 + y_31 + y_32 + y_34 + y_35 + y_39 + y_44, y_0 + y_103 + y_106 + y_107 + y_108 + y_13 + y_14 + y_15 + y_150 + y_16 + y_161 + y_168 + y_17 + y_172 + y_174 + y_83 + y_99, y_0 + y_100 + y_101 + y_106 + y_107 + y_108 + y_112 + y_125 + y_126 + y_127 + y_130 + y_132 + y_133 + y_150 + y_152 + y_153 + y_154 + y_157 + y_159 + y_160 + y_161 + y_162 + y_163 + y_164 + y_168 + y_170 + y_174 + y_52 + y_53 + y_54 + y_59 + y_60 + y_61 + y_70 + y_71 + y_72 + y_74 + y_75 + y_76 + y_78 + y_80 + y_81 + y_83 + y_88 + y_89 + y_90 + y_99, y_0 + y_10 + y_102 + y_103 + y_106 + y_107 + y_108 + y_109 + y_111 + y_124 + y_125 + y_128 + y_129 + y_130 + y_131 + y_133 + y_14 + y_140 + y_141 + y_144 + y_145 + y_146 + y_147 + y_149 + y_151 + y_152 + y_155 + y_156 + y_157 + y_158 + y_16 + y_160 + y_161 + y_162 + y_168 + y_169 + y_17 + y_171 + y_172 + y_174 + y_18 + y_21 + y_23 + y_24 + y_25 + y_27 + y_29 + y_30 + y_31 + y_32 + y_34 + y_35 + y_36 + y_43 + y_45 + y_46 + y_47 + y_51 + y_53 + y_54 + y_55 + y_58 + y_60 + y_61 + y_62 + y_64 + y_66 + y_67 + y_68 + y_69 + y_71 + y_72 + y_73 + y_80 + y_82, y_1 + y_134 + y_135 + y_136 + y_139 + y_140 + y_141 + y_142 + y_144 + y_146 + y_147 + y_148 + y_149 + y_150 + y_152 + y_155 + y_157 + y_163 + y_168 + y_169 + y_170 + y_172 + y_31 + y_32 + y_35 + y_36 + y_37 + y_38 + y_40 + y_42 + y_43 + y_44 + y_45 + y_5 + y_62 + y_63 + y_65 + y_66 + y_7 + y_70 + y_78 + y_8, y_0 + y_10 + y_100 + y_102 + y_103 + y_104 + y_11 + y_115 + y_116 + y_117 + y_12 + y_120 + y_121 + y_122 + y_125 + y_126 + y_127 + y_128 + y_13 + y_130 + y_131 + y_132 + y_143 + y_146 + y_148 + y_15 + y_154 + y_157 + y_159 + y_16 + y_161 + y_164 + y_166 + y_167 + y_168 + y_172 + y_19 + y_2 + y_20 + y_22 + y_23 + y_24 + y_3 + y_30 + y_35 + y_42 + y_44 + y_45 + y_46 + y_48 + y_49 + y_50 + y_51 + y_55 + y_56 + y_57 + y_58 + y_61 + y_67 + y_72 + y_76 + y_87 + y_88 + y_89 + y_9 + y_93 + y_94 + y_95 + y_98 + y_99, y_100 + y_102 + y_103 + y_107 + y_109 + y_11 + y_112 + y_113 + y_115 + y_116 + y_119 + y_120 + y_121 + y_126 + y_129 + y_131 + y_14 + y_141 + y_142 + y_145 + y_147 + y_152 + y_153 + y_156 + y_158 + y_16 + y_161 + y_163 + y_165 + y_169 + y_18 + y_2 + y_21 + y_22 + y_3 + y_37 + y_38 + y_41 + y_43 + y_46 + y_49 + y_50 + y_51 + y_52 + y_53 + y_56 + y_57 + y_58 + y_59 + y_60 + y_65 + y_66 + y_7 + y_70 + y_71 + y_74 + y_75 + y_77 + y_8 + y_80 + y_85 + y_86 + y_87 + y_88 + y_89 + y_93 + y_95 + y_98, y_1 + y_10 + y_101 + y_102 + y_105 + y_109 + y_11 + y_110 + y_111 + y_113 + y_114 + y_115 + y_117 + y_118 + y_119 + y_12 + y_120 + y_123 + y_124 + y_126 + y_13 + y_131 + y_132 + y_133 + y_134 + y_135 + y_136 + y_14 + y_140 + y_142 + y_143 + y_147 + y_149 + y_151 + y_154 + y_16 + y_160 + y_161 + y_165 + y_166 + y_167 + y_173 + y_18 + y_19 + y_2 + y_20 + y_23 + y_25 + y_27 + y_3 + y_31 + y_32 + y_36 + y_38 + y_43 + y_47 + y_48 + y_49 + y_54 + y_55 + y_56 + y_58 + y_6 + y_61 + y_62 + y_64 + y_73 + y_76 + y_82 + y_84 + y_86 + y_87 + y_89 + y_90 + y_91 + y_92 + y_93 + y_95 + y_96 + y_97, y_0 + y_103 + y_105 + y_106 + y_107 + y_110 + y_111 + y_112 + y_113 + y_115 + y_117 + y_12 + y_125 + y_127 + y_128 + y_129 + y_132 + y_133 + y_134 + y_135 + y_136 + y_138 + y_143 + y_148 + y_149 + y_15 + y_150 + y_152 + y_154 + y_155 + y_156 + y_159 + y_160 + y_161 + y_164 + y_167 + y_168 + y_17 + y_170 + y_171 + y_172 + y_173 + y_174 + y_19 + y_2 + y_22 + y_24 + y_26 + y_27 + y_29 + y_3 + y_30 + y_33 + y_35 + y_37 + y_39 + y_41 + y_42 + y_44 + y_45 + y_46 + y_49 + y_5 + y_51 + y_52 + y_53 + y_54 + y_56 + y_58 + y_59 + y_6 + y_60 + y_61 + y_63 + y_64 + y_66 + y_67 + y_69 + y_70 + y_71 + y_72 + y_73 + y_74 + y_78 + y_79 + y_8 + y_80 + y_82 + y_83 + y_9 + y_91 + y_93 + y_95, y_0 + y_10 + y_100 + y_102 + y_103 + y_104 + y_108 + y_11 + y_110 + y_111 + y_113 + y_116 + y_119 + y_12 + y_121 + y_124 + y_125 + y_129 + y_130 + y_131 + y_133 + y_134 + y_135 + y_137 + y_140 + y_141 + y_146 + y_149 + y_15 + y_155 + y_156 + y_158 + y_16 + y_162 + y_163 + y_165 + y_168 + y_170 + y_171 + y_172 + y_173 + y_19 + y_2 + y_20 + y_21 + y_23 + y_24 + y_26 + y_27 + y_28 + y_3 + y_30 + y_31 + y_33 + y_34 + y_36 + y_37 + y_38 + y_41 + y_42 + y_44 + y_45 + y_46 + y_48 + y_5 + y_50 + y_51 + y_54 + y_55 + y_59 + y_6 + y_68 + y_7 + y_70 + y_73 + y_74 + y_79 + y_82 + y_85 + y_86 + y_87 + y_88 + y_89 + y_9 + y_90 + y_92 + y_93 + y_96 + y_97 + y_99, y_0 + y_1 + y_10 + y_102 + y_105 + y_106 + y_108 + y_11 + y_111 + y_113 + y_115 + y_116 + y_124 + y_125 + y_128 + y_13 + y_134 + y_135 + y_136 + y_137 + y_14 + y_140 + y_143 + y_144 + y_146 + y_149 + y_15 + y_151 + y_152 + y_155 + y_162 + y_164 + y_167 + y_17 + y_171 + y_18 + y_19 + y_2 + y_22 + y_25 + y_26 + y_27 + y_28 + y_3 + y_30 + y_31 + y_33 + y_36 + y_37 + y_4 + y_40 + y_42 + y_45 + y_47 + y_5 + y_51 + y_52 + y_55 + y_58 + y_59 + y_6 + y_62 + y_64 + y_65 + y_68 + y_69 + y_70 + y_73 + y_74 + y_76 + y_77 + y_79 + y_82 + y_83 + y_84 + y_87 + y_88 + y_9 + y_97 + y_98 + y_99, y_0 + y_100 + y_102 + y_103 + y_106 + y_107 + y_109 + y_112 + y_113 + y_114 + y_115 + y_116 + y_117 + y_119 + y_120 + y_122 + y_124 + y_125 + y_128 + y_129 + y_131 + y_137 + y_139 + y_141 + y_143 + y_145 + y_146 + y_148 + y_149 + y_150 + y_152 + y_154 + y_155 + y_156 + y_159 + y_160 + y_161 + y_164 + y_167 + y_168 + y_170 + y_171 + y_172 + y_173 + y_174 + y_46 + y_47 + y_49 + y_51 + y_53 + y_55 + y_56 + y_58 + y_60 + y_65 + y_67 + y_74 + y_76 + y_77 + y_78 + y_81 + y_82 + y_83 + y_91 + y_92 + y_93 + y_94 + y_95 + y_97 + y_98, y_1 + y_112 + y_121 + y_125 + y_128 + y_129 + y_150 + y_152 + y_163 + y_168 + y_172 + y_18 + y_20 + y_21 + y_23 + y_31 + y_32 + y_33 + y_36 + y_37 + y_38 + y_40 + y_41 + y_43 + y_46 + y_5 + y_6 + y_70 + y_74 + y_77 + y_78 + y_8, y_0 + y_1 + y_10 + y_102 + y_103 + y_104 + y_106 + y_107 + y_108 + y_109 + y_110 + y_111 + y_112 + y_124 + y_125 + y_126 + y_128 + y_129 + y_130 + y_131 + y_132 + y_133 + y_14 + y_15 + y_150 + y_151 + y_152 + y_153 + y_155 + y_156 + y_157 + y_158 + y_159 + y_160 + y_161 + y_164 + y_166 + y_167 + y_168 + y_17 + y_170 + y_174 + y_18 + y_21 + y_22 + y_24 + y_31 + y_32 + y_33 + y_35 + y_39 + y_42 + y_46 + y_6 + y_7 + y_73 + y_74 + y_75 + y_77 + y_78 + y_79 + y_80 + y_81 + y_82 + y_83 + y_9, y_100 + y_101 + y_106 + y_107 + y_108 + y_109 + y_110 + y_111 + y_112 + y_113 + y_117 + y_118 + y_124 + y_126 + y_127 + y_128 + y_129 + y_130 + y_132 + y_135 + y_138 + y_139 + y_140 + y_142 + y_143 + y_150 + y_151 + y_153 + y_154 + y_155 + y_156 + y_157 + y_159 + y_162 + y_163 + y_164 + y_165 + y_166 + y_167 + y_18 + y_23 + y_24 + y_25 + y_29 + y_30 + y_31 + y_34 + y_35 + y_40 + y_41 + y_42 + y_43 + y_44 + y_45 + y_84 + y_89 + y_90 + y_91 + y_95 + y_96 + y_97, y_1 + y_10 + y_100 + y_107 + y_109 + y_11 + y_112 + y_113 + y_114 + y_116 + y_118 + y_12 + y_121 + y_122 + y_129 + y_13 + y_130 + y_131 + y_132 + y_137 + y_138 + y_139 + y_145 + y_147 + y_148 + y_15 + y_155 + y_157 + y_158 + y_159 + y_168 + y_169 + y_170 + y_173 + y_174 + y_18 + y_2 + y_20 + y_22 + y_24 + y_25 + y_26 + y_28 + y_3 + y_30 + y_31 + y_35 + y_4 + y_40 + y_42 + y_45 + y_46 + y_48 + y_50 + y_53 + y_56 + y_57 + y_60 + y_61 + y_63 + y_66 + y_68 + y_72 + y_80 + y_81 + y_83 + y_85 + y_88 + y_89 + y_9 + y_92 + y_95 + y_99, y_0 + y_100 + y_101 + y_107 + y_108 + y_115 + y_116 + y_117 + y_118 + y_120 + y_121 + y_122 + y_123 + y_125 + y_128 + y_129 + y_130 + y_134 + y_142 + y_143 + y_145 + y_146 + y_147 + y_149 + y_150 + y_153 + y_154 + y_156 + y_157 + y_158 + y_160 + y_161 + y_163 + y_164 + y_172 + y_174 + y_49 + y_50 + y_52 + y_64 + y_65 + y_66 + y_67 + y_69 + y_70 + y_71 + y_72 + y_74 + y_77 + y_78 + y_79 + y_83 + y_85 + y_86 + y_88 + y_95 + y_96, y_10 + y_101 + y_105 + y_108 + y_11 + y_111 + y_12 + y_123 + y_127 + y_13 + y_139 + y_14 + y_143 + y_15 + y_150 + y_157 + y_161 + y_164 + y_174 + y_20 + y_21 + y_26 + y_27 + y_33 + y_37 + y_83 + y_90 + y_96, y_1 + y_119 + y_120 + y_121 + y_124 + y_125 + y_127 + y_128 + y_130 + y_133 + y_151 + y_152 + y_154 + y_155 + y_157 + y_160 + y_162 + y_167 + y_171 + y_174 + y_18 + y_20 + y_22 + y_24 + y_3 + y_31 + y_33 + y_35 + y_40 + y_45 + y_46 + y_5 + y_55 + y_58 + y_59 + y_68 + y_69 + y_70 + y_73 + y_77, y_116 + y_121 + y_125 + y_134 + y_137 + y_141 + y_144 + y_150 + y_161 + y_168 + y_19 + y_20 + y_21 + y_26 + y_27 + y_28 + y_31 + y_33 + y_36 + y_37 + y_4 + y_5 + y_6 + y_65 + y_70 + y_74, y_10 + y_100 + y_102 + y_105 + y_109 + y_110 + y_111 + y_114 + y_115 + y_117 + y_12 + y_123 + y_127 + y_13 + y_132 + y_135 + y_136 + y_138 + y_14 + y_150 + y_154 + y_159 + y_16 + y_160 + y_161 + y_17 + y_172 + y_26 + y_27 + y_29 + y_35 + y_39 + y_44 + y_84 + y_85 + y_86 + y_87 + y_89 + y_90 + y_91 + y_93 + y_95 + y_97 + y_98, y_100 + y_11 + y_114 + y_116 + y_117 + y_12 + y_121 + y_128 + y_129 + y_134 + y_135 + y_137 + y_138 + y_156 + y_16 + y_168 + y_19 + y_2 + y_22 + y_25 + y_28 + y_29 + y_4 + y_41 + y_47 + y_49 + y_50 + y_53 + y_63 + y_65 + y_66 + y_7 + y_70 + y_77 + y_78 + y_83 + y_84 + y_85 + y_86 + y_89 + y_92, y_1 + y_10 + y_100 + y_110 + y_112 + y_113 + y_115 + y_116 + y_118 + y_119 + y_12 + y_120 + y_121 + y_123 + y_124 + y_126 + y_127 + y_128 + y_129 + y_13 + y_130 + y_131 + y_132 + y_133 + y_134 + y_135 + y_136 + y_137 + y_139 + y_143 + y_146 + y_150 + y_153 + y_156 + y_158 + y_159 + y_16 + y_166 + y_17 + y_170 + y_172 + y_174 + y_2 + y_25 + y_27 + y_28 + y_30 + y_31 + y_32 + y_33 + y_35 + y_36 + y_38 + y_39 + y_40 + y_41 + y_42 + y_43 + y_44 + y_45 + y_46 + y_48 + y_49 + y_53 + y_55 + y_58 + y_59 + y_6 + y_61 + y_62 + y_64 + y_65 + y_67 + y_7 + y_75 + y_78 + y_80 + y_81 + y_84 + y_85 + y_86 + y_89 + y_9 + y_90 + y_92 + y_96, y_100 + y_101 + y_103 + y_105 + y_106 + y_107 + y_108 + y_110 + y_112 + y_113 + y_114 + y_115 + y_118 + y_12 + y_120 + y_121 + y_125 + y_127 + y_128 + y_13 + y_130 + y_134 + y_137 + y_138 + y_139 + y_141 + y_142 + y_143 + y_144 + y_146 + y_147 + y_148 + y_15 + y_152 + y_153 + y_154 + y_155 + y_156 + y_157 + y_161 + y_162 + y_163 + y_166 + y_167 + y_168 + y_169 + y_17 + y_170 + y_171 + y_172 + y_174 + y_19 + y_2 + y_20 + y_22 + y_24 + y_28 + y_29 + y_3 + y_30 + y_33 + y_34 + y_35 + y_40 + y_41 + y_44 + y_45 + y_46 + y_48 + y_50 + y_51 + y_52 + y_53 + y_55 + y_57 + y_58 + y_61 + y_7 + y_70 + y_71 + y_72 + y_74 + y_75 + y_76 + y_77 + y_79 + y_8 + y_80 + y_81 + y_85 + y_86 + y_88 + y_9 + y_90 + y_92 + y_93 + y_94 + y_95 + y_97 + y_98, y_0 + y_113 + y_114 + y_115 + y_116 + y_120 + y_123 + y_125 + y_127 + y_130 + y_133 + y_134 + y_135 + y_137 + y_138 + y_140 + y_141 + y_142 + y_144 + y_145 + y_147 + y_150 + y_151 + y_152 + y_153 + y_157 + y_159 + y_160 + y_161 + y_163 + y_164 + y_166 + y_167 + y_168 + y_170 + y_171 + y_173 + y_174 + y_25 + y_26 + y_27 + y_28 + y_32 + y_35 + y_37 + y_39 + y_42 + y_45 + y_62 + y_63 + y_64 + y_65 + y_69 + y_72 + y_74 + y_76 + y_79 + y_82, y_150 + y_168 + y_174 + y_2 + y_3 + y_4 + y_47 + y_5 + y_50 + y_52 + y_54 + y_55 + y_57 + y_59 + y_61 + y_62 + y_63 + y_65 + y_67 + y_70 + y_72, y_100 + y_101 + y_103 + y_107 + y_108 + y_112 + y_113 + y_114 + y_115 + y_116 + y_117 + y_118 + y_119 + y_120 + y_121 + y_122 + y_123 + y_124 + y_128 + y_131 + y_133 + y_134 + y_137 + y_141 + y_145 + y_146 + y_150 + y_152 + y_156 + y_157 + y_162 + y_169 + y_171 + y_18 + y_20 + y_21 + y_22 + y_23 + y_24 + y_25 + y_26 + y_27 + y_28 + y_29 + y_3 + y_30 + y_32 + y_34 + y_35 + y_37 + y_4 + y_41 + y_42 + y_46 + y_48 + y_49 + y_5 + y_50 + y_52 + y_55 + y_56 + y_58 + y_59 + y_60 + y_61 + y_63 + y_64 + y_66 + y_67 + y_68 + y_69 + y_7 + y_70 + y_71 + y_72 + y_74 + y_78 + y_79 + y_83 + y_84 + y_86 + y_87 + y_88 + y_89 + y_90 + y_91 + y_92 + y_93 + y_94 + y_95 + y_96 + y_98, y_10 + y_100 + y_101 + y_102 + y_109 + y_111 + y_112 + y_114 + y_115 + y_117 + y_118 + y_12 + y_120 + y_122 + y_123 + y_124 + y_13 + y_131 + y_133 + y_135 + y_137 + y_139 + y_140 + y_141 + y_143 + y_145 + y_146 + y_147 + y_148 + y_151 + y_152 + y_154 + y_156 + y_157 + y_158 + y_159 + y_161 + y_162 + y_167 + y_168 + y_169 + y_171 + y_172 + y_173 + y_174 + y_18 + y_19 + y_20 + y_25 + y_28 + y_30 + y_31 + y_33 + y_35 + y_40 + y_45 + y_83 + y_92 + y_93 + y_95 + y_96 + y_98, y_107 + y_109 + y_11 + y_110 + y_113 + y_116 + y_118 + y_129 + y_130 + y_131 + y_132 + y_145 + y_147 + y_148 + y_16 + y_168 + y_169 + y_170 + y_172 + y_173 + y_174 + y_19 + y_22 + y_23 + y_29 + y_41 + y_43 + y_84 + y_88 + y_90, y_1 + y_10 + y_109 + y_11 + y_110 + y_111 + y_112 + y_113 + y_118 + y_119 + y_12 + y_123 + y_128 + y_130 + y_133 + y_134 + y_135 + y_139 + y_144 + y_146 + y_147 + y_148 + y_149 + y_150 + y_158 + y_159 + y_16 + y_160 + y_168 + y_169 + y_17 + y_170 + y_171 + y_172 + y_173 + y_18 + y_19 + y_2 + y_20 + y_22 + y_24 + y_25 + y_26 + y_28 + y_29 + y_3 + y_31 + y_34 + y_35 + y_40 + y_41 + y_42 + y_43 + y_44 + y_45 + y_46 + y_47 + y_5 + y_54 + y_55 + y_61 + y_68 + y_7 + y_72 + y_77 + y_79 + y_8 + y_80 + y_81 + y_82 + y_83 + y_84 + y_90 + y_91 + y_96, y_0 + y_10 + y_107 + y_110 + y_12 + y_137 + y_139 + y_15 + y_156 + y_159 + y_16 + y_168 + y_17 + y_174 + y_2 + y_26 + y_31 + y_33 + y_34 + y_35 + y_5 + y_52 + y_54 + y_70 + y_72 + y_94 + y_96, y_100 + y_101 + y_102 + y_103 + y_104 + y_105 + y_150 + y_157 + y_159 + y_161 + y_164 + y_166 + y_31 + y_33 + y_34 + y_35 + y_36 + y_37 + y_38 + y_39 + y_5 + y_50 + y_51 + y_6 + y_70 + y_71 + y_74 + y_75 + y_97 + y_99, y_0 + y_112 + y_134 + y_161 + y_168 + y_172 + y_174 + y_46 + y_47 + y_49 + y_50 + y_52 + y_55 + y_56 + y_57 + y_59 + y_63 + y_64 + y_66 + y_67 + y_69 + y_70 + y_71 + y_72 + y_73 + y_74 + y_78 + y_79 + y_80 + y_82 + y_83, y_0 + y_100 + y_102 + y_104 + y_106 + y_107 + y_110 + y_111 + y_114 + y_115 + y_116 + y_117 + y_118 + y_119 + y_123 + y_124 + y_127 + y_128 + y_130 + y_131 + y_132 + y_134 + y_135 + y_138 + y_140 + y_142 + y_144 + y_145 + y_148 + y_149 + y_158 + y_159 + y_160 + y_165 + y_166 + y_167 + y_169 + y_170 + y_171 + y_172 + y_20 + y_21 + y_22 + y_23 + y_24 + y_31 + y_34 + y_36 + y_38 + y_40 + y_41 + y_44 + y_45 + y_5 + y_50 + y_51 + y_52 + y_53 + y_54 + y_6 + y_63 + y_64 + y_65 + y_66 + y_67 + y_68 + y_7 + y_72 + y_73 + y_76 + y_77 + y_79 + y_8 + y_80 + y_81 + y_83 + y_86 + y_87 + y_88 + y_89 + y_9 + y_90 + y_97, y_112 + y_46, y_107 + y_108 + y_113 + y_114 + y_116 + y_117 + y_118 + y_12 + y_121 + y_129 + y_13 + y_130 + y_136 + y_137 + y_138 + y_139 + y_140 + y_141 + y_142 + y_143 + y_150 + y_152 + y_155 + y_156 + y_157 + y_16 + y_163 + y_164 + y_168 + y_17 + y_172 + y_174 + y_19 + y_20 + y_23 + y_24 + y_26 + y_27 + y_31 + y_32 + y_34 + y_35 + y_38 + y_39 + y_91 + y_92 + y_94 + y_95 + y_96 + y_99, y_0 + y_1 + y_100 + y_101 + y_103 + y_105 + y_107 + y_110 + y_13 + y_134 + y_137 + y_144 + y_146 + y_15 + y_150 + y_152 + y_156 + y_157 + y_161 + y_162 + y_164 + y_169 + y_17 + y_170 + y_172 + y_2 + y_33 + y_40 + y_42 + y_47 + y_49 + y_5 + y_51 + y_52 + y_53 + y_54 + y_62 + y_63 + y_67 + y_68 + y_69 + y_70 + y_71 + y_72 + y_73 + y_76 + y_77 + y_79 + y_80 + y_81 + y_82 + y_9 + y_92 + y_94 + y_96 + y_97 + y_98 + y_99, y_101 + y_102 + y_103 + y_108 + y_111 + y_115 + y_116 + y_118 + y_120 + y_121 + y_123 + y_125 + y_126 + y_128 + y_129 + y_130 + y_132 + y_134 + y_136 + y_137 + y_139 + y_140 + y_141 + y_146 + y_149 + y_150 + y_153 + y_156 + y_159 + y_163 + y_165 + y_168 + y_170 + y_172 + y_173 + y_46 + y_51 + y_52 + y_54 + y_58 + y_59 + y_61 + y_64 + y_65 + y_67 + y_75 + y_78 + y_81 + y_83 + y_87 + y_88 + y_90 + y_98 + y_99, y_0 + y_1 + y_10 + y_102 + y_104 + y_109 + y_11 + y_112 + y_113 + y_115 + y_124 + y_14 + y_140 + y_142 + y_147 + y_16 + y_161 + y_165 + y_172 + y_18 + y_19 + y_2 + y_25 + y_27 + y_29 + y_36 + y_4 + y_43 + y_46 + y_47 + y_49 + y_51 + y_62 + y_64 + y_73 + y_84 + y_85 + y_87 + y_91 + y_93 + y_95, y_0 + y_1 + y_101 + y_103 + y_105 + y_106 + y_107 + y_110 + y_111 + y_12 + y_13 + y_137 + y_139 + y_14 + y_141 + y_143 + y_144 + y_149 + y_15 + y_150 + y_155 + y_156 + y_159 + y_16 + y_160 + y_161 + y_162 + y_163 + y_166 + y_167 + y_168 + y_169 + y_17 + y_173 + y_174 + y_2 + y_25 + y_26 + y_27 + y_33 + y_34 + y_35 + y_37 + y_38 + y_39 + y_40 + y_43 + y_45 + y_5 + y_52 + y_54 + y_6 + y_70 + y_72 + y_74 + y_76 + y_77 + y_82 + y_83 + y_94 + y_96 + y_99, y_1 + y_10 + y_102 + y_103 + y_104 + y_105 + y_106 + y_107 + y_108 + y_109 + y_11 + y_111 + y_112 + y_113 + y_115 + y_116 + y_119 + y_12 + y_120 + y_121 + y_126 + y_127 + y_129 + y_13 + y_130 + y_131 + y_133 + y_141 + y_15 + y_152 + y_16 + y_161 + y_163 + y_164 + y_17 + y_19 + y_20 + y_21 + y_22 + y_23 + y_24 + y_27 + y_3 + y_32 + y_36 + y_37 + y_38 + y_39 + y_4 + y_46 + y_47 + y_48 + y_49 + y_5 + y_50 + y_52 + y_53 + y_54 + y_56 + y_57 + y_60 + y_61 + y_65 + y_7 + y_70 + y_78 + y_79 + y_8 + y_84 + y_87 + y_88 + y_9 + y_91 + y_93 + y_94 + y_97 + y_98 + y_99, y_1 + y_102 + y_103 + y_107 + y_109 + y_11 + y_112 + y_113 + y_116 + y_12 + y_128 + y_134 + y_14 + y_140 + y_141 + y_145 + y_147 + y_16 + y_161 + y_162 + y_168 + y_169 + y_172 + y_18 + y_19 + y_2 + y_27 + y_29 + y_36 + y_4 + y_43 + y_46 + y_47 + y_49 + y_52 + y_62 + y_65 + y_77 + y_84 + y_85 + y_88 + y_93 + y_94 + y_95, y_1 + y_10 + y_106 + y_107 + y_112 + y_113 + y_114 + y_117 + y_119 + y_13 + y_131 + y_134 + y_137 + y_144 + y_145 + y_155 + y_16 + y_168 + y_169 + y_2 + y_25 + y_26 + y_29 + y_31 + y_4 + y_43 + y_46 + y_48 + y_49 + y_5 + y_50 + y_52 + y_53 + y_55 + y_56 + y_57 + y_60 + y_65 + y_70 + y_77 + y_78 + y_8 + y_83 + y_84 + y_86 + y_89 + y_91 + y_92 + y_95 + y_99, y_100 + y_107 + y_109 + y_117 + y_122 + y_129 + y_131 + y_134 + y_145 + y_150 + y_156 + y_16 + y_168 + y_23 + y_41 + y_95, y_0 + y_10 + y_100 + y_101 + y_104 + y_107 + y_11 + y_110 + y_112 + y_113 + y_116 + y_117 + y_118 + y_119 + y_121 + y_122 + y_123 + y_129 + y_132 + y_134 + y_14 + y_140 + y_141 + y_142 + y_143 + y_144 + y_147 + y_149 + y_15 + y_150 + y_151 + y_152 + y_153 + y_154 + y_155 + y_158 + y_16 + y_160 + y_161 + y_163 + y_166 + y_168 + y_169 + y_17 + y_172 + y_173 + y_174 + y_19 + y_2 + y_20 + y_22 + y_24 + y_25 + y_27 + y_28 + y_29 + y_30 + y_31 + y_32 + y_33 + y_34 + y_35 + y_37 + y_39 + y_4 + y_41 + y_44 + y_46 + y_48 + y_49 + y_5 + y_50 + y_51 + y_52 + y_54 + y_56 + y_57 + y_59 + y_61 + y_62 + y_64 + y_68 + y_69 + y_7 + y_74 + y_76 + y_77 + y_82 + y_85 + y_86 + y_89 + y_9 + y_91 + y_93 + y_94 + y_95 + y_96 + y_97 + y_98 + y_99, y_0 + y_1 + y_105 + y_110 + y_112 + y_113 + y_118 + y_12 + y_124 + y_127 + y_131 + y_132 + y_134 + y_14 + y_16 + y_161 + y_172 + y_19 + y_2 + y_21 + y_23 + y_3 + y_4 + y_46 + y_47 + y_48 + y_49 + y_51 + y_53 + y_54 + y_55 + y_6 + y_61 + y_62 + y_67 + y_73 + y_76 + y_8 + y_80 + y_81 + y_82 + y_83 + y_85 + y_87 + y_89 + y_96, y_101 + y_108 + y_124 + y_125 + y_127 + y_128 + y_130 + y_133 + y_140 + y_141 + y_143 + y_144 + y_146 + y_149 + y_151 + y_152 + y_154 + y_155 + y_157 + y_160 + y_164 + y_174 + y_46 + y_48 + y_49 + y_50 + y_52 + y_55 + y_58 + y_61 + y_62 + y_64 + y_67 + y_68 + y_69 + y_72 + y_74 + y_77 + y_79 + y_84 + y_88 + y_90 + y_91 + y_94 + y_96 + y_97 + y_99, y_103 + y_105 + y_107 + y_108 + y_110 + y_111 + y_15 + y_152 + y_154 + y_156 + y_157 + y_159 + y_160 + y_161 + y_162 + y_167 + y_168 + y_169 + y_17 + y_171 + y_172 + y_173 + y_174 + y_2 + y_33 + y_35 + y_37 + y_39 + y_41 + y_42 + y_44 + y_45 + y_47 + y_5 + y_51 + y_52 + y_53 + y_6 + y_68 + y_69 + y_70 + y_71 + y_74 + y_76 + y_78 + y_79 + y_8 + y_81 + y_82 + y_9, y_100 + y_101 + y_104 + y_105 + y_11 + y_112 + y_115 + y_116 + y_12 + y_120 + y_121 + y_125 + y_126 + y_127 + y_128 + y_129 + y_130 + y_134 + y_136 + y_137 + y_140 + y_141 + y_153 + y_154 + y_156 + y_157 + y_16 + y_161 + y_163 + y_164 + y_165 + y_167 + y_168 + y_17 + y_172 + y_174 + y_19 + y_20 + y_22 + y_23 + y_24 + y_25 + y_26 + y_28 + y_34 + y_35 + y_41 + y_42 + y_43 + y_45 + y_83 + y_84 + y_85 + y_86 + y_87 + y_89 + y_90 + y_92 + y_93, y_1 + y_10 + y_100 + y_101 + y_102 + y_105 + y_106 + y_108 + y_109 + y_11 + y_110 + y_114 + y_115 + y_116 + y_119 + y_12 + y_122 + y_124 + y_126 + y_128 + y_129 + y_13 + y_136 + y_137 + y_138 + y_139 + y_140 + y_142 + y_143 + y_144 + y_145 + y_146 + y_150 + y_151 + y_153 + y_155 + y_156 + y_159 + y_160 + y_165 + y_166 + y_167 + y_169 + y_17 + y_170 + y_171 + y_18 + y_19 + y_23 + y_25 + y_26 + y_29 + y_3 + y_30 + y_31 + y_34 + y_4 + y_43 + y_44 + y_45 + y_46 + y_5 + y_56 + y_57 + y_58 + y_59 + y_60 + y_64 + y_65 + y_66 + y_67 + y_69 + y_70 + y_71 + y_72 + y_73 + y_76 + y_77 + y_79 + y_80 + y_81 + y_83 + y_85 + y_86 + y_87 + y_88 + y_89 + y_9 + y_93 + y_94 + y_95 + y_96 + y_98 + y_99, y_0 + y_1 + y_107 + y_11 + y_113 + y_115 + y_117 + y_118 + y_126 + y_132 + y_134 + y_141 + y_144 + y_145 + y_146 + y_15 + y_163 + y_170 + y_172 + y_18 + y_2 + y_21 + y_23 + y_24 + y_37 + y_40 + y_41 + y_42 + y_49 + y_53 + y_6 + y_62 + y_64 + y_66 + y_67 + y_75 + y_8 + y_81 + y_85 + y_89 + y_9 + y_94, y_103 + y_105 + y_106 + y_108 + y_13 + y_15 + y_150 + y_151 + y_152 + y_161 + y_164 + y_167 + y_17 + y_174 + y_32 + y_37 + y_39 + y_46 + y_5 + y_50 + y_52 + y_54 + y_68 + y_7 + y_70 + y_79 + y_82 + y_9 + y_98 + y_99, y_1 + y_102 + y_103 + y_105 + y_108 + y_113 + y_115 + y_117 + y_12 + y_126 + y_127 + y_132 + y_133 + y_14 + y_140 + y_141 + y_143 + y_144 + y_145 + y_147 + y_148 + y_149 + y_161 + y_163 + y_164 + y_165 + y_166 + y_17 + y_170 + y_171 + y_174 + y_2 + y_25 + y_27 + y_29 + y_38 + y_39 + y_44 + y_45 + y_46 + y_48 + y_49 + y_51 + y_52 + y_55 + y_58 + y_6 + y_60 + y_62 + y_64 + y_66 + y_74 + y_75 + y_77 + y_78 + y_8 + y_85 + y_87 + y_90 + y_91 + y_94 + y_96, y_102 + y_104 + y_109 + y_113 + y_115 + y_117 + y_119 + y_120 + y_122 + y_126 + y_127 + y_132 + y_133 + y_134 + y_140 + y_142 + y_147 + y_150 + y_151 + y_153 + y_158 + y_161 + y_166 + y_167 + y_172 + y_173 + y_174 + y_18 + y_21 + y_23 + y_36 + y_38 + y_43 + y_83 + y_84 + y_87 + y_89, y_112 + y_134 + y_150 + y_172 + y_46 + y_56 + y_57 + y_58 + y_59 + y_64 + y_65 + y_66 + y_69 + y_70 + y_71 + y_73 + y_75 + y_77 + y_78, y_1 + y_100 + y_102 + y_109 + y_112 + y_115 + y_116 + y_118 + y_120 + y_121 + y_123 + y_124 + y_128 + y_133 + y_136 + y_137 + y_139 + y_140 + y_141 + y_142 + y_143 + y_145 + y_148 + y_150 + y_151 + y_152 + y_153 + y_154 + y_156 + y_159 + y_162 + y_165 + y_167 + y_169 + y_172 + y_173 + y_18 + y_19 + y_20 + y_26 + y_27 + y_29 + y_32 + y_34 + y_36 + y_4 + y_43 + y_47 + y_49 + y_5 + y_50 + y_55 + y_56 + y_57 + y_62 + y_63 + y_65 + y_66 + y_67 + y_68 + y_70 + y_71 + y_72 + y_77 + y_80 + y_82 + y_84 + y_85 + y_86 + y_92 + y_93 + y_95 + y_98, y_135 + y_137 + y_138 + y_144 + y_145 + y_147 + y_150 + y_151 + y_152 + y_153 + y_155 + y_156 + y_157 + y_158 + y_159 + y_160 + y_162 + y_163 + y_165 + y_168 + y_169 + y_170 + y_171 + y_173 + y_31 + y_33 + y_34 + y_40 + y_41 + y_43, y_100 + y_101 + y_106 + y_107 + y_108 + y_110 + y_112 + y_114 + y_116 + y_117 + y_120 + y_121 + y_125 + y_126 + y_128 + y_129 + y_136 + y_137 + y_138 + y_139 + y_141 + y_142 + y_144 + y_146 + y_147 + y_148 + y_150 + y_151 + y_153 + y_154 + y_155 + y_156 + y_157 + y_161 + y_162 + y_163 + y_164 + y_166 + y_168 + y_169 + y_170 + y_171 + y_174 + y_20 + y_22 + y_23 + y_26 + y_28 + y_29 + y_31 + y_34 + y_35 + y_40 + y_41 + y_42 + y_44 + y_46 + y_5 + y_50 + y_52 + y_53 + y_63 + y_65 + y_66 + y_69 + y_7 + y_70 + y_74 + y_75 + y_77 + y_78 + y_8 + y_83 + y_86 + y_88 + y_89 + y_92 + y_94 + y_95 + y_97, y_0 + y_12 + y_13 + y_15 + y_17 + y_19 + y_2 + y_20 + y_22 + y_24 + y_25 + y_29 + y_3 + y_30 + y_31 + y_34 + y_35 + y_4 + y_40 + y_41 + y_42 + y_44 + y_5 + y_7 + y_8, y_0 + y_1 + y_10 + y_100 + y_103 + y_107 + y_11 + y_112 + y_113 + y_114 + y_115 + y_117 + y_118 + y_120 + y_121 + y_122 + y_123 + y_125 + y_128 + y_129 + y_13 + y_130 + y_134 + y_135 + y_137 + y_139 + y_14 + y_140 + y_141 + y_143 + y_144 + y_145 + y_146 + y_147 + y_148 + y_149 + y_15 + y_150 + y_151 + y_152 + y_154 + y_156 + y_158 + y_159 + y_16 + y_161 + y_164 + y_168 + y_170 + y_172 + y_19 + y_21 + y_22 + y_23 + y_24 + y_25 + y_26 + y_27 + y_28 + y_29 + y_3 + y_32 + y_33 + y_34 + y_35 + y_39 + y_42 + y_44 + y_45 + y_46 + y_47 + y_48 + y_5 + y_50 + y_51 + y_52 + y_53 + y_55 + y_57 + y_58 + y_6 + y_60 + y_61 + y_68 + y_7 + y_70 + y_72 + y_73 + y_74 + y_76 + y_77 + y_78 + y_79 + y_8 + y_80 + y_81 + y_82 + y_85 + y_86 + y_88 + y_91 + y_92 + y_93 + y_94 + y_95 + y_98, y_10 + y_100 + y_102 + y_103 + y_104 + y_106 + y_107 + y_108 + y_109 + y_110 + y_111 + y_112 + y_113 + y_114 + y_115 + y_117 + y_118 + y_119 + y_12 + y_121 + y_122 + y_124 + y_125 + y_126 + y_128 + y_129 + y_13 + y_130 + y_131 + y_132 + y_133 + y_136 + y_138 + y_139 + y_14 + y_15 + y_150 + y_151 + y_152 + y_153 + y_156 + y_157 + y_159 + y_160 + y_161 + y_17 + y_172 + y_174 + y_18 + y_19 + y_2 + y_20 + y_21 + y_22 + y_24 + y_27 + y_29 + y_3 + y_30 + y_32 + y_34 + y_35 + y_37 + y_38 + y_41 + y_42 + y_43 + y_44 + y_47 + y_50 + y_51 + y_53 + y_54 + y_55 + y_57 + y_58 + y_6 + y_60 + y_61 + y_69 + y_71 + y_72 + y_8 + y_83 + y_9 + y_91 + y_92 + y_93 + y_95 + y_96 + y_97 + y_99, y_101 + y_108 + y_13 + y_15 + y_150 + y_155 + y_156 + y_158 + y_159 + y_160 + y_170 + y_171 + y_172 + y_2 + y_31 + y_33 + y_34 + y_35 + y_41 + y_42 + y_5 + y_50 + y_54 + y_68 + y_71 + y_8 + y_81 + y_82 + y_83 + y_9 + y_97 + y_99, y_1 + y_10 + y_113 + y_114 + y_115 + y_117 + y_118 + y_119 + y_120 + y_123 + y_124 + y_126 + y_13 + y_131 + y_132 + y_133 + y_134 + y_14 + y_16 + y_161 + y_17 + y_174 + y_25 + y_26 + y_27 + y_29 + y_30 + y_31 + y_32 + y_35 + y_36 + y_38 + y_43 + y_44 + y_45 + y_47 + y_5 + y_50 + y_51 + y_53 + y_54 + y_55 + y_57 + y_58 + y_6 + y_60 + y_61 + y_62 + y_63 + y_64 + y_66 + y_67 + y_69 + y_72 + y_75 + y_8 + y_81 + y_83 + y_84 + y_86 + y_87 + y_89 + y_9 + y_90, y_107 + y_108 + y_11 + y_110 + y_111 + y_124 + y_125 + y_126 + y_128 + y_129 + y_131 + y_15 + y_161 + y_163 + y_164 + y_166 + y_167 + y_168 + y_17 + y_170 + y_171 + y_172 + y_173 + y_18 + y_21 + y_23 + y_37 + y_39 + y_40 + y_41 + y_44 + y_45 + y_48 + y_52 + y_54 + y_55 + y_58 + y_60 + y_74 + y_76 + y_77 + y_78 + y_81 + y_82 + y_83 + y_84 + y_88 + y_89, y_112 + y_113 + y_114 + y_117 + y_118 + y_123 + y_132 + y_19 + y_24 + y_3 + y_55 + y_57 + y_60 + y_61, y_0 + y_1 + y_10 + y_100 + y_101 + y_102 + y_106 + y_109 + y_11 + y_111 + y_112 + y_113 + y_114 + y_115 + y_117 + y_118 + y_119 + y_12 + y_120 + y_121 + y_122 + y_123 + y_124 + y_125 + y_128 + y_129 + y_13 + y_130 + y_131 + y_133 + y_135 + y_137 + y_140 + y_141 + y_144 + y_145 + y_146 + y_147 + y_149 + y_151 + y_152 + y_155 + y_156 + y_157 + y_158 + y_160 + y_161 + y_162 + y_169 + y_171 + y_172 + y_174 + y_18 + y_19 + y_2 + y_20 + y_22 + y_25 + y_28 + y_3 + y_31 + y_33 + y_40 + y_47 + y_48 + y_50 + y_51 + y_52 + y_53 + y_54 + y_55 + y_57 + y_58 + y_60 + y_61 + y_68 + y_7 + y_70 + y_73 + y_74 + y_77 + y_78 + y_79 + y_80 + y_82 + y_84 + y_85 + y_87 + y_88 + y_89 + y_90 + y_91 + y_92 + y_93 + y_94 + y_95 + y_96 + y_97 + y_98 + y_99, y_1 + y_10 + y_100 + y_106 + y_109 + y_11 + y_113 + y_114 + y_115 + y_116 + y_118 + y_119 + y_12 + y_120 + y_121 + y_123 + y_124 + y_128 + y_133 + y_134 + y_135 + y_136 + y_138 + y_139 + y_140 + y_141 + y_142 + y_144 + y_145 + y_146 + y_147 + y_148 + y_149 + y_15 + y_151 + y_152 + y_153 + y_155 + y_156 + y_157 + y_158 + y_159 + y_16 + y_160 + y_161 + y_162 + y_165 + y_169 + y_171 + y_173 + y_174 + y_18 + y_19 + y_2 + y_21 + y_22 + y_24 + y_25 + y_27 + y_29 + y_3 + y_30 + y_36 + y_37 + y_38 + y_40 + y_41 + y_42 + y_43 + y_44 + y_45 + y_46 + y_47 + y_48 + y_50 + y_52 + y_53 + y_55 + y_57 + y_58 + y_59 + y_6 + y_61 + y_68 + y_69 + y_71 + y_72 + y_73 + y_74 + y_75 + y_77 + y_78 + y_79 + y_8 + y_80 + y_81 + y_82 + y_83 + y_84 + y_85 + y_86 + y_9 + y_91 + y_92 + y_94 + y_95 + y_97 + y_99, y_10 + y_103 + y_106 + y_107 + y_11 + y_12 + y_121 + y_122 + y_123 + y_125 + y_126 + y_127 + y_128 + y_13 + y_130 + y_131 + y_132 + y_137 + y_138 + y_139 + y_14 + y_141 + y_142 + y_143 + y_144 + y_146 + y_147 + y_148 + y_155 + y_156 + y_157 + y_16 + y_162 + y_163 + y_164 + y_169 + y_170 + y_171 + y_172 + y_174 + y_22 + y_23 + y_24 + y_28 + y_29 + y_30 + y_33 + y_34 + y_35 + y_37 + y_38 + y_39 + y_40 + y_41 + y_44 + y_45 + y_47 + y_48 + y_49 + y_50 + y_51 + y_53 + y_59 + y_60 + y_61 + y_65 + y_66 + y_67 + y_70 + y_71 + y_72 + y_74 + y_75 + y_76 + y_77 + y_78 + y_81 + y_82 + y_83 + y_86 + y_87 + y_88 + y_89 + y_92 + y_93 + y_94 + y_95 + y_99, y_1 + y_124 + y_125 + y_126 + y_127 + y_128 + y_130 + y_131 + y_132 + y_133 + y_161 + y_163 + y_166 + y_169 + y_170 + y_172 + y_174 + y_18 + y_21 + y_24 + y_38 + y_43 + y_44 + y_6 + y_73 + y_74 + y_75 + y_76 + y_77 + y_79 + y_80 + y_81 + y_82 + y_9, y_0 + y_10 + y_102 + y_103 + y_114 + y_115 + y_119 + y_12 + y_121 + y_124 + y_125 + y_134 + y_136 + y_137 + y_140 + y_141 + y_15 + y_150 + y_151 + y_152 + y_162 + y_168 + y_18 + y_19 + y_22 + y_27 + y_28 + y_36 + y_37 + y_46 + y_47 + y_49 + y_52 + y_55 + y_56 + y_59 + y_64 + y_65 + y_73 + y_74 + y_92 + y_93 + y_97 + y_99, y_0 + y_113 + y_115 + y_116 + y_117 + y_118 + y_119 + y_120 + y_121 + y_122 + y_123 + y_124 + y_125 + y_126 + y_128 + y_130 + y_131 + y_132 + y_133 + y_135 + y_136 + y_137 + y_138 + y_139 + y_142 + y_145 + y_148 + y_150 + y_152 + y_156 + y_157 + y_161 + y_163 + y_168 + y_169 + y_170 + y_174 + y_18 + y_21 + y_22 + y_23 + y_24 + y_25 + y_27 + y_28 + y_29 + y_30 + y_37 + y_41 + y_42 + y_46 + y_55 + y_58 + y_59 + y_60 + y_61 + y_62 + y_64 + y_65 + y_66 + y_67 + y_74 + y_78 + y_79, y_1 + y_112 + y_113 + y_114 + y_115 + y_116 + y_118 + y_134 + y_150 + y_161 + y_168 + y_174 + y_18 + y_20 + y_21 + y_22 + y_24 + y_25 + y_26 + y_27 + y_28 + y_3 + y_30 + y_31 + y_36 + y_4 + y_40 + y_45 + y_5 + y_56 + y_6 + y_63 + y_64 + y_65 + y_67 + y_7 + y_9, y_0 + y_10 + y_11 + y_113 + y_117 + y_118 + y_124 + y_126 + y_127 + y_14 + y_140 + y_142 + y_143 + y_147 + y_149 + y_161 + y_19 + y_2 + y_21 + y_23 + y_24 + y_25 + y_27 + y_3 + y_38 + y_39 + y_4 + y_43 + y_45 + y_49 + y_51 + y_56 + y_58 + y_62 + y_64 + y_66 + y_67 + y_75 + y_76 + y_8 + y_85 + y_87 + y_9 + y_91 + y_93, y_0 + y_100 + y_101 + y_102 + y_105 + y_106 + y_108 + y_109 + y_110 + y_112 + y_113 + y_114 + y_118 + y_119 + y_123 + y_133 + y_134 + y_136 + y_137 + y_138 + y_140 + y_143 + y_144 + y_146 + y_147 + y_148 + y_151 + y_154 + y_155 + y_157 + y_158 + y_159 + y_161 + y_167 + y_168 + y_171 + y_172 + y_173 + y_174 + y_83 + y_84 + y_86 + y_90 + y_91 + y_92 + y_96 + y_98 + y_99, y_0 + y_103 + y_104 + y_105 + y_106 + y_109 + y_111 + y_113 + y_115 + y_119 + y_120 + y_125 + y_126 + y_127 + y_128 + y_131 + y_133 + y_134 + y_140 + y_141 + y_143 + y_144 + y_149 + y_150 + y_151 + y_152 + y_154 + y_155 + y_160 + y_161 + y_163 + y_165 + y_166 + y_169 + y_172 + y_173 + y_62 + y_64 + y_68 + y_69 + y_74 + y_75 + y_76 + y_77 + y_80 + y_82 + y_91 + y_93 + y_97 + y_98, y_0 + y_10 + y_101 + y_106 + y_11 + y_111 + y_112 + y_113 + y_114 + y_116 + y_118 + y_120 + y_123 + y_124 + y_125 + y_127 + y_130 + y_135 + y_137 + y_139 + y_144 + y_149 + y_15 + y_150 + y_151 + y_152 + y_154 + y_157 + y_162 + y_167 + y_17 + y_171 + y_174 + y_19 + y_21 + y_24 + y_25 + y_28 + y_30 + y_36 + y_37 + y_39 + y_42 + y_84 + y_86 + y_88 + y_90 + y_97 + y_99, y_100 + y_101 + y_104 + y_105 + y_109 + y_111 + y_112 + y_125 + y_126 + y_127 + y_129 + y_130 + y_131 + y_133 + y_150 + y_152 + y_153 + y_154 + y_156 + y_157 + y_158 + y_160 + y_163 + y_164 + y_165 + y_167 + y_169 + y_171 + y_48 + y_50 + y_53 + y_54 + y_59 + y_60 + y_61 + y_70 + y_71 + y_72 + y_78 + y_79 + y_80 + y_82 + y_87 + y_89 + y_90 + y_98, y_0 + y_10 + y_102 + y_103 + y_104 + y_105 + y_106 + y_107 + y_109 + y_11 + y_110 + y_111 + y_112 + y_113 + y_115 + y_116 + y_118 + y_119 + y_120 + y_121 + y_123 + y_134 + y_140 + y_141 + y_142 + y_143 + y_144 + y_145 + y_147 + y_148 + y_149 + y_15 + y_150 + y_151 + y_152 + y_153 + y_154 + y_155 + y_156 + y_158 + y_159 + y_16 + y_160 + y_168 + y_17 + y_172 + y_174 + y_19 + y_2 + y_20 + y_21 + y_22 + y_24 + y_25 + y_28 + y_29 + y_3 + y_30 + y_31 + y_33 + y_34 + y_35 + y_36 + y_37 + y_38 + y_39 + y_4 + y_41 + y_44 + y_46 + y_47 + y_5 + y_51 + y_52 + y_54 + y_55 + y_58 + y_59 + y_6 + y_61 + y_62 + y_64 + y_65 + y_67 + y_68 + y_69 + y_70 + y_72 + y_74 + y_75 + y_76 + y_78 + y_8 + y_80 + y_81 + y_83 + y_84 + y_87 + y_88 + y_90, y_0 + y_101 + y_104 + y_109 + y_11 + y_110 + y_113 + y_116 + y_117 + y_124 + y_125 + y_126 + y_128 + y_13 + y_130 + y_131 + y_132 + y_133 + y_135 + y_137 + y_138 + y_14 + y_140 + y_141 + y_142 + y_145 + y_146 + y_148 + y_149 + y_151 + y_152 + y_153 + y_155 + y_157 + y_158 + y_159 + y_16 + y_160 + y_161 + y_163 + y_168 + y_169 + y_17 + y_170 + y_174 + y_18 + y_19 + y_21 + y_22 + y_23 + y_24 + y_26 + y_27 + y_29 + y_3 + y_30 + y_31 + y_32 + y_33 + y_34 + y_35 + y_37 + y_41 + y_42 + y_46 + y_5 + y_55 + y_56 + y_58 + y_6 + y_61 + y_63 + y_64 + y_66 + y_67 + y_68 + y_69 + y_72 + y_75 + y_8 + y_80 + y_81 + y_83 + y_84 + y_85 + y_87 + y_9 + y_90 + y_92 + y_93 + y_95 + y_96 + y_97 + y_98, y_134 + y_150 + y_172 + y_49 + y_50 + y_53 + y_63 + y_67 + y_68 + y_71 + y_72 + y_81, y_103 + y_104 + y_112 + y_113 + y_114 + y_117 + y_12 + y_120 + y_124 + y_126 + y_137 + y_138 + y_14 + y_144 + y_145 + y_150 + y_152 + y_153 + y_162 + y_163 + y_168 + y_19 + y_21 + y_26 + y_28 + y_32 + y_37 + y_83 + y_85 + y_87 + y_94 + y_95, y_112 + y_114 + y_117 + y_123 + y_132 + y_135 + y_136 + y_137 + y_139 + y_142 + y_145 + y_147 + y_148 + y_150 + y_154 + y_157 + y_161 + y_166 + y_168 + y_170 + y_172 + y_174 + y_46 + y_57 + y_60 + y_63 + y_66 + y_69 + y_70 + y_75 + y_78, y_0 + y_101 + y_102 + y_103 + y_106 + y_108 + y_111 + y_112 + y_119 + y_120 + y_123 + y_125 + y_128 + y_130 + y_134 + y_135 + y_136 + y_139 + y_141 + y_144 + y_146 + y_150 + y_161 + y_168 + y_174 + y_46 + y_47 + y_51 + y_54 + y_68 + y_69 + y_72 + y_74 + y_77 + y_79 + y_83 + y_84 + y_87 + y_90 + y_91 + y_93 + y_96 + y_97 + y_98, y_101 + y_102 + y_103 + y_104 + y_105 + y_108 + y_110 + y_112 + y_113 + y_116 + y_118 + y_119 + y_121 + y_123 + y_128 + y_129 + y_131 + y_132 + y_133 + y_134 + y_140 + y_141 + y_143 + y_146 + y_150 + y_151 + y_152 + y_154 + y_157 + y_161 + y_162 + y_163 + y_165 + y_166 + y_167 + y_170 + y_171 + y_172 + y_18 + y_19 + y_20 + y_22 + y_23 + y_24 + y_27 + y_3 + y_30 + y_32 + y_35 + y_36 + y_37 + y_38 + y_39 + y_4 + y_42 + y_44 + y_48 + y_49 + y_5 + y_50 + y_51 + y_52 + y_53 + y_55 + y_56 + y_57 + y_6 + y_60 + y_64 + y_65 + y_69 + y_7 + y_70 + y_73 + y_75 + y_77 + y_78 + y_8 + y_83 + y_84 + y_85 + y_86 + y_88 + y_89 + y_90 + y_93 + y_96 + y_98, y_10 + y_100 + y_103 + y_104 + y_106 + y_107 + y_11 + y_112 + y_120 + y_123 + y_125 + y_126 + y_130 + y_132 + y_14 + y_153 + y_154 + y_159 + y_16 + y_160 + y_163 + y_164 + y_165 + y_166 + y_170 + y_171 + y_172 + y_174 + y_2 + y_21 + y_24 + y_38 + y_39 + y_44 + y_45 + y_46 + y_50 + y_52 + y_53 + y_6 + y_69 + y_72 + y_74 + y_75 + y_79 + y_81 + y_83 + y_86 + y_88 + y_89 + y_9 + y_97 + y_98, y_120 + y_122 + y_124 + y_125 + y_127 + y_129 + y_131 + y_132 + y_136 + y_138 + y_140 + y_141 + y_143 + y_145 + y_147 + y_148 + y_150 + y_151 + y_158 + y_162 + y_167 + y_168 + y_169 + y_173 + y_174 + y_20 + y_21 + y_22 + y_23 + y_24 + y_26 + y_27 + y_28 + y_29 + y_30 + y_31 + y_36 + y_40 + y_43 + y_45 + y_5 + y_6 + y_69 + y_7 + y_71 + y_73 + y_74 + y_76 + y_78 + y_8 + y_80 + y_81 + y_9, y_0 + y_1 + y_101 + y_105 + y_11 + y_110 + y_111 + y_113 + y_114 + y_118 + y_12 + y_123 + y_13 + y_134 + y_135 + y_136 + y_138 + y_139 + y_14 + y_140 + y_143 + y_147 + y_148 + y_149 + y_150 + y_154 + y_159 + y_16 + y_17 + y_174 + y_18 + y_2 + y_20 + y_24 + y_25 + y_26 + y_30 + y_32 + y_34 + y_36 + y_39 + y_43 + y_44 + y_49 + y_5 + y_54 + y_62 + y_63 + y_67 + y_72 + y_83 + y_85 + y_9 + y_90 + y_91 + y_92 + y_93 + y_95, y_0 + y_10 + y_109 + y_11 + y_111 + y_126 + y_127 + y_129 + y_130 + y_165 + y_167 + y_169 + y_171 + y_172 + y_174 + y_2 + y_21 + y_22 + y_3 + y_36 + y_40 + y_46 + y_48 + y_53 + y_54 + y_55 + y_58 + y_59 + y_6 + y_60 + y_61 + y_7 + y_75 + y_76 + y_78 + y_79 + y_89 + y_90, y_0 + y_10 + y_102 + y_103 + y_104 + y_106 + y_107 + y_108 + y_109 + y_110 + y_111 + y_124 + y_125 + y_126 + y_128 + y_129 + y_130 + y_131 + y_132 + y_133 + y_14 + y_15 + y_151 + y_152 + y_153 + y_155 + y_156 + y_157 + y_158 + y_159 + y_160 + y_164 + y_166 + y_167 + y_17 + y_170 + y_174 + y_18 + y_21 + y_22 + y_24 + y_31 + y_32 + y_33 + y_35 + y_37 + y_38 + y_39 + y_41 + y_43 + y_44 + y_46 + y_47 + y_51 + y_52 + y_54 + y_55 + y_58 + y_59 + y_61 + y_68 + y_69 + y_70 + y_72 + y_74 + y_75 + y_76 + y_78 + y_80 + y_81, y_112 + y_121 + y_122 + y_123 + y_125 + y_126 + y_127 + y_130 + y_132 + y_133 + y_46 + y_47 + y_50 + y_51 + y_52 + y_53 + y_70 + y_71 + y_72 + y_74 + y_75 + y_76 + y_79 + y_81 + y_82 + y_84 + y_86 + y_87 + y_88 + y_89]\n",
            "{z_0: y_0, z_0*z_1: y_1, z_0*z_1*z_2: y_2, z_0*z_1*z_3: y_3, z_0*z_1*z_4: y_4, z_0*z_1*z_5: y_5, z_0*z_1*z_6: y_6, z_0*z_1*z_7: y_7, z_0*z_1*z_8: y_8, z_0*z_1*z_9: y_9, z_0*z_2: y_10, z_0*z_2*z_3: y_11, z_0*z_2*z_4: y_12, z_0*z_2*z_5: y_13, z_0*z_2*z_6: y_14, z_0*z_2*z_7: y_15, z_0*z_2*z_8: y_16, z_0*z_2*z_9: y_17, z_0*z_3: y_18, z_0*z_3*z_4: y_19, z_0*z_3*z_5: y_20, z_0*z_3*z_6: y_21, z_0*z_3*z_7: y_22, z_0*z_3*z_8: y_23, z_0*z_3*z_9: y_24, z_0*z_4: y_25, z_0*z_4*z_5: y_26, z_0*z_4*z_6: y_27, z_0*z_4*z_7: y_28, z_0*z_4*z_8: y_29, z_0*z_4*z_9: y_30, z_0*z_5: y_31, z_0*z_5*z_6: y_32, z_0*z_5*z_7: y_33, z_0*z_5*z_8: y_34, z_0*z_5*z_9: y_35, z_0*z_6: y_36, z_0*z_6*z_7: y_37, z_0*z_6*z_8: y_38, z_0*z_6*z_9: y_39, z_0*z_7: y_40, z_0*z_7*z_8: y_41, z_0*z_7*z_9: y_42, z_0*z_8: y_43, z_0*z_8*z_9: y_44, z_0*z_9: y_45, z_1: y_46, z_1*z_2: y_47, z_1*z_2*z_3: y_48, z_1*z_2*z_4: y_49, z_1*z_2*z_5: y_50, z_1*z_2*z_6: y_51, z_1*z_2*z_7: y_52, z_1*z_2*z_8: y_53, z_1*z_2*z_9: y_54, z_1*z_3: y_55, z_1*z_3*z_4: y_56, z_1*z_3*z_5: y_57, z_1*z_3*z_6: y_58, z_1*z_3*z_7: y_59, z_1*z_3*z_8: y_60, z_1*z_3*z_9: y_61, z_1*z_4: y_62, z_1*z_4*z_5: y_63, z_1*z_4*z_6: y_64, z_1*z_4*z_7: y_65, z_1*z_4*z_8: y_66, z_1*z_4*z_9: y_67, z_1*z_5: y_68, z_1*z_5*z_6: y_69, z_1*z_5*z_7: y_70, z_1*z_5*z_8: y_71, z_1*z_5*z_9: y_72, z_1*z_6: y_73, z_1*z_6*z_7: y_74, z_1*z_6*z_8: y_75, z_1*z_6*z_9: y_76, z_1*z_7: y_77, z_1*z_7*z_8: y_78, z_1*z_7*z_9: y_79, z_1*z_8: y_80, z_1*z_8*z_9: y_81, z_1*z_9: y_82, z_2: y_83, z_2*z_3: y_84, z_2*z_3*z_4: y_85, z_2*z_3*z_5: y_86, z_2*z_3*z_6: y_87, z_2*z_3*z_7: y_88, z_2*z_3*z_8: y_89, z_2*z_3*z_9: y_90, z_2*z_4: y_91, z_2*z_4*z_5: y_92, z_2*z_4*z_6: y_93, z_2*z_4*z_7: y_94, z_2*z_4*z_8: y_95, z_2*z_4*z_9: y_96, z_2*z_5: y_97, z_2*z_5*z_6: y_98, z_2*z_5*z_7: y_99, z_2*z_5*z_8: y_100, z_2*z_5*z_9: y_101, z_2*z_6: y_102, z_2*z_6*z_7: y_103, z_2*z_6*z_8: y_104, z_2*z_6*z_9: y_105, z_2*z_7: y_106, z_2*z_7*z_8: y_107, z_2*z_7*z_9: y_108, z_2*z_8: y_109, z_2*z_8*z_9: y_110, z_2*z_9: y_111, z_3: y_112, z_3*z_4: y_113, z_3*z_4*z_5: y_114, z_3*z_4*z_6: y_115, z_3*z_4*z_7: y_116, z_3*z_4*z_8: y_117, z_3*z_4*z_9: y_118, z_3*z_5: y_119, z_3*z_5*z_6: y_120, z_3*z_5*z_7: y_121, z_3*z_5*z_8: y_122, z_3*z_5*z_9: y_123, z_3*z_6: y_124, z_3*z_6*z_7: y_125, z_3*z_6*z_8: y_126, z_3*z_6*z_9: y_127, z_3*z_7: y_128, z_3*z_7*z_8: y_129, z_3*z_7*z_9: y_130, z_3*z_8: y_131, z_3*z_8*z_9: y_132, z_3*z_9: y_133, z_4: y_134, z_4*z_5: y_135, z_4*z_5*z_6: y_136, z_4*z_5*z_7: y_137, z_4*z_5*z_8: y_138, z_4*z_5*z_9: y_139, z_4*z_6: y_140, z_4*z_6*z_7: y_141, z_4*z_6*z_8: y_142, z_4*z_6*z_9: y_143, z_4*z_7: y_144, z_4*z_7*z_8: y_145, z_4*z_7*z_9: y_146, z_4*z_8: y_147, z_4*z_8*z_9: y_148, z_4*z_9: y_149, z_5: y_150, z_5*z_6: y_151, z_5*z_6*z_7: y_152, z_5*z_6*z_8: y_153, z_5*z_6*z_9: y_154, z_5*z_7: y_155, z_5*z_7*z_8: y_156, z_5*z_7*z_9: y_157, z_5*z_8: y_158, z_5*z_8*z_9: y_159, z_5*z_9: y_160, z_6: y_161, z_6*z_7: y_162, z_6*z_7*z_8: y_163, z_6*z_7*z_9: y_164, z_6*z_8: y_165, z_6*z_8*z_9: y_166, z_6*z_9: y_167, z_7: y_168, z_7*z_8: y_169, z_7*z_8*z_9: y_170, z_7*z_9: y_171, z_8: y_172, z_8*z_9: y_173, z_9: y_174}\n"
          ]
        }
      ]
    },
    {
      "cell_type": "code",
      "source": [
        "len(linearization)"
      ],
      "metadata": {
        "colab": {
          "base_uri": "https://localhost:8080/"
        },
        "id": "L-KAD4zTAPGT",
        "outputId": "4aa821db-0fcd-4218-95cf-d8df2ad9cc19"
      },
      "execution_count": null,
      "outputs": [
        {
          "output_type": "execute_result",
          "data": {
            "text/plain": [
              "150"
            ]
          },
          "metadata": {},
          "execution_count": 12
        }
      ]
    },
    {
      "cell_type": "code",
      "source": [
        "sol = gaussian_elimination(linearization)\n",
        "print(check_consistency(s, sol.args[0], map))\n",
        "print(sol)"
      ],
      "metadata": {
        "colab": {
          "base_uri": "https://localhost:8080/"
        },
        "id": "52J_efiWERgG",
        "outputId": "493ef3d2-2cf6-4e59-ddae-355a2cb15b4c"
      },
      "execution_count": null,
      "outputs": [
        {
          "output_type": "stream",
          "name": "stdout",
          "text": [
            "False\n",
            "{(3931789778391794710779342214744778859499993448630289028275432669215977599084742771*y_174/89724275981703427882700406219263756397308775061326591976523746924532142282606824730, -16337482190133239913232273113608363083308823154510652535341462861832512405780938197*y_174/179448551963406855765400812438527512794617550122653183953047493849064284565213649460, -10150218914497914362502584331730360503273099680332651779312851541469393119641102417*y_174/11963236797560457051026720829235167519641170008176878930203166256604285637680909964, 41879179575404947930190810498084207007825783581967995167818766235373652562244849019*y_174/59816183987802285255133604146175837598205850040884394651015831283021428188404549820, 39301958981766806977079128630650702502849853130021865027323880935757064304966804917*y_174/89724275981703427882700406219263756397308775061326591976523746924532142282606824730, 13803040315109150379122344582010718565251082733178130906217386162247182010862499139*y_174/59816183987802285255133604146175837598205850040884394651015831283021428188404549820, -30835786025224620485857256331804008311820655815217711502893359717967475535274480249*y_174/29908091993901142627566802073087918799102925020442197325507915641510714094202274910, 6967182289930606686085052679927674848676129255099332716138315126595754819337044804*y_174/44862137990851713941350203109631878198654387530663295988261873462266071141303412365, -11893083294733411684006415813581898664011525436435027255295566916094148313703924787*y_174/59816183987802285255133604146175837598205850040884394651015831283021428188404549820, 195942294007154977548869499877888023553061486559834293433043755107880644346880980907*y_174/179448551963406855765400812438527512794617550122653183953047493849064284565213649460, 70109038801066920474472285254144057476523004101615872165189269166281399632942624143*y_174/89724275981703427882700406219263756397308775061326591976523746924532142282606824730, -149462866468628692334064756657717226447044466095713032618288015570961820706745151043*y_174/179448551963406855765400812438527512794617550122653183953047493849064284565213649460, 197070677265725226204258103338951892508761300528244635550377198157916983857241520947*y_174/179448551963406855765400812438527512794617550122653183953047493849064284565213649460, 68389071720105055596561696903450971611465912983228911715404572983473225514776458711*y_174/89724275981703427882700406219263756397308775061326591976523746924532142282606824730, 18966518659742363067172922334233482374365414461238344115761656327029610278179875299*y_174/44862137990851713941350203109631878198654387530663295988261873462266071141303412365, 39897417628403571376812120183536182749671513642513749013668616532584212397206446561*y_174/59816183987802285255133604146175837598205850040884394651015831283021428188404549820, -33584026625762456418428906350280567922932691178871676850472828826020370458594781631*y_174/59816183987802285255133604146175837598205850040884394651015831283021428188404549820, -38764289957287226583100350049904247218218399809016675667412927155647021045682741023*y_174/44862137990851713941350203109631878198654387530663295988261873462266071141303412365, 28256382482461768657657037853056588079600650045570738346587812801562777665240144351*y_174/59816183987802285255133604146175837598205850040884394651015831283021428188404549820, -3070312268905295427633369594644460774407473321146610541366447005245062817128323703*y_174/5981618398780228525513360414617583759820585004088439465101583128302142818840454982, 39263760254708727133512388931413611080053062601724979177276284463439032464009635367*y_174/59816183987802285255133604146175837598205850040884394651015831283021428188404549820, 64574707688655866213585980803956626344758382891699968824791118018344496995768939143*y_174/179448551963406855765400812438527512794617550122653183953047493849064284565213649460, -574040045096664399505891236841985849057227533879324005389908212865003681379332917*y_174/11963236797560457051026720829235167519641170008176878930203166256604285637680909964, 10072490697223422389604428059116916053722895948409836795293099358311462223895396993*y_174/35889710392681371153080162487705502558923510024530636790609498769812856913042729892, -47760479446735240454495596812647855607918325553876560255764005251261469777417652207*y_174/59816183987802285255133604146175837598205850040884394651015831283021428188404549820, -239797323360105215848977149443972029463046029695115258329228300528662956385019937949*y_174/179448551963406855765400812438527512794617550122653183953047493849064284565213649460, -136915079815554252122732866947328600039624451019771533663124829442905404191859294127*y_174/179448551963406855765400812438527512794617550122653183953047493849064284565213649460, 62389057521135099312280419337536924475547058691350442543046298794977212174987358117*y_174/89724275981703427882700406219263756397308775061326591976523746924532142282606824730, 8089730384325282864543000978938126938061401231894566163517191991290232975696049253*y_174/14954045996950571313783401036543959399551462510221098662753957820755357047101137455, 189155868692877814121914603096296464362937619305169899259547052779363493672367348059*y_174/179448551963406855765400812438527512794617550122653183953047493849064284565213649460, 10647550657409608311468490085545280267409141460767988068686398763446296468902914919*y_174/59816183987802285255133604146175837598205850040884394651015831283021428188404549820, -22954370094612234168935685214433047797890571021876450969413172480016067046979809111*y_174/29908091993901142627566802073087918799102925020442197325507915641510714094202274910, 3131987245568448113322248112506331612092335123311313379752671295332857231965571875*y_174/35889710392681371153080162487705502558923510024530636790609498769812856913042729892, -9045293573796540673732671864578348014655990463819526131150897726178462108501482427*y_174/29908091993901142627566802073087918799102925020442197325507915641510714094202274910, 38337632078237728794788951000389008362800617492180004367178467720468648164873630409*y_174/179448551963406855765400812438527512794617550122653183953047493849064284565213649460, 202978675112654865615263351421602117088188017751692205654985221874574464837789415339*y_174/179448551963406855765400812438527512794617550122653183953047493849064284565213649460, 71009070380674156861462236980345080847837154605573823188068025279356348668158617933*y_174/179448551963406855765400812438527512794617550122653183953047493849064284565213649460, -26034312642590098265750792240724031210533212807407980150534126885789386973125825333*y_174/11963236797560457051026720829235167519641170008176878930203166256604285637680909964, 82703468837646663055349951439914930790374909197347247631550934979788252253363237497*y_174/179448551963406855765400812438527512794617550122653183953047493849064284565213649460, 123807918271597775417385410934734048921469150421098189472198539353005645460095177973*y_174/179448551963406855765400812438527512794617550122653183953047493849064284565213649460, -61137490136718614531537493054178678114380139004556979223148069118100608943716172551*y_174/89724275981703427882700406219263756397308775061326591976523746924532142282606824730, 101801735839064737611608561045937412580978042406005581730619337966356830182744611143*y_174/179448551963406855765400812438527512794617550122653183953047493849064284565213649460, 86764176267158262188773331417684173669261336618129500235272848457450786030722894143*y_174/89724275981703427882700406219263756397308775061326591976523746924532142282606824730, 5774894822767711748529065279182289318574131459437828374566206558169837802212700237*y_174/14954045996950571313783401036543959399551462510221098662753957820755357047101137455, -503670532220386396499177335512565903910164065034101975634447660326145323061562467321*y_174/179448551963406855765400812438527512794617550122653183953047493849064284565213649460, -42924821798873227306110404766507198151522510453680048700099638595803860024692438253*y_174/35889710392681371153080162487705502558923510024530636790609498769812856913042729892, 2984529469917129711663355222839703402835219072228483858102501353493486511201438073*y_174/8972427598170342788270040621926375639730877506132659197652374692453214228260682473, 11304830269605110169337886144841330853512188447729441032120652804954264357311730501*y_174/59816183987802285255133604146175837598205850040884394651015831283021428188404549820, 16673699916770826413770499328994771675886286000757261371038632094768407242839045497*y_174/29908091993901142627566802073087918799102925020442197325507915641510714094202274910, -30720212010814501566203767057364709585451190491810896812818255000232939133449343593*y_174/89724275981703427882700406219263756397308775061326591976523746924532142282606824730, -28975823129135054107261171528521624876834016297227596928446587929402586352629185387*y_174/59816183987802285255133604146175837598205850040884394651015831283021428188404549820, 79324458686414037419068484125575649101681736974632417653742059694032525312783880677*y_174/179448551963406855765400812438527512794617550122653183953047493849064284565213649460, 1220945166182026367142079193146201310021660314885116865396893020168916048422002943*y_174/17944855196340685576540081243852751279461755012265318395304749384906428456521364946, 8115989687618133902179565872456941355234810091578104929500389219871062621062217553*y_174/179448551963406855765400812438527512794617550122653183953047493849064284565213649460, -108405366874170774032184818538252277189394639086996102366175555669937717348672994309*y_174/89724275981703427882700406219263756397308775061326591976523746924532142282606824730, -29363370900813193719977567521337409805070791377428036386552537983583481680477800901*y_174/29908091993901142627566802073087918799102925020442197325507915641510714094202274910, 12300573944946111818520050732519562944080379166231395505281053822221973595647463803*y_174/44862137990851713941350203109631878198654387530663295988261873462266071141303412365, 35668436711602547178800050633662166640030668096489489368258885376382909616470578387*y_174/89724275981703427882700406219263756397308775061326591976523746924532142282606824730, 23005627530853045055104779568821755055552498853124540796361144488990852656866709881*y_174/59816183987802285255133604146175837598205850040884394651015831283021428188404549820, -2447133885093014272736847983156516639980862530431116126096852776711930270603596415*y_174/5981618398780228525513360414617583759820585004088439465101583128302142818840454982, 58333083314947578378626185417645288185634949749853856450682167844469639005903467833*y_174/89724275981703427882700406219263756397308775061326591976523746924532142282606824730, 80031187340381137513346002079599957953571617278445829957879930704598091290064439839*y_174/89724275981703427882700406219263756397308775061326591976523746924532142282606824730, -9736212671103406259773537900397708692262656200216151024379817358835924501354330165*y_174/17944855196340685576540081243852751279461755012265318395304749384906428456521364946, 2110074336213002798374351156775266329432732803348010594232396615010745184295254679*y_174/8972427598170342788270040621926375639730877506132659197652374692453214228260682473, 18880322276526984711583254389242030203375312841401994771934477836593729190249088883*y_174/29908091993901142627566802073087918799102925020442197325507915641510714094202274910, -18974458338033874774311087202747547254728415160427410202445112896526690047073288053*y_174/35889710392681371153080162487705502558923510024530636790609498769812856913042729892, -84880569502051036848240991346062965694971494269438834548737893053852675458328765483*y_174/59816183987802285255133604146175837598205850040884394651015831283021428188404549820, 80527281904843188215735111210465832252184489553734234536810620155830300014928880381*y_174/179448551963406855765400812438527512794617550122653183953047493849064284565213649460, -2673586328288852297410739118441105531849245205009162246896375655794762036753232467*y_174/17944855196340685576540081243852751279461755012265318395304749384906428456521364946, 5042116530275256589170303590397376423739422369276692465577846063619955194088463106*y_174/8972427598170342788270040621926375639730877506132659197652374692453214228260682473, 108811802975167784696757663929160380908023531374784884312455260484653180932824827067*y_174/59816183987802285255133604146175837598205850040884394651015831283021428188404549820, -37027163110964795585086883483994531637724872989347000400121586302462743434764989976*y_174/44862137990851713941350203109631878198654387530663295988261873462266071141303412365, -12429833835713997598016048027557557909285469781678709802290419620770671120036383771*y_174/29908091993901142627566802073087918799102925020442197325507915641510714094202274910, -148573685856968293574519857405745124024616049061410303841590897112359709620683068323*y_174/179448551963406855765400812438527512794617550122653183953047493849064284565213649460, 247305340621999312816730757887329388068712458814189336238771518387703975179124586549*y_174/179448551963406855765400812438527512794617550122653183953047493849064284565213649460, -19577930740907217845917509396680807469787775416305485385260377795731817519832171402*y_174/44862137990851713941350203109631878198654387530663295988261873462266071141303412365, -72157903426005929744908684375034941902536956351999314666099855990959817885745394819*y_174/179448551963406855765400812438527512794617550122653183953047493849064284565213649460, 22028313719811796421213388738602054521615409135227021829013896781521500892315520601*y_174/29908091993901142627566802073087918799102925020442197325507915641510714094202274910, -185386680052211033848107185689203155710529479378599585193089240158510749659278834947*y_174/179448551963406855765400812438527512794617550122653183953047493849064284565213649460, -82268959502677675155602302935298358890774409208634919945428183218461671146083257399*y_174/59816183987802285255133604146175837598205850040884394651015831283021428188404549820, 102451664118515216407971982814469871244805330260769052616043246950218918063650350549*y_174/89724275981703427882700406219263756397308775061326591976523746924532142282606824730, 48641167690718011331255220956563327993033467687172610108998500313219400921550667647*y_174/59816183987802285255133604146175837598205850040884394651015831283021428188404549820, -3429924556094026581941854752355722161126597385292446301581253584988518835796406517*y_174/44862137990851713941350203109631878198654387530663295988261873462266071141303412365, -6628950087639400942798138045786830609370869087693902876169301251813150611351819658*y_174/14954045996950571313783401036543959399551462510221098662753957820755357047101137455, 269456800945260837017543511687403395440223907716671244716107747249677309442436064377*y_174/179448551963406855765400812438527512794617550122653183953047493849064284565213649460, 59013157980447994554307295094043606002534148928063053510853509886257619361232166597*y_174/179448551963406855765400812438527512794617550122653183953047493849064284565213649460, -60883911533665981465656593345927261338997271336775970914928773554866394159517478021*y_174/59816183987802285255133604146175837598205850040884394651015831283021428188404549820, -103062524734736978769175470627067634819101801407865349961773773947881615936943354751*y_174/179448551963406855765400812438527512794617550122653183953047493849064284565213649460, -26802943683595527726995313821546542405843025746578272062962664622499693055061825669*y_174/35889710392681371153080162487705502558923510024530636790609498769812856913042729892, 6339442924052490188282577639505418289331604143709149265673145948311230095706422613*y_174/8972427598170342788270040621926375639730877506132659197652374692453214228260682473, -10424158578758588436744544024429143619720978484872796193288811893506417564688716848*y_174/8972427598170342788270040621926375639730877506132659197652374692453214228260682473, -85745317576029445445140472838068422304276369385623172363790189652020360804061150893*y_174/89724275981703427882700406219263756397308775061326591976523746924532142282606824730, -176012470362886790471609442559744053330115569546333189570690126613763960262930077347*y_174/179448551963406855765400812438527512794617550122653183953047493849064284565213649460, -20604712097816674912996729556913899714602111822569028795983262401685292143812827141*y_174/44862137990851713941350203109631878198654387530663295988261873462266071141303412365, -7326872657157341788464429936053651277973918696542036455793793048193008824859784135*y_174/17944855196340685576540081243852751279461755012265318395304749384906428456521364946, 44053177694985172637276992999155402900870269722246866863830991958409623839567740677*y_174/29908091993901142627566802073087918799102925020442197325507915641510714094202274910, -62283862530195246723864181769570753795712229939695150131975230008076275591642233017*y_174/179448551963406855765400812438527512794617550122653183953047493849064284565213649460, -79040734242672706405408426248955680656530011208286512742570184977832069320822207743*y_174/179448551963406855765400812438527512794617550122653183953047493849064284565213649460, -15260557531374496229054752938459458113906052448839128562100153984437681687707670711*y_174/59816183987802285255133604146175837598205850040884394651015831283021428188404549820, -109078694122762399098935845378052677359245738291478370122444042157718042206006673653*y_174/179448551963406855765400812438527512794617550122653183953047493849064284565213649460, 38146250969011373635975902036358080194110619354026835988869450204770417995465327298*y_174/44862137990851713941350203109631878198654387530663295988261873462266071141303412365, -1955165133654751104471566198231650144819188007895239596235010819314378498710495413*y_174/8972427598170342788270040621926375639730877506132659197652374692453214228260682473, -44584523081411548644641190535406882262716563086920911564928178185096888772281168717*y_174/59816183987802285255133604146175837598205850040884394651015831283021428188404549820, 411470629736260244242469405875053246465939756466187653564610274630974889013211339*y_174/491639868392895495247673458735691815875664520883981325898760257120724067301955204, 17675662843629154539931143754371654747750008798165425725783363958429421663742295201*y_174/29908091993901142627566802073087918799102925020442197325507915641510714094202274910, -167376105746008356761321658505135253964076107418983867645065834274984138152267321699*y_174/179448551963406855765400812438527512794617550122653183953047493849064284565213649460, -1328881179611266285673470182209066185365171520838422415787356888284477004182680975*y_174/11963236797560457051026720829235167519641170008176878930203166256604285637680909964, -73590611164940480626640115506491754901621145368321408914580861962981054953327677613*y_174/89724275981703427882700406219263756397308775061326591976523746924532142282606824730, 18236239966467380335733370815515442779084480125699265535363236831399496837534980291*y_174/29908091993901142627566802073087918799102925020442197325507915641510714094202274910, -86979054365154157434044134819855202923713796534531255549279233166552302491551696463*y_174/179448551963406855765400812438527512794617550122653183953047493849064284565213649460, 29850387049539200674025369867714247975078601610446301720715300978320568148019234743*y_174/89724275981703427882700406219263756397308775061326591976523746924532142282606824730, 38030936839730227337344729838874797812211577433493629138534335287726871522581120979*y_174/59816183987802285255133604146175837598205850040884394651015831283021428188404549820, -2984529469917129711663355222839703402835219072228483858102501353493486511201438073*y_174/8972427598170342788270040621926375639730877506132659197652374692453214228260682473, -100923928954470362945239848447048708809775068577567659802307516080509445946126978613*y_174/89724275981703427882700406219263756397308775061326591976523746924532142282606824730, 9992888439270328681253292624625973751165720822056291101813097958218645433155309752*y_174/14954045996950571313783401036543959399551462510221098662753957820755357047101137455, -23674977588511169804483503631258512361222511876577443570297778149471136304524121701*y_174/29908091993901142627566802073087918799102925020442197325507915641510714094202274910, 1235707949026379958865305155888025575600598651781809640375883766574350947488036194*y_174/2990809199390114262756680207308791879910292502044219732550791564151071409420227491, -142343194750755764419995763687741547964816509038440734056826395350842600560460739143*y_174/179448551963406855765400812438527512794617550122653183953047493849064284565213649460, 33046952719979888883495282628749650392215164663779041119566787027627549520264841924*y_174/44862137990851713941350203109631878198654387530663295988261873462266071141303412365, 40806416242149776218083215037972287762978736603846672593623343231818570886841012609*y_174/14954045996950571313783401036543959399551462510221098662753957820755357047101137455, -11702432870416133841331298955170031540763281910317307330484118228626848547501996099*y_174/14954045996950571313783401036543959399551462510221098662753957820755357047101137455, -8555549330290077159949991076884139161190061438679019046582614108139113248394633512*y_174/44862137990851713941350203109631878198654387530663295988261873462266071141303412365, -21277658060051071123791607035294559269883270234926450435091286888215092231284992295*y_174/35889710392681371153080162487705502558923510024530636790609498769812856913042729892, 7169364086738883956805935599422053944573250124263274676486132434772422905343828019*y_174/29908091993901142627566802073087918799102925020442197325507915641510714094202274910, 60859124211660184965657100573297519775647946797412586131133068800049786697348557779*y_174/44862137990851713941350203109631878198654387530663295988261873462266071141303412365, 11156908855401141329364121368211224975152966029303952823546136634423514841457120863*y_174/59816183987802285255133604146175837598205850040884394651015831283021428188404549820, 53754322148070782935802469101214521130975870866632008353421495734103342510054331361*y_174/89724275981703427882700406219263756397308775061326591976523746924532142282606824730, -9289617882441117700748554461733099831574989620948056986833818868326484399973487029*y_174/29908091993901142627566802073087918799102925020442197325507915641510714094202274910, -365509242768674615089532706895962049911325970919330689516878404943530697945916255809*y_174/179448551963406855765400812438527512794617550122653183953047493849064284565213649460, -47744314796301192151400326239430509140638706658868012237413331666579098485479863559*y_174/179448551963406855765400812438527512794617550122653183953047493849064284565213649460, -12516980267278393924164567290547417989698195696249285071475976428189141546149342613*y_174/44862137990851713941350203109631878198654387530663295988261873462266071141303412365, -30498958688800834094880437612951569708789870718262830641375959834454380008540089309*y_174/29908091993901142627566802073087918799102925020442197325507915641510714094202274910, 15543687912869552558040895026941608565078107312629434445017574539859229461038452979*y_174/59816183987802285255133604146175837598205850040884394651015831283021428188404549820, -15557416717590214554148796119551083020522254723208767399723506452355507043258876027*y_174/29908091993901142627566802073087918799102925020442197325507915641510714094202274910, 43001716826902499598078621275962581825864322960234641428148363583546974885915963301*y_174/59816183987802285255133604146175837598205850040884394651015831283021428188404549820, 71584935504414163589152378684539574555468004378748168160146261132423151227293935913*y_174/44862137990851713941350203109631878198654387530663295988261873462266071141303412365, 1726582806904367998477865651197107538923219375940668983372306468900070367391261093*y_174/14954045996950571313783401036543959399551462510221098662753957820755357047101137455, -79040916444861663232166119553784621604544637716476990635181719218913414291175911647*y_174/89724275981703427882700406219263756397308775061326591976523746924532142282606824730, -25116953073921737427818209395113529646396050100169524358599609069244600038148523869*y_174/89724275981703427882700406219263756397308775061326591976523746924532142282606824730, -77090908232899676015399640291170334058983840547870685032554418492928365933948482451*y_174/89724275981703427882700406219263756397308775061326591976523746924532142282606824730, 51720376067853340106660058371431570867647323375712303466321041523128504727459220213*y_174/89724275981703427882700406219263756397308775061326591976523746924532142282606824730, -5910957949604817768847592543842372967015119877803848559965705114736983093901117545*y_174/11963236797560457051026720829235167519641170008176878930203166256604285637680909964, -90073344629190047270890472391785774344783831403955373712072831614527534913606094027*y_174/89724275981703427882700406219263756397308775061326591976523746924532142282606824730, 23730539031977521090205305267323119974843939806034375911078039143894037447222094783*y_174/179448551963406855765400812438527512794617550122653183953047493849064284565213649460, 16337525287487858541948773984777883627347611134813761961433026747045472048573656379*y_174/11963236797560457051026720829235167519641170008176878930203166256604285637680909964, 3986716346905746186569524794418248084901052326752248368963231507297897127738500957*y_174/29908091993901142627566802073087918799102925020442197325507915641510714094202274910, -1452247106280557839563991538245114650271293542386312578025085444090646761131055849*y_174/59816183987802285255133604146175837598205850040884394651015831283021428188404549820, 34280739994935818777150976882774902996215878309537537046279430158886410749879591313*y_174/179448551963406855765400812438527512794617550122653183953047493849064284565213649460, 22121476624440824106461202025873280452037645613122230376559262152968679023228722723*y_174/17944855196340685576540081243852751279461755012265318395304749384906428456521364946, 392446190383542354143779453569585155747214926907433921723077098227026410250294176317*y_174/179448551963406855765400812438527512794617550122653183953047493849064284565213649460, -39517128634544464537416915848565343327033487120074808458100902015914741292665788987*y_174/59816183987802285255133604146175837598205850040884394651015831283021428188404549820, -7955535301139187410676679327911005609602653605033252595762455596066577775887972517*y_174/29908091993901142627566802073087918799102925020442197325507915641510714094202274910, -224630514435362534826373826844926476807813161659630621703936511088795674231147532057*y_174/179448551963406855765400812438527512794617550122653183953047493849064284565213649460, -19827501403983661347063889343425862226284098161766000489162081478160404164962283813*y_174/179448551963406855765400812438527512794617550122653183953047493849064284565213649460, -103237484362447966082732294024849248386929463058114001167235503075543253989758805897*y_174/179448551963406855765400812438527512794617550122653183953047493849064284565213649460, -181432981627893885738754467567898492647229691057023568276376612883428651405550373779*y_174/179448551963406855765400812438527512794617550122653183953047493849064284565213649460, 27177554812047933696306890801102200887730448262300358851590414926727710832497944449*y_174/17944855196340685576540081243852751279461755012265318395304749384906428456521364946, 3147709001407843943396341554465607085690095104899019558034483696982601608065839827*y_174/44862137990851713941350203109631878198654387530663295988261873462266071141303412365, -63695976138743015202219603195174823594914842799450978073515969423106661233385438239*y_174/35889710392681371153080162487705502558923510024530636790609498769812856913042729892, 29019664727011532203981452233318117444696521906343283531543632625149894746849337287*y_174/59816183987802285255133604146175837598205850040884394651015831283021428188404549820, -82387515439177555820950704884911023429575373486845240283582300296972051478127551691*y_174/179448551963406855765400812438527512794617550122653183953047493849064284565213649460, -19777017182999000679489604773864696196631928972708712575682087073585470956883089133*y_174/35889710392681371153080162487705502558923510024530636790609498769812856913042729892, -49047795154212338928749978955998830681092137972671111441026339724330541268366270563*y_174/59816183987802285255133604146175837598205850040884394651015831283021428188404549820, 28624599527780443891653066382207884794810855260194754380904415095528065184453808341*y_174/11963236797560457051026720829235167519641170008176878930203166256604285637680909964, 256248545354285711972931002703580839309292867622541308605411544227485968760260649901*y_174/179448551963406855765400812438527512794617550122653183953047493849064284565213649460, 11486850036918053633816327927613035756624151288622632253880653334682702324395791*y_174/29908091993901142627566802073087918799102925020442197325507915641510714094202274910, -37842779937403962799051362864705482304160422916237266492012940537469536086049780669*y_174/44862137990851713941350203109631878198654387530663295988261873462266071141303412365, 21374721894397029297182723257765048183381861997443773124464087185580215987170346977*y_174/17944855196340685576540081243852751279461755012265318395304749384906428456521364946, -60835961597686494489419604876575255711094970012332802237563146305615784165052825923*y_174/179448551963406855765400812438527512794617550122653183953047493849064284565213649460, 97911922098609812576794827960807359860381104713982404179783314304833154230877485581*y_174/179448551963406855765400812438527512794617550122653183953047493849064284565213649460, -5846067299838884539054319290705271348976211489976667493565731269191866071686974739*y_174/14954045996950571313783401036543959399551462510221098662753957820755357047101137455, 71598185950971962348409973637457214991103402186007257059394839263957545337184228839*y_174/59816183987802285255133604146175837598205850040884394651015831283021428188404549820, 11056938618411633909558978261571902345484232627858658670607206596262508828529811315*y_174/17944855196340685576540081243852751279461755012265318395304749384906428456521364946, -19807948363668495739075155202478584526120843723897190088712154076262679009971980661*y_174/29908091993901142627566802073087918799102925020442197325507915641510714094202274910, y_174)}\n"
          ]
        }
      ]
    },
    {
      "cell_type": "code",
      "source": [
        "s = sp.Matrix([random.randint(0, 1) for _ in range(n)])\n",
        "num_samples = 100 # int(sum([math.comb(n,i) for i in range(3)])*math.pow(2,6))\n",
        "z = sp.Matrix([sp.symbols(f'z_{i}') for i in range(n)])\n",
        "equations = []\n",
        "instance = oracle(s, n, m)\n",
        "polynomial = P\n",
        "for i in range(len(instance)):\n",
        "    a_i, b_i = instance[i]\n",
        "    rewritten_term = a_i.dot(z) + b_i\n",
        "    polynomial = polynomial.subs(sp.Symbol(f'x{i}'), rewritten_term)\n",
        "print(sp.expand(polynomial.as_expr()))"
      ],
      "metadata": {
        "colab": {
          "base_uri": "https://localhost:8080/"
        },
        "id": "Sao337R00ui5",
        "outputId": "c38f2568-bc19-45c1-d8ec-308f4435967b"
      },
      "execution_count": null,
      "outputs": [
        {
          "output_type": "stream",
          "name": "stdout",
          "text": [
            "z_0**3 + 2*z_0**2*z_2 + z_0**2*z_3 + 2*z_0**2*z_6 + 2*z_0**2*z_7 + 4*z_0**2 + z_0*z_2**2 + z_0*z_2*z_3 + 2*z_0*z_2*z_6 + 3*z_0*z_2*z_7 + 6*z_0*z_2 + z_0*z_3*z_6 + z_0*z_3*z_7 + 3*z_0*z_3 + z_0*z_6**2 + 3*z_0*z_6*z_7 + 6*z_0*z_6 + z_0*z_7**2 + 5*z_0*z_7 + 2*z_0 + z_2**2*z_7 + 2*z_2**2 + z_2*z_3*z_7 + 2*z_2*z_3 + 2*z_2*z_6*z_7 + 4*z_2*z_6 + z_2*z_7**2 + 4*z_2*z_7 + 2*z_2 + z_3*z_6*z_7 + 2*z_3*z_6 + z_3*z_7 + z_3 + z_6**2*z_7 + 2*z_6**2 + z_6*z_7**2 + 4*z_6*z_7 + 2*z_6 + z_7**2 + z_7\n"
          ]
        }
      ]
    },
    {
      "cell_type": "code",
      "source": [
        "z"
      ],
      "metadata": {
        "colab": {
          "base_uri": "https://localhost:8080/",
          "height": 220
        },
        "id": "XrAfU4cu2PbY",
        "outputId": "abe347a4-43c5-44ce-d49d-60967fedede1"
      },
      "execution_count": null,
      "outputs": [
        {
          "output_type": "execute_result",
          "data": {
            "text/plain": [
              "Matrix([\n",
              "[z_0],\n",
              "[z_1],\n",
              "[z_2],\n",
              "[z_3],\n",
              "[z_4],\n",
              "[z_5],\n",
              "[z_6],\n",
              "[z_7],\n",
              "[z_8],\n",
              "[z_9]])"
            ],
            "text/latex": "$\\displaystyle \\left[\\begin{matrix}z_{0}\\\\z_{1}\\\\z_{2}\\\\z_{3}\\\\z_{4}\\\\z_{5}\\\\z_{6}\\\\z_{7}\\\\z_{8}\\\\z_{9}\\end{matrix}\\right]$"
          },
          "metadata": {},
          "execution_count": 20
        }
      ]
    },
    {
      "cell_type": "code",
      "source": [
        "def key_constraint(polynomial, z, problem_instance):\n",
        "    for i in range(len(problem_instance)):\n",
        "        a_i, b_i = problem_instance[i]\n",
        "        rewritten_term = a_i.dot(z) + b_i\n",
        "        polynomial = polynomial.subs(sp.Symbol(f'x{i}'), rewritten_term)\n",
        "\n",
        "    expanded = sp.expand(polynomial.as_expr())\n",
        "    for z_i in z:\n",
        "        expanded = expanded.replace(sp.Pow(z_i, sp.Wild('k')), z_i)\n",
        "\n",
        "    expanded = sum((coef % 2) * term for term, coef in expanded.as_coefficients_dict().items())\n",
        "\n",
        "    return expanded\n"
      ],
      "metadata": {
        "id": "oejQNxsoO3Nx"
      },
      "execution_count": null,
      "outputs": []
    },
    {
      "cell_type": "code",
      "source": [
        "def linearize(expressions):\n",
        "    monomials = sorted({m for expr in expressions for m in expr.as_expr().as_ordered_terms()}, key=str)\n",
        "    monomial_to_var = {m: sp.Symbol(f'y_{i}') for i, m in enumerate(monomials)}\n",
        "    converted_exprs = [expr.subs(monomial_to_var) for expr in expressions]\n",
        "    return converted_exprs, monomial_to_var"
      ],
      "metadata": {
        "id": "5-tan7VbOtAF"
      },
      "execution_count": null,
      "outputs": []
    },
    {
      "cell_type": "code",
      "source": [
        "def substitute_solver(mapping, values):\n",
        "    equations = [sp.Eq(lhs, rhs) for lhs, rhs in mapping.items()]\n",
        "    equations += [sp.Eq(sp.Symbol(var), val) for var, val in values.items()]\n",
        "    return sp.solve(equations, dict=True)"
      ],
      "metadata": {
        "id": "aoLZj5Sxj71d"
      },
      "execution_count": null,
      "outputs": []
    },
    {
      "cell_type": "code",
      "source": [
        "def gaussian_elimination(constraints):\n",
        "    y_vars = sorted(list({sym for constraint in constraints for sym in constraint.free_symbols if sym.name.startswith('y_')}), key=lambda x: int(x.name.split('_')[1]))\n",
        "    system = sp.Matrix([[constraint.coeff(y) % 2 for y in y_vars] for constraint in constraints]) % 2\n",
        "    rhs = sp.Matrix([-(constraint - sum(constraint.coeff(y) * y for y in y_vars)) % 2 for constraint in constraints])\n",
        "    solution = sp.linsolve((system, rhs), *y_vars)\n",
        "\n",
        "    return solution\n"
      ],
      "metadata": {
        "id": "SnpsA3SozrL9"
      },
      "execution_count": null,
      "outputs": []
    },
    {
      "cell_type": "code",
      "source": [
        "print(map)"
      ],
      "metadata": {
        "colab": {
          "base_uri": "https://localhost:8080/"
        },
        "id": "xeU2qot_4Yvh",
        "outputId": "ab86482e-ddf4-4fca-b323-c9a08b97d923"
      },
      "execution_count": null,
      "outputs": [
        {
          "output_type": "stream",
          "name": "stdout",
          "text": [
            "{0: y_0, z_0: y_1, z_0*z_1: y_2, z_0*z_1*z_2: y_3, z_0*z_2: y_4, z_1: y_5, z_1*z_2: y_6, z_2: y_7}\n"
          ]
        }
      ]
    },
    {
      "cell_type": "markdown",
      "source": [
        "**To Do**:\n",
        "\n",
        "\n",
        "1.   Use a substituting function to extract what the secret key is guessed to be and verify whether it is the correct secret key.\n",
        "2.   Iterate over several values of m and num_samples to see if correct value is ever achieved.\n",
        "\n"
      ],
      "metadata": {
        "id": "XFdeuJlyp000"
      }
    },
    {
      "cell_type": "code",
      "source": [
        "def check_consistency(s, vector, mapping):\n",
        "    z_vals = {f\"z_{i}\": s[i, 0] for i in range(s.rows)}\n",
        "    y_vals = {}\n",
        "    for z_expr, y in mapping.items():\n",
        "        z_val = sp.expand(z_expr).subs(z_vals)\n",
        "        if y in y_vals and y_vals[y] != z_val:\n",
        "            return False\n",
        "        y_vals[y] = z_val\n",
        "    for i, term in enumerate(vector):\n",
        "        if term != 0:\n",
        "            evaluated = sp.expand(term).subs(y_vals) % 2\n",
        "            if evaluated != y_vals.get(sp.Symbol(f'y_{i}'), 0):\n",
        "                return False\n",
        "    return True"
      ],
      "metadata": {
        "id": "XGOVb9LSqppP"
      },
      "execution_count": null,
      "outputs": []
    },
    {
      "cell_type": "code",
      "source": [
        "# u_0, u_1, u_2 = sp.symbols('u_0,u_1,u_2,u_3,u_4,u_5,u_6')\n",
        "# polynomial = (u_0*u_1*u_2 + u_1*u_2*u_).as_poly(domain=sp.GF(2))\n",
        "s = sp.Matrix([random.randint(0, 1) for _ in range(n)])\n",
        "print(\"Secret key: \", s)\n",
        "num_samples = 100 # int(sum([math.comb(n,i) for i in range(3)])*math.pow(2,6))\n",
        "z = sp.Matrix([sp.symbols(f'z_{i}') for i in range(n)])\n",
        "equations = []\n",
        "for _ in range(num_samples):\n",
        "    instance = oracle(s, n, m)\n",
        "    eqn = key_constraint(P, z, instance)\n",
        "    equations.append(eqn)\n",
        "#print(equations)\n",
        "linearization, map = linearize(equations)\n",
        "sol = gaussian_elimination(linearization)\n",
        "print(check_consistency(s, sol.args[0], map))\n",
        "print(sol)"
      ],
      "metadata": {
        "colab": {
          "base_uri": "https://localhost:8080/"
        },
        "id": "diAggXpYBlwj",
        "outputId": "b9207cd7-a237-40c9-8fe9-60d8628dc1c4"
      },
      "execution_count": null,
      "outputs": [
        {
          "output_type": "execute_result",
          "data": {
            "text/plain": [
              "False"
            ]
          },
          "metadata": {},
          "execution_count": 61
        }
      ]
    },
    {
      "cell_type": "code",
      "source": [
        "m = 2\n",
        "for i in range ((m//3)+1, m+1):\n",
        "  print(i)"
      ],
      "metadata": {
        "colab": {
          "base_uri": "https://localhost:8080/"
        },
        "id": "3S_D3naVTP7S",
        "outputId": "2723a8db-75ca-4c08-8f0f-8901f91cb7f6"
      },
      "execution_count": null,
      "outputs": [
        {
          "output_type": "stream",
          "name": "stdout",
          "text": [
            "1\n",
            "2\n"
          ]
        }
      ]
    }
  ],
  "metadata": {
    "colab": {
      "provenance": [],
      "include_colab_link": true
    },
    "kernelspec": {
      "display_name": "Python 3",
      "name": "python3"
    },
    "language_info": {
      "name": "python"
    }
  },
  "nbformat": 4,
  "nbformat_minor": 0
}